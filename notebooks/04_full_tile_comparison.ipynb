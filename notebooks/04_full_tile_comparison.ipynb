{
 "cells": [
  {
   "cell_type": "code",
   "execution_count": 30,
   "id": "baec40cd",
   "metadata": {},
   "outputs": [],
   "source": [
    "import torch\n",
    "from torchvision.models.segmentation import deeplabv3_resnet101\n",
    "\n",
    "device = torch.device(\"cuda\" if torch.cuda.is_available() else \"cpu\")\n",
    "\n",
    "# Load the pretrained DeepLabV3+ model\n",
    "model = deeplabv3_resnet101(pretrained=True).eval().to(device)"
   ]
  },
  {
   "cell_type": "code",
   "execution_count": 31,
   "id": "ca554c17",
   "metadata": {},
   "outputs": [],
   "source": [
    "from torchvision import transforms\n",
    "\n",
    "preprocess = transforms.Compose([\n",
    "    transforms.ToTensor(),\n",
    "    transforms.Normalize(mean=[0.485, 0.456, 0.406],\n",
    "                         std=[0.229, 0.224, 0.225])\n",
    "])\n"
   ]
  },
  {
   "cell_type": "code",
   "execution_count": 32,
   "id": "f5f43b68",
   "metadata": {},
   "outputs": [
    {
     "name": "stdout",
     "output_type": "stream",
     "text": [
      "Using cuda\n",
      "Model loaded: DeepLabV3\n"
     ]
    }
   ],
   "source": [
    "print(\"Using\", device)\n",
    "print(\"Model loaded:\", model.__class__.__name__)\n"
   ]
  },
  {
   "cell_type": "code",
   "execution_count": 33,
   "id": "169c87e7",
   "metadata": {},
   "outputs": [],
   "source": [
    "import rasterio\n",
    "from rasterio.windows import Window\n",
    "import numpy as np\n",
    "\n",
    "def get_tiles(width, height, tile_size=512, stride=512):\n",
    "    for top in range(0, height, stride):\n",
    "        for left in range(0, width, stride):\n",
    "            # Calculate actual tile dimensions (may be smaller at edges)\n",
    "            actual_width = min(tile_size, width - left)\n",
    "            actual_height = min(tile_size, height - top)\n",
    "            \n",
    "            # Skip tiles that are too small\n",
    "            if actual_width < tile_size // 2 or actual_height < tile_size // 2:\n",
    "                continue\n",
    "                \n",
    "            yield Window(left, top, actual_width, actual_height), (left, top)"
   ]
  },
  {
   "cell_type": "code",
   "execution_count": 34,
   "id": "c6a2c8e8",
   "metadata": {},
   "outputs": [],
   "source": [
    "import numpy as np\n",
    "def segment_forest(model, crop):\n",
    "    # Get actual dimensions\n",
    "    bands, height, width = crop.shape\n",
    "    \n",
    "    # Pad to 512x512 if needed\n",
    "    if height != 512 or width != 512:\n",
    "        padded_crop = np.zeros((bands, 512, 512), dtype=crop.dtype)\n",
    "        padded_crop[:, :height, :width] = crop\n",
    "        crop = padded_crop\n",
    "    \n",
    "    rgb = np.transpose(crop[:3], (1, 2, 0)) / 255.0\n",
    "    rgb = rgb.astype(np.float32)\n",
    "    tensor = preprocess(rgb).unsqueeze(0).to(device)\n",
    "    \n",
    "    with torch.no_grad():\n",
    "        output = model(tensor)['out'][0]\n",
    "    \n",
    "    # Get only the valid region (crop back to original size)\n",
    "    mask = (output.argmax(0).cpu().numpy() == 21)\n",
    "    return mask[:height, :width]  # Return only the valid region"
   ]
  },
  {
   "cell_type": "code",
   "execution_count": 35,
   "id": "7572bd4d",
   "metadata": {},
   "outputs": [
    {
     "name": "stderr",
     "output_type": "stream",
     "text": [
      "0it [00:00, ?it/s]"
     ]
    },
    {
     "name": "stdout",
     "output_type": "stream",
     "text": [
      "Before crop shape: (4, 512, 512)\n",
      "After crop shape: (4, 512, 512)\n"
     ]
    },
    {
     "name": "stderr",
     "output_type": "stream",
     "text": [
      "1it [00:00,  5.90it/s]"
     ]
    },
    {
     "name": "stdout",
     "output_type": "stream",
     "text": [
      "Before mask shape: (512, 512)\n",
      "After mask shape: (512, 512)\n",
      "Before crop shape: (4, 512, 512)\n",
      "After crop shape: (4, 512, 512)\n"
     ]
    },
    {
     "name": "stderr",
     "output_type": "stream",
     "text": [
      "2it [00:00,  6.76it/s]"
     ]
    },
    {
     "name": "stdout",
     "output_type": "stream",
     "text": [
      "Before mask shape: (512, 512)\n",
      "After mask shape: (512, 512)\n",
      "Before crop shape: (4, 512, 512)\n",
      "After crop shape: (4, 512, 512)\n"
     ]
    },
    {
     "name": "stderr",
     "output_type": "stream",
     "text": [
      "3it [00:00,  7.10it/s]"
     ]
    },
    {
     "name": "stdout",
     "output_type": "stream",
     "text": [
      "Before mask shape: (512, 512)\n",
      "After mask shape: (512, 512)\n",
      "Before crop shape: (4, 512, 512)\n",
      "After crop shape: (4, 512, 512)\n"
     ]
    },
    {
     "name": "stderr",
     "output_type": "stream",
     "text": [
      "4it [00:00,  7.41it/s]"
     ]
    },
    {
     "name": "stdout",
     "output_type": "stream",
     "text": [
      "Before mask shape: (512, 512)\n",
      "After mask shape: (512, 512)\n",
      "Before crop shape: (4, 512, 512)\n",
      "After crop shape: (4, 512, 512)\n"
     ]
    },
    {
     "name": "stderr",
     "output_type": "stream",
     "text": [
      "5it [00:00,  7.59it/s]"
     ]
    },
    {
     "name": "stdout",
     "output_type": "stream",
     "text": [
      "Before mask shape: (512, 512)\n",
      "After mask shape: (512, 512)\n",
      "Before crop shape: (4, 512, 512)\n",
      "After crop shape: (4, 512, 512)\n"
     ]
    },
    {
     "name": "stderr",
     "output_type": "stream",
     "text": [
      "6it [00:00,  7.63it/s]"
     ]
    },
    {
     "name": "stdout",
     "output_type": "stream",
     "text": [
      "Before mask shape: (512, 512)\n",
      "After mask shape: (512, 512)\n",
      "Before crop shape: (4, 512, 512)\n",
      "After crop shape: (4, 512, 512)\n"
     ]
    },
    {
     "name": "stderr",
     "output_type": "stream",
     "text": [
      "7it [00:00,  7.74it/s]"
     ]
    },
    {
     "name": "stdout",
     "output_type": "stream",
     "text": [
      "Before mask shape: (512, 512)\n",
      "After mask shape: (512, 512)\n",
      "Before crop shape: (4, 512, 512)\n",
      "After crop shape: (4, 512, 512)\n"
     ]
    },
    {
     "name": "stderr",
     "output_type": "stream",
     "text": [
      "8it [00:01,  7.78it/s]"
     ]
    },
    {
     "name": "stdout",
     "output_type": "stream",
     "text": [
      "Before mask shape: (512, 512)\n",
      "After mask shape: (512, 512)\n",
      "Before crop shape: (4, 512, 512)\n",
      "After crop shape: (4, 512, 512)\n"
     ]
    },
    {
     "name": "stderr",
     "output_type": "stream",
     "text": [
      "9it [00:01,  7.81it/s]"
     ]
    },
    {
     "name": "stdout",
     "output_type": "stream",
     "text": [
      "Before mask shape: (512, 512)\n",
      "After mask shape: (512, 512)\n",
      "Before crop shape: (4, 512, 512)\n",
      "After crop shape: (4, 512, 512)\n"
     ]
    },
    {
     "name": "stderr",
     "output_type": "stream",
     "text": [
      "10it [00:01,  7.82it/s]"
     ]
    },
    {
     "name": "stdout",
     "output_type": "stream",
     "text": [
      "Before mask shape: (512, 512)\n",
      "After mask shape: (512, 512)\n",
      "Before crop shape: (4, 512, 512)\n",
      "After crop shape: (4, 512, 512)\n"
     ]
    },
    {
     "name": "stderr",
     "output_type": "stream",
     "text": [
      "11it [00:01,  7.80it/s]"
     ]
    },
    {
     "name": "stdout",
     "output_type": "stream",
     "text": [
      "Before mask shape: (512, 512)\n",
      "After mask shape: (512, 512)\n",
      "Before crop shape: (4, 512, 512)\n",
      "After crop shape: (4, 512, 512)\n"
     ]
    },
    {
     "name": "stderr",
     "output_type": "stream",
     "text": [
      "12it [00:01,  7.81it/s]"
     ]
    },
    {
     "name": "stdout",
     "output_type": "stream",
     "text": [
      "Before mask shape: (512, 512)\n",
      "After mask shape: (512, 512)\n",
      "Before crop shape: (4, 512, 512)\n",
      "After crop shape: (4, 512, 512)\n"
     ]
    },
    {
     "name": "stderr",
     "output_type": "stream",
     "text": [
      "13it [00:01,  7.84it/s]"
     ]
    },
    {
     "name": "stdout",
     "output_type": "stream",
     "text": [
      "Before mask shape: (512, 512)\n",
      "After mask shape: (512, 512)\n",
      "Before crop shape: (4, 512, 512)\n",
      "After crop shape: (4, 512, 512)\n"
     ]
    },
    {
     "name": "stderr",
     "output_type": "stream",
     "text": [
      "14it [00:01,  7.86it/s]"
     ]
    },
    {
     "name": "stdout",
     "output_type": "stream",
     "text": [
      "Before mask shape: (512, 512)\n",
      "After mask shape: (512, 512)\n",
      "Before crop shape: (4, 512, 512)\n",
      "After crop shape: (4, 512, 512)\n"
     ]
    },
    {
     "name": "stderr",
     "output_type": "stream",
     "text": [
      "15it [00:01,  7.87it/s]"
     ]
    },
    {
     "name": "stdout",
     "output_type": "stream",
     "text": [
      "Before mask shape: (512, 512)\n",
      "After mask shape: (512, 512)\n",
      "Before crop shape: (4, 512, 512)\n",
      "After crop shape: (4, 512, 512)\n"
     ]
    },
    {
     "name": "stderr",
     "output_type": "stream",
     "text": [
      "16it [00:02,  7.87it/s]"
     ]
    },
    {
     "name": "stdout",
     "output_type": "stream",
     "text": [
      "Before mask shape: (512, 512)\n",
      "After mask shape: (512, 512)\n",
      "Before crop shape: (4, 512, 512)\n",
      "After crop shape: (4, 512, 512)\n"
     ]
    },
    {
     "name": "stderr",
     "output_type": "stream",
     "text": [
      "17it [00:02,  7.89it/s]"
     ]
    },
    {
     "name": "stdout",
     "output_type": "stream",
     "text": [
      "Before mask shape: (512, 512)\n",
      "After mask shape: (512, 512)\n",
      "Before crop shape: (4, 512, 512)\n",
      "After crop shape: (4, 512, 512)\n"
     ]
    },
    {
     "name": "stderr",
     "output_type": "stream",
     "text": [
      "18it [00:02,  7.87it/s]"
     ]
    },
    {
     "name": "stdout",
     "output_type": "stream",
     "text": [
      "Before mask shape: (512, 512)\n",
      "After mask shape: (512, 512)\n",
      "Before crop shape: (4, 512, 512)\n",
      "After crop shape: (4, 512, 512)\n"
     ]
    },
    {
     "name": "stderr",
     "output_type": "stream",
     "text": [
      "19it [00:02,  7.88it/s]"
     ]
    },
    {
     "name": "stdout",
     "output_type": "stream",
     "text": [
      "Before mask shape: (512, 512)\n",
      "After mask shape: (512, 512)\n",
      "Before crop shape: (4, 512, 512)\n",
      "After crop shape: (4, 512, 402)\n"
     ]
    },
    {
     "name": "stderr",
     "output_type": "stream",
     "text": [
      "20it [00:02,  7.87it/s]"
     ]
    },
    {
     "name": "stdout",
     "output_type": "stream",
     "text": [
      "Before mask shape: (512, 402)\n",
      "After mask shape: (512, 402)\n",
      "Before crop shape: (4, 512, 512)\n",
      "After crop shape: (4, 512, 512)\n"
     ]
    },
    {
     "name": "stderr",
     "output_type": "stream",
     "text": [
      "21it [00:02,  7.19it/s]"
     ]
    },
    {
     "name": "stdout",
     "output_type": "stream",
     "text": [
      "Before mask shape: (512, 512)\n",
      "After mask shape: (512, 512)\n",
      "Before crop shape: (4, 512, 512)\n",
      "After crop shape: (4, 512, 512)\n"
     ]
    },
    {
     "name": "stderr",
     "output_type": "stream",
     "text": [
      "22it [00:02,  7.39it/s]"
     ]
    },
    {
     "name": "stdout",
     "output_type": "stream",
     "text": [
      "Before mask shape: (512, 512)\n",
      "After mask shape: (512, 512)\n",
      "Before crop shape: (4, 512, 512)\n",
      "After crop shape: (4, 512, 512)\n"
     ]
    },
    {
     "name": "stderr",
     "output_type": "stream",
     "text": [
      "23it [00:03,  7.54it/s]"
     ]
    },
    {
     "name": "stdout",
     "output_type": "stream",
     "text": [
      "Before mask shape: (512, 512)\n",
      "After mask shape: (512, 512)\n",
      "Before crop shape: (4, 512, 512)\n",
      "After crop shape: (4, 512, 512)\n"
     ]
    },
    {
     "name": "stderr",
     "output_type": "stream",
     "text": [
      "24it [00:03,  7.63it/s]"
     ]
    },
    {
     "name": "stdout",
     "output_type": "stream",
     "text": [
      "Before mask shape: (512, 512)\n",
      "After mask shape: (512, 512)\n",
      "Before crop shape: (4, 512, 512)\n",
      "After crop shape: (4, 512, 512)\n"
     ]
    },
    {
     "name": "stderr",
     "output_type": "stream",
     "text": [
      "25it [00:03,  7.68it/s]"
     ]
    },
    {
     "name": "stdout",
     "output_type": "stream",
     "text": [
      "Before mask shape: (512, 512)\n",
      "After mask shape: (512, 512)\n",
      "Before crop shape: (4, 512, 512)\n",
      "After crop shape: (4, 512, 512)\n"
     ]
    },
    {
     "name": "stderr",
     "output_type": "stream",
     "text": [
      "26it [00:03,  7.71it/s]"
     ]
    },
    {
     "name": "stdout",
     "output_type": "stream",
     "text": [
      "Before mask shape: (512, 512)\n",
      "After mask shape: (512, 512)\n",
      "Before crop shape: (4, 512, 512)\n",
      "After crop shape: (4, 512, 512)\n"
     ]
    },
    {
     "name": "stderr",
     "output_type": "stream",
     "text": [
      "27it [00:03,  7.74it/s]"
     ]
    },
    {
     "name": "stdout",
     "output_type": "stream",
     "text": [
      "Before mask shape: (512, 512)\n",
      "After mask shape: (512, 512)\n",
      "Before crop shape: (4, 512, 512)\n",
      "After crop shape: (4, 512, 512)\n"
     ]
    },
    {
     "name": "stderr",
     "output_type": "stream",
     "text": [
      "28it [00:03,  7.79it/s]"
     ]
    },
    {
     "name": "stdout",
     "output_type": "stream",
     "text": [
      "Before mask shape: (512, 512)\n",
      "After mask shape: (512, 512)\n",
      "Before crop shape: (4, 512, 512)\n",
      "After crop shape: (4, 512, 512)\n"
     ]
    },
    {
     "name": "stderr",
     "output_type": "stream",
     "text": [
      "29it [00:03,  7.81it/s]"
     ]
    },
    {
     "name": "stdout",
     "output_type": "stream",
     "text": [
      "Before mask shape: (512, 512)\n",
      "After mask shape: (512, 512)\n",
      "Before crop shape: (4, 512, 512)\n",
      "After crop shape: (4, 512, 512)\n"
     ]
    },
    {
     "name": "stderr",
     "output_type": "stream",
     "text": [
      "30it [00:03,  7.84it/s]"
     ]
    },
    {
     "name": "stdout",
     "output_type": "stream",
     "text": [
      "Before mask shape: (512, 512)\n",
      "After mask shape: (512, 512)\n",
      "Before crop shape: (4, 512, 512)\n",
      "After crop shape: (4, 512, 512)\n"
     ]
    },
    {
     "name": "stderr",
     "output_type": "stream",
     "text": [
      "31it [00:04,  7.84it/s]"
     ]
    },
    {
     "name": "stdout",
     "output_type": "stream",
     "text": [
      "Before mask shape: (512, 512)\n",
      "After mask shape: (512, 512)\n",
      "Before crop shape: (4, 512, 512)\n",
      "After crop shape: (4, 512, 512)\n"
     ]
    },
    {
     "name": "stderr",
     "output_type": "stream",
     "text": [
      "32it [00:04,  7.86it/s]"
     ]
    },
    {
     "name": "stdout",
     "output_type": "stream",
     "text": [
      "Before mask shape: (512, 512)\n",
      "After mask shape: (512, 512)\n",
      "Before crop shape: (4, 512, 512)\n",
      "After crop shape: (4, 512, 512)\n"
     ]
    },
    {
     "name": "stderr",
     "output_type": "stream",
     "text": [
      "33it [00:04,  7.87it/s]"
     ]
    },
    {
     "name": "stdout",
     "output_type": "stream",
     "text": [
      "Before mask shape: (512, 512)\n",
      "After mask shape: (512, 512)\n",
      "Before crop shape: (4, 512, 512)\n",
      "After crop shape: (4, 512, 512)\n"
     ]
    },
    {
     "name": "stderr",
     "output_type": "stream",
     "text": [
      "34it [00:04,  7.87it/s]"
     ]
    },
    {
     "name": "stdout",
     "output_type": "stream",
     "text": [
      "Before mask shape: (512, 512)\n",
      "After mask shape: (512, 512)\n",
      "Before crop shape: (4, 512, 512)\n",
      "After crop shape: (4, 512, 512)\n"
     ]
    },
    {
     "name": "stderr",
     "output_type": "stream",
     "text": [
      "35it [00:04,  7.81it/s]"
     ]
    },
    {
     "name": "stdout",
     "output_type": "stream",
     "text": [
      "Before mask shape: (512, 512)\n",
      "After mask shape: (512, 512)\n",
      "Before crop shape: (4, 512, 512)\n",
      "After crop shape: (4, 512, 512)\n"
     ]
    },
    {
     "name": "stderr",
     "output_type": "stream",
     "text": [
      "36it [00:04,  7.82it/s]"
     ]
    },
    {
     "name": "stdout",
     "output_type": "stream",
     "text": [
      "Before mask shape: (512, 512)\n",
      "After mask shape: (512, 512)\n",
      "Before crop shape: (4, 512, 512)\n",
      "After crop shape: (4, 512, 512)\n"
     ]
    },
    {
     "name": "stderr",
     "output_type": "stream",
     "text": [
      "37it [00:04,  7.85it/s]"
     ]
    },
    {
     "name": "stdout",
     "output_type": "stream",
     "text": [
      "Before mask shape: (512, 512)\n",
      "After mask shape: (512, 512)\n",
      "Before crop shape: (4, 512, 512)\n",
      "After crop shape: (4, 512, 512)\n"
     ]
    },
    {
     "name": "stderr",
     "output_type": "stream",
     "text": [
      "38it [00:04,  7.83it/s]"
     ]
    },
    {
     "name": "stdout",
     "output_type": "stream",
     "text": [
      "Before mask shape: (512, 512)\n",
      "After mask shape: (512, 512)\n",
      "Before crop shape: (4, 512, 512)\n",
      "After crop shape: (4, 512, 512)\n"
     ]
    },
    {
     "name": "stderr",
     "output_type": "stream",
     "text": [
      "39it [00:05,  7.77it/s]"
     ]
    },
    {
     "name": "stdout",
     "output_type": "stream",
     "text": [
      "Before mask shape: (512, 512)\n",
      "After mask shape: (512, 512)\n",
      "Before crop shape: (4, 512, 512)\n",
      "After crop shape: (4, 512, 402)\n"
     ]
    },
    {
     "name": "stderr",
     "output_type": "stream",
     "text": [
      "40it [00:05,  7.78it/s]"
     ]
    },
    {
     "name": "stdout",
     "output_type": "stream",
     "text": [
      "Before mask shape: (512, 402)\n",
      "After mask shape: (512, 402)\n",
      "Before crop shape: (4, 512, 512)\n",
      "After crop shape: (4, 512, 512)\n"
     ]
    },
    {
     "name": "stderr",
     "output_type": "stream",
     "text": [
      "41it [00:05,  7.12it/s]"
     ]
    },
    {
     "name": "stdout",
     "output_type": "stream",
     "text": [
      "Before mask shape: (512, 512)\n",
      "After mask shape: (512, 512)\n",
      "Before crop shape: (4, 512, 512)\n",
      "After crop shape: (4, 512, 512)\n"
     ]
    },
    {
     "name": "stderr",
     "output_type": "stream",
     "text": [
      "42it [00:05,  7.24it/s]"
     ]
    },
    {
     "name": "stdout",
     "output_type": "stream",
     "text": [
      "Before mask shape: (512, 512)\n",
      "After mask shape: (512, 512)\n",
      "Before crop shape: (4, 512, 512)\n",
      "After crop shape: (4, 512, 512)\n"
     ]
    },
    {
     "name": "stderr",
     "output_type": "stream",
     "text": [
      "43it [00:05,  7.42it/s]"
     ]
    },
    {
     "name": "stdout",
     "output_type": "stream",
     "text": [
      "Before mask shape: (512, 512)\n",
      "After mask shape: (512, 512)\n",
      "Before crop shape: (4, 512, 512)\n",
      "After crop shape: (4, 512, 512)\n"
     ]
    },
    {
     "name": "stderr",
     "output_type": "stream",
     "text": [
      "44it [00:05,  7.56it/s]"
     ]
    },
    {
     "name": "stdout",
     "output_type": "stream",
     "text": [
      "Before mask shape: (512, 512)\n",
      "After mask shape: (512, 512)\n",
      "Before crop shape: (4, 512, 512)\n",
      "After crop shape: (4, 512, 512)\n"
     ]
    },
    {
     "name": "stderr",
     "output_type": "stream",
     "text": [
      "45it [00:05,  7.65it/s]"
     ]
    },
    {
     "name": "stdout",
     "output_type": "stream",
     "text": [
      "Before mask shape: (512, 512)\n",
      "After mask shape: (512, 512)\n",
      "Before crop shape: (4, 512, 512)\n",
      "After crop shape: (4, 512, 512)\n"
     ]
    },
    {
     "name": "stderr",
     "output_type": "stream",
     "text": [
      "46it [00:05,  7.71it/s]"
     ]
    },
    {
     "name": "stdout",
     "output_type": "stream",
     "text": [
      "Before mask shape: (512, 512)\n",
      "After mask shape: (512, 512)\n",
      "Before crop shape: (4, 512, 512)\n",
      "After crop shape: (4, 512, 512)\n"
     ]
    },
    {
     "name": "stderr",
     "output_type": "stream",
     "text": [
      "47it [00:06,  7.77it/s]"
     ]
    },
    {
     "name": "stdout",
     "output_type": "stream",
     "text": [
      "Before mask shape: (512, 512)\n",
      "After mask shape: (512, 512)\n",
      "Before crop shape: (4, 512, 512)\n",
      "After crop shape: (4, 512, 512)\n"
     ]
    },
    {
     "name": "stderr",
     "output_type": "stream",
     "text": [
      "48it [00:06,  7.76it/s]"
     ]
    },
    {
     "name": "stdout",
     "output_type": "stream",
     "text": [
      "Before mask shape: (512, 512)\n",
      "After mask shape: (512, 512)\n",
      "Before crop shape: (4, 512, 512)\n",
      "After crop shape: (4, 512, 512)\n"
     ]
    },
    {
     "name": "stderr",
     "output_type": "stream",
     "text": [
      "49it [00:06,  7.79it/s]"
     ]
    },
    {
     "name": "stdout",
     "output_type": "stream",
     "text": [
      "Before mask shape: (512, 512)\n",
      "After mask shape: (512, 512)\n",
      "Before crop shape: (4, 512, 512)\n",
      "After crop shape: (4, 512, 512)\n"
     ]
    },
    {
     "name": "stderr",
     "output_type": "stream",
     "text": [
      "50it [00:06,  7.82it/s]"
     ]
    },
    {
     "name": "stdout",
     "output_type": "stream",
     "text": [
      "Before mask shape: (512, 512)\n",
      "After mask shape: (512, 512)\n",
      "Before crop shape: (4, 512, 512)\n",
      "After crop shape: (4, 512, 512)\n"
     ]
    },
    {
     "name": "stderr",
     "output_type": "stream",
     "text": [
      "51it [00:06,  7.84it/s]"
     ]
    },
    {
     "name": "stdout",
     "output_type": "stream",
     "text": [
      "Before mask shape: (512, 512)\n",
      "After mask shape: (512, 512)\n",
      "Before crop shape: (4, 512, 512)\n",
      "After crop shape: (4, 512, 512)\n"
     ]
    },
    {
     "name": "stderr",
     "output_type": "stream",
     "text": [
      "52it [00:06,  7.85it/s]"
     ]
    },
    {
     "name": "stdout",
     "output_type": "stream",
     "text": [
      "Before mask shape: (512, 512)\n",
      "After mask shape: (512, 512)\n",
      "Before crop shape: (4, 512, 512)\n",
      "After crop shape: (4, 512, 512)\n"
     ]
    },
    {
     "name": "stderr",
     "output_type": "stream",
     "text": [
      "53it [00:06,  7.86it/s]"
     ]
    },
    {
     "name": "stdout",
     "output_type": "stream",
     "text": [
      "Before mask shape: (512, 512)\n",
      "After mask shape: (512, 512)\n",
      "Before crop shape: (4, 512, 512)\n",
      "After crop shape: (4, 512, 512)\n"
     ]
    },
    {
     "name": "stderr",
     "output_type": "stream",
     "text": [
      "54it [00:07,  7.87it/s]"
     ]
    },
    {
     "name": "stdout",
     "output_type": "stream",
     "text": [
      "Before mask shape: (512, 512)\n",
      "After mask shape: (512, 512)\n",
      "Before crop shape: (4, 512, 512)\n",
      "After crop shape: (4, 512, 512)\n"
     ]
    },
    {
     "name": "stderr",
     "output_type": "stream",
     "text": [
      "55it [00:07,  7.88it/s]"
     ]
    },
    {
     "name": "stdout",
     "output_type": "stream",
     "text": [
      "Before mask shape: (512, 512)\n",
      "After mask shape: (512, 512)\n",
      "Before crop shape: (4, 512, 512)\n",
      "After crop shape: (4, 512, 512)\n"
     ]
    },
    {
     "name": "stderr",
     "output_type": "stream",
     "text": [
      "56it [00:07,  7.89it/s]"
     ]
    },
    {
     "name": "stdout",
     "output_type": "stream",
     "text": [
      "Before mask shape: (512, 512)\n",
      "After mask shape: (512, 512)\n",
      "Before crop shape: (4, 512, 512)\n",
      "After crop shape: (4, 512, 512)\n"
     ]
    },
    {
     "name": "stderr",
     "output_type": "stream",
     "text": [
      "57it [00:07,  7.88it/s]"
     ]
    },
    {
     "name": "stdout",
     "output_type": "stream",
     "text": [
      "Before mask shape: (512, 512)\n",
      "After mask shape: (512, 512)\n",
      "Before crop shape: (4, 512, 512)\n",
      "After crop shape: (4, 512, 512)\n"
     ]
    },
    {
     "name": "stderr",
     "output_type": "stream",
     "text": [
      "58it [00:07,  7.88it/s]"
     ]
    },
    {
     "name": "stdout",
     "output_type": "stream",
     "text": [
      "Before mask shape: (512, 512)\n",
      "After mask shape: (512, 512)\n",
      "Before crop shape: (4, 512, 512)\n",
      "After crop shape: (4, 512, 512)\n"
     ]
    },
    {
     "name": "stderr",
     "output_type": "stream",
     "text": [
      "59it [00:07,  7.88it/s]"
     ]
    },
    {
     "name": "stdout",
     "output_type": "stream",
     "text": [
      "Before mask shape: (512, 512)\n",
      "After mask shape: (512, 512)\n",
      "Before crop shape: (4, 512, 512)\n",
      "After crop shape: (4, 512, 402)\n"
     ]
    },
    {
     "name": "stderr",
     "output_type": "stream",
     "text": [
      "60it [00:07,  7.87it/s]"
     ]
    },
    {
     "name": "stdout",
     "output_type": "stream",
     "text": [
      "Before mask shape: (512, 402)\n",
      "After mask shape: (512, 402)\n",
      "Before crop shape: (4, 512, 512)\n",
      "After crop shape: (4, 512, 512)\n"
     ]
    },
    {
     "name": "stderr",
     "output_type": "stream",
     "text": [
      "61it [00:07,  7.19it/s]"
     ]
    },
    {
     "name": "stdout",
     "output_type": "stream",
     "text": [
      "Before mask shape: (512, 512)\n",
      "After mask shape: (512, 512)\n",
      "Before crop shape: (4, 512, 512)\n",
      "After crop shape: (4, 512, 512)\n"
     ]
    },
    {
     "name": "stderr",
     "output_type": "stream",
     "text": [
      "62it [00:08,  7.38it/s]"
     ]
    },
    {
     "name": "stdout",
     "output_type": "stream",
     "text": [
      "Before mask shape: (512, 512)\n",
      "After mask shape: (512, 512)\n",
      "Before crop shape: (4, 512, 512)\n",
      "After crop shape: (4, 512, 512)\n"
     ]
    },
    {
     "name": "stderr",
     "output_type": "stream",
     "text": [
      "63it [00:08,  7.53it/s]"
     ]
    },
    {
     "name": "stdout",
     "output_type": "stream",
     "text": [
      "Before mask shape: (512, 512)\n",
      "After mask shape: (512, 512)\n",
      "Before crop shape: (4, 512, 512)\n",
      "After crop shape: (4, 512, 512)\n"
     ]
    },
    {
     "name": "stderr",
     "output_type": "stream",
     "text": [
      "64it [00:08,  7.66it/s]"
     ]
    },
    {
     "name": "stdout",
     "output_type": "stream",
     "text": [
      "Before mask shape: (512, 512)\n",
      "After mask shape: (512, 512)\n",
      "Before crop shape: (4, 512, 512)\n",
      "After crop shape: (4, 512, 512)\n"
     ]
    },
    {
     "name": "stderr",
     "output_type": "stream",
     "text": [
      "65it [00:08,  7.67it/s]"
     ]
    },
    {
     "name": "stdout",
     "output_type": "stream",
     "text": [
      "Before mask shape: (512, 512)\n",
      "After mask shape: (512, 512)\n",
      "Before crop shape: (4, 512, 512)\n",
      "After crop shape: (4, 512, 512)\n"
     ]
    },
    {
     "name": "stderr",
     "output_type": "stream",
     "text": [
      "66it [00:08,  7.70it/s]"
     ]
    },
    {
     "name": "stdout",
     "output_type": "stream",
     "text": [
      "Before mask shape: (512, 512)\n",
      "After mask shape: (512, 512)\n",
      "Before crop shape: (4, 512, 512)\n",
      "After crop shape: (4, 512, 512)\n"
     ]
    },
    {
     "name": "stderr",
     "output_type": "stream",
     "text": [
      "67it [00:08,  7.73it/s]"
     ]
    },
    {
     "name": "stdout",
     "output_type": "stream",
     "text": [
      "Before mask shape: (512, 512)\n",
      "After mask shape: (512, 512)\n",
      "Before crop shape: (4, 512, 512)\n",
      "After crop shape: (4, 512, 512)\n"
     ]
    },
    {
     "name": "stderr",
     "output_type": "stream",
     "text": [
      "68it [00:08,  7.78it/s]"
     ]
    },
    {
     "name": "stdout",
     "output_type": "stream",
     "text": [
      "Before mask shape: (512, 512)\n",
      "After mask shape: (512, 512)\n",
      "Before crop shape: (4, 512, 512)\n",
      "After crop shape: (4, 512, 512)\n"
     ]
    },
    {
     "name": "stderr",
     "output_type": "stream",
     "text": [
      "69it [00:08,  7.80it/s]"
     ]
    },
    {
     "name": "stdout",
     "output_type": "stream",
     "text": [
      "Before mask shape: (512, 512)\n",
      "After mask shape: (512, 512)\n",
      "Before crop shape: (4, 512, 512)\n",
      "After crop shape: (4, 512, 512)\n"
     ]
    },
    {
     "name": "stderr",
     "output_type": "stream",
     "text": [
      "70it [00:09,  7.79it/s]"
     ]
    },
    {
     "name": "stdout",
     "output_type": "stream",
     "text": [
      "Before mask shape: (512, 512)\n",
      "After mask shape: (512, 512)\n",
      "Before crop shape: (4, 512, 512)\n",
      "After crop shape: (4, 512, 512)\n"
     ]
    },
    {
     "name": "stderr",
     "output_type": "stream",
     "text": [
      "71it [00:09,  7.82it/s]"
     ]
    },
    {
     "name": "stdout",
     "output_type": "stream",
     "text": [
      "Before mask shape: (512, 512)\n",
      "After mask shape: (512, 512)\n",
      "Before crop shape: (4, 512, 512)\n",
      "After crop shape: (4, 512, 512)\n"
     ]
    },
    {
     "name": "stderr",
     "output_type": "stream",
     "text": [
      "72it [00:09,  7.82it/s]"
     ]
    },
    {
     "name": "stdout",
     "output_type": "stream",
     "text": [
      "Before mask shape: (512, 512)\n",
      "After mask shape: (512, 512)\n",
      "Before crop shape: (4, 512, 512)\n",
      "After crop shape: (4, 512, 512)\n"
     ]
    },
    {
     "name": "stderr",
     "output_type": "stream",
     "text": [
      "73it [00:09,  7.82it/s]"
     ]
    },
    {
     "name": "stdout",
     "output_type": "stream",
     "text": [
      "Before mask shape: (512, 512)\n",
      "After mask shape: (512, 512)\n",
      "Before crop shape: (4, 512, 512)\n",
      "After crop shape: (4, 512, 512)\n"
     ]
    },
    {
     "name": "stderr",
     "output_type": "stream",
     "text": [
      "74it [00:09,  7.72it/s]"
     ]
    },
    {
     "name": "stdout",
     "output_type": "stream",
     "text": [
      "Before mask shape: (512, 512)\n",
      "After mask shape: (512, 512)\n",
      "Before crop shape: (4, 512, 512)\n",
      "After crop shape: (4, 512, 512)\n"
     ]
    },
    {
     "name": "stderr",
     "output_type": "stream",
     "text": [
      "75it [00:09,  7.76it/s]"
     ]
    },
    {
     "name": "stdout",
     "output_type": "stream",
     "text": [
      "Before mask shape: (512, 512)\n",
      "After mask shape: (512, 512)\n",
      "Before crop shape: (4, 512, 512)\n",
      "After crop shape: (4, 512, 512)\n"
     ]
    },
    {
     "name": "stderr",
     "output_type": "stream",
     "text": [
      "76it [00:09,  7.77it/s]"
     ]
    },
    {
     "name": "stdout",
     "output_type": "stream",
     "text": [
      "Before mask shape: (512, 512)\n",
      "After mask shape: (512, 512)\n",
      "Before crop shape: (4, 512, 512)\n",
      "After crop shape: (4, 512, 512)\n"
     ]
    },
    {
     "name": "stderr",
     "output_type": "stream",
     "text": [
      "77it [00:09,  7.81it/s]"
     ]
    },
    {
     "name": "stdout",
     "output_type": "stream",
     "text": [
      "Before mask shape: (512, 512)\n",
      "After mask shape: (512, 512)\n",
      "Before crop shape: (4, 512, 512)\n",
      "After crop shape: (4, 512, 512)\n"
     ]
    },
    {
     "name": "stderr",
     "output_type": "stream",
     "text": [
      "78it [00:10,  7.82it/s]"
     ]
    },
    {
     "name": "stdout",
     "output_type": "stream",
     "text": [
      "Before mask shape: (512, 512)\n",
      "After mask shape: (512, 512)\n",
      "Before crop shape: (4, 512, 512)\n",
      "After crop shape: (4, 512, 512)\n"
     ]
    },
    {
     "name": "stderr",
     "output_type": "stream",
     "text": [
      "79it [00:10,  7.83it/s]"
     ]
    },
    {
     "name": "stdout",
     "output_type": "stream",
     "text": [
      "Before mask shape: (512, 512)\n",
      "After mask shape: (512, 512)\n",
      "Before crop shape: (4, 512, 512)\n",
      "After crop shape: (4, 512, 402)\n"
     ]
    },
    {
     "name": "stderr",
     "output_type": "stream",
     "text": [
      "80it [00:10,  7.81it/s]"
     ]
    },
    {
     "name": "stdout",
     "output_type": "stream",
     "text": [
      "Before mask shape: (512, 402)\n",
      "After mask shape: (512, 402)\n",
      "Before crop shape: (4, 512, 512)\n",
      "After crop shape: (4, 512, 512)\n"
     ]
    },
    {
     "name": "stderr",
     "output_type": "stream",
     "text": [
      "81it [00:10,  7.11it/s]"
     ]
    },
    {
     "name": "stdout",
     "output_type": "stream",
     "text": [
      "Before mask shape: (512, 512)\n",
      "After mask shape: (512, 512)\n",
      "Before crop shape: (4, 512, 512)\n",
      "After crop shape: (4, 512, 512)\n"
     ]
    },
    {
     "name": "stderr",
     "output_type": "stream",
     "text": [
      "82it [00:10,  7.31it/s]"
     ]
    },
    {
     "name": "stdout",
     "output_type": "stream",
     "text": [
      "Before mask shape: (512, 512)\n",
      "After mask shape: (512, 512)\n",
      "Before crop shape: (4, 512, 512)\n",
      "After crop shape: (4, 512, 512)\n"
     ]
    },
    {
     "name": "stderr",
     "output_type": "stream",
     "text": [
      "83it [00:10,  7.46it/s]"
     ]
    },
    {
     "name": "stdout",
     "output_type": "stream",
     "text": [
      "Before mask shape: (512, 512)\n",
      "After mask shape: (512, 512)\n",
      "Before crop shape: (4, 512, 512)\n",
      "After crop shape: (4, 512, 512)\n"
     ]
    },
    {
     "name": "stderr",
     "output_type": "stream",
     "text": [
      "84it [00:10,  7.57it/s]"
     ]
    },
    {
     "name": "stdout",
     "output_type": "stream",
     "text": [
      "Before mask shape: (512, 512)\n",
      "After mask shape: (512, 512)\n",
      "Before crop shape: (4, 512, 512)\n",
      "After crop shape: (4, 512, 512)\n"
     ]
    },
    {
     "name": "stderr",
     "output_type": "stream",
     "text": [
      "85it [00:11,  7.64it/s]"
     ]
    },
    {
     "name": "stdout",
     "output_type": "stream",
     "text": [
      "Before mask shape: (512, 512)\n",
      "After mask shape: (512, 512)\n",
      "Before crop shape: (4, 512, 512)\n",
      "After crop shape: (4, 512, 512)\n"
     ]
    },
    {
     "name": "stderr",
     "output_type": "stream",
     "text": [
      "86it [00:11,  7.70it/s]"
     ]
    },
    {
     "name": "stdout",
     "output_type": "stream",
     "text": [
      "Before mask shape: (512, 512)\n",
      "After mask shape: (512, 512)\n",
      "Before crop shape: (4, 512, 512)\n",
      "After crop shape: (4, 512, 512)\n"
     ]
    },
    {
     "name": "stderr",
     "output_type": "stream",
     "text": [
      "87it [00:11,  7.70it/s]"
     ]
    },
    {
     "name": "stdout",
     "output_type": "stream",
     "text": [
      "Before mask shape: (512, 512)\n",
      "After mask shape: (512, 512)\n",
      "Before crop shape: (4, 512, 512)\n",
      "After crop shape: (4, 512, 512)\n"
     ]
    },
    {
     "name": "stderr",
     "output_type": "stream",
     "text": [
      "88it [00:11,  7.70it/s]"
     ]
    },
    {
     "name": "stdout",
     "output_type": "stream",
     "text": [
      "Before mask shape: (512, 512)\n",
      "After mask shape: (512, 512)\n",
      "Before crop shape: (4, 512, 512)\n",
      "After crop shape: (4, 512, 512)\n"
     ]
    },
    {
     "name": "stderr",
     "output_type": "stream",
     "text": [
      "89it [00:11,  7.72it/s]"
     ]
    },
    {
     "name": "stdout",
     "output_type": "stream",
     "text": [
      "Before mask shape: (512, 512)\n",
      "After mask shape: (512, 512)\n",
      "Before crop shape: (4, 512, 512)\n",
      "After crop shape: (4, 512, 512)\n"
     ]
    },
    {
     "name": "stderr",
     "output_type": "stream",
     "text": [
      "90it [00:11,  7.74it/s]"
     ]
    },
    {
     "name": "stdout",
     "output_type": "stream",
     "text": [
      "Before mask shape: (512, 512)\n",
      "After mask shape: (512, 512)\n",
      "Before crop shape: (4, 512, 512)\n",
      "After crop shape: (4, 512, 512)\n"
     ]
    },
    {
     "name": "stderr",
     "output_type": "stream",
     "text": [
      "91it [00:11,  7.76it/s]"
     ]
    },
    {
     "name": "stdout",
     "output_type": "stream",
     "text": [
      "Before mask shape: (512, 512)\n",
      "After mask shape: (512, 512)\n",
      "Before crop shape: (4, 512, 512)\n",
      "After crop shape: (4, 512, 512)\n"
     ]
    },
    {
     "name": "stderr",
     "output_type": "stream",
     "text": [
      "92it [00:11,  7.77it/s]"
     ]
    },
    {
     "name": "stdout",
     "output_type": "stream",
     "text": [
      "Before mask shape: (512, 512)\n",
      "After mask shape: (512, 512)\n",
      "Before crop shape: (4, 512, 512)\n",
      "After crop shape: (4, 512, 512)\n"
     ]
    },
    {
     "name": "stderr",
     "output_type": "stream",
     "text": [
      "93it [00:12,  7.79it/s]"
     ]
    },
    {
     "name": "stdout",
     "output_type": "stream",
     "text": [
      "Before mask shape: (512, 512)\n",
      "After mask shape: (512, 512)\n",
      "Before crop shape: (4, 512, 512)\n",
      "After crop shape: (4, 512, 512)\n"
     ]
    },
    {
     "name": "stderr",
     "output_type": "stream",
     "text": [
      "94it [00:12,  7.79it/s]"
     ]
    },
    {
     "name": "stdout",
     "output_type": "stream",
     "text": [
      "Before mask shape: (512, 512)\n",
      "After mask shape: (512, 512)\n",
      "Before crop shape: (4, 512, 512)\n",
      "After crop shape: (4, 512, 512)\n"
     ]
    },
    {
     "name": "stderr",
     "output_type": "stream",
     "text": [
      "95it [00:12,  7.81it/s]"
     ]
    },
    {
     "name": "stdout",
     "output_type": "stream",
     "text": [
      "Before mask shape: (512, 512)\n",
      "After mask shape: (512, 512)\n",
      "Before crop shape: (4, 512, 512)\n",
      "After crop shape: (4, 512, 512)\n"
     ]
    },
    {
     "name": "stderr",
     "output_type": "stream",
     "text": [
      "96it [00:12,  7.81it/s]"
     ]
    },
    {
     "name": "stdout",
     "output_type": "stream",
     "text": [
      "Before mask shape: (512, 512)\n",
      "After mask shape: (512, 512)\n",
      "Before crop shape: (4, 512, 512)\n",
      "After crop shape: (4, 512, 512)\n"
     ]
    },
    {
     "name": "stderr",
     "output_type": "stream",
     "text": [
      "97it [00:12,  7.82it/s]"
     ]
    },
    {
     "name": "stdout",
     "output_type": "stream",
     "text": [
      "Before mask shape: (512, 512)\n",
      "After mask shape: (512, 512)\n",
      "Before crop shape: (4, 512, 512)\n",
      "After crop shape: (4, 512, 512)\n"
     ]
    },
    {
     "name": "stderr",
     "output_type": "stream",
     "text": [
      "98it [00:12,  7.82it/s]"
     ]
    },
    {
     "name": "stdout",
     "output_type": "stream",
     "text": [
      "Before mask shape: (512, 512)\n",
      "After mask shape: (512, 512)\n",
      "Before crop shape: (4, 512, 512)\n",
      "After crop shape: (4, 512, 512)\n"
     ]
    },
    {
     "name": "stderr",
     "output_type": "stream",
     "text": [
      "99it [00:12,  7.82it/s]"
     ]
    },
    {
     "name": "stdout",
     "output_type": "stream",
     "text": [
      "Before mask shape: (512, 512)\n",
      "After mask shape: (512, 512)\n",
      "Before crop shape: (4, 512, 512)\n",
      "After crop shape: (4, 512, 402)\n"
     ]
    },
    {
     "name": "stderr",
     "output_type": "stream",
     "text": [
      "100it [00:12,  7.81it/s]"
     ]
    },
    {
     "name": "stdout",
     "output_type": "stream",
     "text": [
      "Before mask shape: (512, 402)\n",
      "After mask shape: (512, 402)\n",
      "Before crop shape: (4, 512, 512)\n",
      "After crop shape: (4, 512, 512)\n"
     ]
    },
    {
     "name": "stderr",
     "output_type": "stream",
     "text": [
      "101it [00:13,  7.20it/s]"
     ]
    },
    {
     "name": "stdout",
     "output_type": "stream",
     "text": [
      "Before mask shape: (512, 512)\n",
      "After mask shape: (512, 512)\n",
      "Before crop shape: (4, 512, 512)\n",
      "After crop shape: (4, 512, 512)\n"
     ]
    },
    {
     "name": "stderr",
     "output_type": "stream",
     "text": [
      "102it [00:13,  7.37it/s]"
     ]
    },
    {
     "name": "stdout",
     "output_type": "stream",
     "text": [
      "Before mask shape: (512, 512)\n",
      "After mask shape: (512, 512)\n",
      "Before crop shape: (4, 512, 512)\n",
      "After crop shape: (4, 512, 512)\n"
     ]
    },
    {
     "name": "stderr",
     "output_type": "stream",
     "text": [
      "103it [00:13,  7.48it/s]"
     ]
    },
    {
     "name": "stdout",
     "output_type": "stream",
     "text": [
      "Before mask shape: (512, 512)\n",
      "After mask shape: (512, 512)\n",
      "Before crop shape: (4, 512, 512)\n",
      "After crop shape: (4, 512, 512)\n"
     ]
    },
    {
     "name": "stderr",
     "output_type": "stream",
     "text": [
      "104it [00:13,  7.57it/s]"
     ]
    },
    {
     "name": "stdout",
     "output_type": "stream",
     "text": [
      "Before mask shape: (512, 512)\n",
      "After mask shape: (512, 512)\n",
      "Before crop shape: (4, 512, 512)\n",
      "After crop shape: (4, 512, 512)\n"
     ]
    },
    {
     "name": "stderr",
     "output_type": "stream",
     "text": [
      "105it [00:13,  7.64it/s]"
     ]
    },
    {
     "name": "stdout",
     "output_type": "stream",
     "text": [
      "Before mask shape: (512, 512)\n",
      "After mask shape: (512, 512)\n",
      "Before crop shape: (4, 512, 512)\n",
      "After crop shape: (4, 512, 512)\n"
     ]
    },
    {
     "name": "stderr",
     "output_type": "stream",
     "text": [
      "106it [00:13,  7.70it/s]"
     ]
    },
    {
     "name": "stdout",
     "output_type": "stream",
     "text": [
      "Before mask shape: (512, 512)\n",
      "After mask shape: (512, 512)\n",
      "Before crop shape: (4, 512, 512)\n",
      "After crop shape: (4, 512, 512)\n"
     ]
    },
    {
     "name": "stderr",
     "output_type": "stream",
     "text": [
      "107it [00:13,  7.74it/s]"
     ]
    },
    {
     "name": "stdout",
     "output_type": "stream",
     "text": [
      "Before mask shape: (512, 512)\n",
      "After mask shape: (512, 512)\n",
      "Before crop shape: (4, 512, 512)\n",
      "After crop shape: (4, 512, 512)\n"
     ]
    },
    {
     "name": "stderr",
     "output_type": "stream",
     "text": [
      "108it [00:14,  7.77it/s]"
     ]
    },
    {
     "name": "stdout",
     "output_type": "stream",
     "text": [
      "Before mask shape: (512, 512)\n",
      "After mask shape: (512, 512)\n",
      "Before crop shape: (4, 512, 512)\n",
      "After crop shape: (4, 512, 512)\n"
     ]
    },
    {
     "name": "stderr",
     "output_type": "stream",
     "text": [
      "109it [00:14,  7.80it/s]"
     ]
    },
    {
     "name": "stdout",
     "output_type": "stream",
     "text": [
      "Before mask shape: (512, 512)\n",
      "After mask shape: (512, 512)\n",
      "Before crop shape: (4, 512, 512)\n",
      "After crop shape: (4, 512, 512)\n"
     ]
    },
    {
     "name": "stderr",
     "output_type": "stream",
     "text": [
      "110it [00:14,  7.79it/s]"
     ]
    },
    {
     "name": "stdout",
     "output_type": "stream",
     "text": [
      "Before mask shape: (512, 512)\n",
      "After mask shape: (512, 512)\n",
      "Before crop shape: (4, 512, 512)\n",
      "After crop shape: (4, 512, 512)\n"
     ]
    },
    {
     "name": "stderr",
     "output_type": "stream",
     "text": [
      "111it [00:14,  7.62it/s]"
     ]
    },
    {
     "name": "stdout",
     "output_type": "stream",
     "text": [
      "Before mask shape: (512, 512)\n",
      "After mask shape: (512, 512)\n",
      "Before crop shape: (4, 512, 512)\n",
      "After crop shape: (4, 512, 512)\n"
     ]
    },
    {
     "name": "stderr",
     "output_type": "stream",
     "text": [
      "112it [00:14,  7.66it/s]"
     ]
    },
    {
     "name": "stdout",
     "output_type": "stream",
     "text": [
      "Before mask shape: (512, 512)\n",
      "After mask shape: (512, 512)\n",
      "Before crop shape: (4, 512, 512)\n",
      "After crop shape: (4, 512, 512)\n"
     ]
    },
    {
     "name": "stderr",
     "output_type": "stream",
     "text": [
      "113it [00:14,  7.69it/s]"
     ]
    },
    {
     "name": "stdout",
     "output_type": "stream",
     "text": [
      "Before mask shape: (512, 512)\n",
      "After mask shape: (512, 512)\n",
      "Before crop shape: (4, 512, 512)\n",
      "After crop shape: (4, 512, 512)\n"
     ]
    },
    {
     "name": "stderr",
     "output_type": "stream",
     "text": [
      "114it [00:14,  7.70it/s]"
     ]
    },
    {
     "name": "stdout",
     "output_type": "stream",
     "text": [
      "Before mask shape: (512, 512)\n",
      "After mask shape: (512, 512)\n",
      "Before crop shape: (4, 512, 512)\n",
      "After crop shape: (4, 512, 512)\n"
     ]
    },
    {
     "name": "stderr",
     "output_type": "stream",
     "text": [
      "115it [00:14,  7.72it/s]"
     ]
    },
    {
     "name": "stdout",
     "output_type": "stream",
     "text": [
      "Before mask shape: (512, 512)\n",
      "After mask shape: (512, 512)\n",
      "Before crop shape: (4, 512, 512)\n",
      "After crop shape: (4, 512, 512)\n"
     ]
    },
    {
     "name": "stderr",
     "output_type": "stream",
     "text": [
      "116it [00:15,  7.64it/s]"
     ]
    },
    {
     "name": "stdout",
     "output_type": "stream",
     "text": [
      "Before mask shape: (512, 512)\n",
      "After mask shape: (512, 512)\n",
      "Before crop shape: (4, 512, 512)\n",
      "After crop shape: (4, 512, 512)\n"
     ]
    },
    {
     "name": "stderr",
     "output_type": "stream",
     "text": [
      "117it [00:15,  7.63it/s]"
     ]
    },
    {
     "name": "stdout",
     "output_type": "stream",
     "text": [
      "Before mask shape: (512, 512)\n",
      "After mask shape: (512, 512)\n",
      "Before crop shape: (4, 512, 512)\n",
      "After crop shape: (4, 512, 512)\n"
     ]
    },
    {
     "name": "stderr",
     "output_type": "stream",
     "text": [
      "118it [00:15,  7.66it/s]"
     ]
    },
    {
     "name": "stdout",
     "output_type": "stream",
     "text": [
      "Before mask shape: (512, 512)\n",
      "After mask shape: (512, 512)\n",
      "Before crop shape: (4, 512, 512)\n",
      "After crop shape: (4, 512, 512)\n"
     ]
    },
    {
     "name": "stderr",
     "output_type": "stream",
     "text": [
      "119it [00:15,  7.69it/s]"
     ]
    },
    {
     "name": "stdout",
     "output_type": "stream",
     "text": [
      "Before mask shape: (512, 512)\n",
      "After mask shape: (512, 512)\n",
      "Before crop shape: (4, 512, 512)\n",
      "After crop shape: (4, 512, 402)\n"
     ]
    },
    {
     "name": "stderr",
     "output_type": "stream",
     "text": [
      "120it [00:15,  7.66it/s]"
     ]
    },
    {
     "name": "stdout",
     "output_type": "stream",
     "text": [
      "Before mask shape: (512, 402)\n",
      "After mask shape: (512, 402)\n",
      "Before crop shape: (4, 512, 512)\n",
      "After crop shape: (4, 512, 512)\n"
     ]
    },
    {
     "name": "stderr",
     "output_type": "stream",
     "text": [
      "121it [00:15,  7.00it/s]"
     ]
    },
    {
     "name": "stdout",
     "output_type": "stream",
     "text": [
      "Before mask shape: (512, 512)\n",
      "After mask shape: (512, 512)\n",
      "Before crop shape: (4, 512, 512)\n",
      "After crop shape: (4, 512, 512)\n"
     ]
    },
    {
     "name": "stderr",
     "output_type": "stream",
     "text": [
      "122it [00:15,  7.23it/s]"
     ]
    },
    {
     "name": "stdout",
     "output_type": "stream",
     "text": [
      "Before mask shape: (512, 512)\n",
      "After mask shape: (512, 512)\n",
      "Before crop shape: (4, 512, 512)\n",
      "After crop shape: (4, 512, 512)\n"
     ]
    },
    {
     "name": "stderr",
     "output_type": "stream",
     "text": [
      "123it [00:16,  7.40it/s]"
     ]
    },
    {
     "name": "stdout",
     "output_type": "stream",
     "text": [
      "Before mask shape: (512, 512)\n",
      "After mask shape: (512, 512)\n",
      "Before crop shape: (4, 512, 512)\n",
      "After crop shape: (4, 512, 512)\n"
     ]
    },
    {
     "name": "stderr",
     "output_type": "stream",
     "text": [
      "124it [00:16,  7.52it/s]"
     ]
    },
    {
     "name": "stdout",
     "output_type": "stream",
     "text": [
      "Before mask shape: (512, 512)\n",
      "After mask shape: (512, 512)\n",
      "Before crop shape: (4, 512, 512)\n",
      "After crop shape: (4, 512, 512)\n"
     ]
    },
    {
     "name": "stderr",
     "output_type": "stream",
     "text": [
      "125it [00:16,  7.55it/s]"
     ]
    },
    {
     "name": "stdout",
     "output_type": "stream",
     "text": [
      "Before mask shape: (512, 512)\n",
      "After mask shape: (512, 512)\n",
      "Before crop shape: (4, 512, 512)\n",
      "After crop shape: (4, 512, 512)\n"
     ]
    },
    {
     "name": "stderr",
     "output_type": "stream",
     "text": [
      "126it [00:16,  7.61it/s]"
     ]
    },
    {
     "name": "stdout",
     "output_type": "stream",
     "text": [
      "Before mask shape: (512, 512)\n",
      "After mask shape: (512, 512)\n",
      "Before crop shape: (4, 512, 512)\n",
      "After crop shape: (4, 512, 512)\n"
     ]
    },
    {
     "name": "stderr",
     "output_type": "stream",
     "text": [
      "127it [00:16,  7.68it/s]"
     ]
    },
    {
     "name": "stdout",
     "output_type": "stream",
     "text": [
      "Before mask shape: (512, 512)\n",
      "After mask shape: (512, 512)\n",
      "Before crop shape: (4, 512, 512)\n",
      "After crop shape: (4, 512, 512)\n"
     ]
    },
    {
     "name": "stderr",
     "output_type": "stream",
     "text": [
      "128it [00:16,  7.72it/s]"
     ]
    },
    {
     "name": "stdout",
     "output_type": "stream",
     "text": [
      "Before mask shape: (512, 512)\n",
      "After mask shape: (512, 512)\n",
      "Before crop shape: (4, 512, 512)\n",
      "After crop shape: (4, 512, 512)\n"
     ]
    },
    {
     "name": "stderr",
     "output_type": "stream",
     "text": [
      "129it [00:16,  7.75it/s]"
     ]
    },
    {
     "name": "stdout",
     "output_type": "stream",
     "text": [
      "Before mask shape: (512, 512)\n",
      "After mask shape: (512, 512)\n",
      "Before crop shape: (4, 512, 512)\n",
      "After crop shape: (4, 512, 512)\n"
     ]
    },
    {
     "name": "stderr",
     "output_type": "stream",
     "text": [
      "130it [00:16,  7.78it/s]"
     ]
    },
    {
     "name": "stdout",
     "output_type": "stream",
     "text": [
      "Before mask shape: (512, 512)\n",
      "After mask shape: (512, 512)\n",
      "Before crop shape: (4, 512, 512)\n",
      "After crop shape: (4, 512, 512)\n"
     ]
    },
    {
     "name": "stderr",
     "output_type": "stream",
     "text": [
      "131it [00:17,  7.77it/s]"
     ]
    },
    {
     "name": "stdout",
     "output_type": "stream",
     "text": [
      "Before mask shape: (512, 512)\n",
      "After mask shape: (512, 512)\n",
      "Before crop shape: (4, 512, 512)\n",
      "After crop shape: (4, 512, 512)\n"
     ]
    },
    {
     "name": "stderr",
     "output_type": "stream",
     "text": [
      "132it [00:17,  7.75it/s]"
     ]
    },
    {
     "name": "stdout",
     "output_type": "stream",
     "text": [
      "Before mask shape: (512, 512)\n",
      "After mask shape: (512, 512)\n",
      "Before crop shape: (4, 512, 512)\n",
      "After crop shape: (4, 512, 512)\n"
     ]
    },
    {
     "name": "stderr",
     "output_type": "stream",
     "text": [
      "133it [00:17,  7.73it/s]"
     ]
    },
    {
     "name": "stdout",
     "output_type": "stream",
     "text": [
      "Before mask shape: (512, 512)\n",
      "After mask shape: (512, 512)\n",
      "Before crop shape: (4, 512, 512)\n",
      "After crop shape: (4, 512, 512)\n"
     ]
    },
    {
     "name": "stderr",
     "output_type": "stream",
     "text": [
      "134it [00:17,  7.70it/s]"
     ]
    },
    {
     "name": "stdout",
     "output_type": "stream",
     "text": [
      "Before mask shape: (512, 512)\n",
      "After mask shape: (512, 512)\n",
      "Before crop shape: (4, 512, 512)\n",
      "After crop shape: (4, 512, 512)\n"
     ]
    },
    {
     "name": "stderr",
     "output_type": "stream",
     "text": [
      "135it [00:17,  7.71it/s]"
     ]
    },
    {
     "name": "stdout",
     "output_type": "stream",
     "text": [
      "Before mask shape: (512, 512)\n",
      "After mask shape: (512, 512)\n",
      "Before crop shape: (4, 512, 512)\n",
      "After crop shape: (4, 512, 512)\n"
     ]
    },
    {
     "name": "stderr",
     "output_type": "stream",
     "text": [
      "136it [00:17,  7.69it/s]"
     ]
    },
    {
     "name": "stdout",
     "output_type": "stream",
     "text": [
      "Before mask shape: (512, 512)\n",
      "After mask shape: (512, 512)\n",
      "Before crop shape: (4, 512, 512)\n",
      "After crop shape: (4, 512, 512)\n"
     ]
    },
    {
     "name": "stderr",
     "output_type": "stream",
     "text": [
      "137it [00:17,  7.72it/s]"
     ]
    },
    {
     "name": "stdout",
     "output_type": "stream",
     "text": [
      "Before mask shape: (512, 512)\n",
      "After mask shape: (512, 512)\n",
      "Before crop shape: (4, 512, 512)\n",
      "After crop shape: (4, 512, 512)\n"
     ]
    },
    {
     "name": "stderr",
     "output_type": "stream",
     "text": [
      "138it [00:17,  7.73it/s]"
     ]
    },
    {
     "name": "stdout",
     "output_type": "stream",
     "text": [
      "Before mask shape: (512, 512)\n",
      "After mask shape: (512, 512)\n",
      "Before crop shape: (4, 512, 512)\n",
      "After crop shape: (4, 512, 512)\n"
     ]
    },
    {
     "name": "stderr",
     "output_type": "stream",
     "text": [
      "139it [00:18,  7.75it/s]"
     ]
    },
    {
     "name": "stdout",
     "output_type": "stream",
     "text": [
      "Before mask shape: (512, 512)\n",
      "After mask shape: (512, 512)\n",
      "Before crop shape: (4, 512, 512)\n",
      "After crop shape: (4, 512, 402)\n"
     ]
    },
    {
     "name": "stderr",
     "output_type": "stream",
     "text": [
      "140it [00:18,  7.74it/s]"
     ]
    },
    {
     "name": "stdout",
     "output_type": "stream",
     "text": [
      "Before mask shape: (512, 402)\n",
      "After mask shape: (512, 402)\n",
      "Before crop shape: (4, 512, 512)\n",
      "After crop shape: (4, 512, 512)\n"
     ]
    },
    {
     "name": "stderr",
     "output_type": "stream",
     "text": [
      "141it [00:18,  7.12it/s]"
     ]
    },
    {
     "name": "stdout",
     "output_type": "stream",
     "text": [
      "Before mask shape: (512, 512)\n",
      "After mask shape: (512, 512)\n",
      "Before crop shape: (4, 512, 512)\n",
      "After crop shape: (4, 512, 512)\n"
     ]
    },
    {
     "name": "stderr",
     "output_type": "stream",
     "text": [
      "142it [00:18,  7.29it/s]"
     ]
    },
    {
     "name": "stdout",
     "output_type": "stream",
     "text": [
      "Before mask shape: (512, 512)\n",
      "After mask shape: (512, 512)\n",
      "Before crop shape: (4, 512, 512)\n",
      "After crop shape: (4, 512, 512)\n"
     ]
    },
    {
     "name": "stderr",
     "output_type": "stream",
     "text": [
      "143it [00:18,  7.43it/s]"
     ]
    },
    {
     "name": "stdout",
     "output_type": "stream",
     "text": [
      "Before mask shape: (512, 512)\n",
      "After mask shape: (512, 512)\n",
      "Before crop shape: (4, 512, 512)\n",
      "After crop shape: (4, 512, 512)\n"
     ]
    },
    {
     "name": "stderr",
     "output_type": "stream",
     "text": [
      "144it [00:18,  7.54it/s]"
     ]
    },
    {
     "name": "stdout",
     "output_type": "stream",
     "text": [
      "Before mask shape: (512, 512)\n",
      "After mask shape: (512, 512)\n",
      "Before crop shape: (4, 512, 512)\n",
      "After crop shape: (4, 512, 512)\n"
     ]
    },
    {
     "name": "stderr",
     "output_type": "stream",
     "text": [
      "145it [00:18,  7.61it/s]"
     ]
    },
    {
     "name": "stdout",
     "output_type": "stream",
     "text": [
      "Before mask shape: (512, 512)\n",
      "After mask shape: (512, 512)\n",
      "Before crop shape: (4, 512, 512)\n",
      "After crop shape: (4, 512, 512)\n"
     ]
    },
    {
     "name": "stderr",
     "output_type": "stream",
     "text": [
      "146it [00:19,  7.67it/s]"
     ]
    },
    {
     "name": "stdout",
     "output_type": "stream",
     "text": [
      "Before mask shape: (512, 512)\n",
      "After mask shape: (512, 512)\n",
      "Before crop shape: (4, 512, 512)\n",
      "After crop shape: (4, 512, 512)\n"
     ]
    },
    {
     "name": "stderr",
     "output_type": "stream",
     "text": [
      "147it [00:19,  7.71it/s]"
     ]
    },
    {
     "name": "stdout",
     "output_type": "stream",
     "text": [
      "Before mask shape: (512, 512)\n",
      "After mask shape: (512, 512)\n",
      "Before crop shape: (4, 512, 512)\n",
      "After crop shape: (4, 512, 512)\n"
     ]
    },
    {
     "name": "stderr",
     "output_type": "stream",
     "text": [
      "148it [00:19,  7.73it/s]"
     ]
    },
    {
     "name": "stdout",
     "output_type": "stream",
     "text": [
      "Before mask shape: (512, 512)\n",
      "After mask shape: (512, 512)\n",
      "Before crop shape: (4, 512, 512)\n",
      "After crop shape: (4, 512, 512)\n"
     ]
    },
    {
     "name": "stderr",
     "output_type": "stream",
     "text": [
      "149it [00:19,  7.75it/s]"
     ]
    },
    {
     "name": "stdout",
     "output_type": "stream",
     "text": [
      "Before mask shape: (512, 512)\n",
      "After mask shape: (512, 512)\n",
      "Before crop shape: (4, 512, 512)\n",
      "After crop shape: (4, 512, 512)\n"
     ]
    },
    {
     "name": "stderr",
     "output_type": "stream",
     "text": [
      "150it [00:19,  7.76it/s]"
     ]
    },
    {
     "name": "stdout",
     "output_type": "stream",
     "text": [
      "Before mask shape: (512, 512)\n",
      "After mask shape: (512, 512)\n",
      "Before crop shape: (4, 512, 512)\n",
      "After crop shape: (4, 512, 512)\n"
     ]
    },
    {
     "name": "stderr",
     "output_type": "stream",
     "text": [
      "151it [00:19,  7.76it/s]"
     ]
    },
    {
     "name": "stdout",
     "output_type": "stream",
     "text": [
      "Before mask shape: (512, 512)\n",
      "After mask shape: (512, 512)\n",
      "Before crop shape: (4, 512, 512)\n",
      "After crop shape: (4, 512, 512)\n"
     ]
    },
    {
     "name": "stderr",
     "output_type": "stream",
     "text": [
      "152it [00:19,  7.77it/s]"
     ]
    },
    {
     "name": "stdout",
     "output_type": "stream",
     "text": [
      "Before mask shape: (512, 512)\n",
      "After mask shape: (512, 512)\n",
      "Before crop shape: (4, 512, 512)\n",
      "After crop shape: (4, 512, 512)\n"
     ]
    },
    {
     "name": "stderr",
     "output_type": "stream",
     "text": [
      "153it [00:19,  7.77it/s]"
     ]
    },
    {
     "name": "stdout",
     "output_type": "stream",
     "text": [
      "Before mask shape: (512, 512)\n",
      "After mask shape: (512, 512)\n",
      "Before crop shape: (4, 512, 512)\n",
      "After crop shape: (4, 512, 512)\n"
     ]
    },
    {
     "name": "stderr",
     "output_type": "stream",
     "text": [
      "154it [00:20,  7.77it/s]"
     ]
    },
    {
     "name": "stdout",
     "output_type": "stream",
     "text": [
      "Before mask shape: (512, 512)\n",
      "After mask shape: (512, 512)\n",
      "Before crop shape: (4, 512, 512)\n",
      "After crop shape: (4, 512, 512)\n"
     ]
    },
    {
     "name": "stderr",
     "output_type": "stream",
     "text": [
      "155it [00:20,  7.77it/s]"
     ]
    },
    {
     "name": "stdout",
     "output_type": "stream",
     "text": [
      "Before mask shape: (512, 512)\n",
      "After mask shape: (512, 512)\n",
      "Before crop shape: (4, 512, 512)\n",
      "After crop shape: (4, 512, 512)\n"
     ]
    },
    {
     "name": "stderr",
     "output_type": "stream",
     "text": [
      "156it [00:20,  7.77it/s]"
     ]
    },
    {
     "name": "stdout",
     "output_type": "stream",
     "text": [
      "Before mask shape: (512, 512)\n",
      "After mask shape: (512, 512)\n",
      "Before crop shape: (4, 512, 512)\n",
      "After crop shape: (4, 512, 512)\n"
     ]
    },
    {
     "name": "stderr",
     "output_type": "stream",
     "text": [
      "157it [00:20,  7.73it/s]"
     ]
    },
    {
     "name": "stdout",
     "output_type": "stream",
     "text": [
      "Before mask shape: (512, 512)\n",
      "After mask shape: (512, 512)\n",
      "Before crop shape: (4, 512, 512)\n",
      "After crop shape: (4, 512, 512)\n"
     ]
    },
    {
     "name": "stderr",
     "output_type": "stream",
     "text": [
      "158it [00:20,  7.72it/s]"
     ]
    },
    {
     "name": "stdout",
     "output_type": "stream",
     "text": [
      "Before mask shape: (512, 512)\n",
      "After mask shape: (512, 512)\n",
      "Before crop shape: (4, 512, 512)\n",
      "After crop shape: (4, 512, 512)\n"
     ]
    },
    {
     "name": "stderr",
     "output_type": "stream",
     "text": [
      "159it [00:20,  7.67it/s]"
     ]
    },
    {
     "name": "stdout",
     "output_type": "stream",
     "text": [
      "Before mask shape: (512, 512)\n",
      "After mask shape: (512, 512)\n",
      "Before crop shape: (4, 512, 512)\n",
      "After crop shape: (4, 512, 402)\n"
     ]
    },
    {
     "name": "stderr",
     "output_type": "stream",
     "text": [
      "160it [00:20,  7.38it/s]"
     ]
    },
    {
     "name": "stdout",
     "output_type": "stream",
     "text": [
      "Before mask shape: (512, 402)\n",
      "After mask shape: (512, 402)\n",
      "Before crop shape: (4, 512, 512)\n",
      "After crop shape: (4, 512, 512)\n"
     ]
    },
    {
     "name": "stderr",
     "output_type": "stream",
     "text": [
      "161it [00:21,  6.85it/s]"
     ]
    },
    {
     "name": "stdout",
     "output_type": "stream",
     "text": [
      "Before mask shape: (512, 512)\n",
      "After mask shape: (512, 512)\n",
      "Before crop shape: (4, 512, 512)\n",
      "After crop shape: (4, 512, 512)\n"
     ]
    },
    {
     "name": "stderr",
     "output_type": "stream",
     "text": [
      "162it [00:21,  7.11it/s]"
     ]
    },
    {
     "name": "stdout",
     "output_type": "stream",
     "text": [
      "Before mask shape: (512, 512)\n",
      "After mask shape: (512, 512)\n",
      "Before crop shape: (4, 512, 512)\n",
      "After crop shape: (4, 512, 512)\n"
     ]
    },
    {
     "name": "stderr",
     "output_type": "stream",
     "text": [
      "163it [00:21,  7.24it/s]"
     ]
    },
    {
     "name": "stdout",
     "output_type": "stream",
     "text": [
      "Before mask shape: (512, 512)\n",
      "After mask shape: (512, 512)\n",
      "Before crop shape: (4, 512, 512)\n",
      "After crop shape: (4, 512, 512)\n"
     ]
    },
    {
     "name": "stderr",
     "output_type": "stream",
     "text": [
      "164it [00:21,  7.38it/s]"
     ]
    },
    {
     "name": "stdout",
     "output_type": "stream",
     "text": [
      "Before mask shape: (512, 512)\n",
      "After mask shape: (512, 512)\n",
      "Before crop shape: (4, 512, 512)\n",
      "After crop shape: (4, 512, 512)\n"
     ]
    },
    {
     "name": "stderr",
     "output_type": "stream",
     "text": [
      "165it [00:21,  7.46it/s]"
     ]
    },
    {
     "name": "stdout",
     "output_type": "stream",
     "text": [
      "Before mask shape: (512, 512)\n",
      "After mask shape: (512, 512)\n",
      "Before crop shape: (4, 512, 512)\n",
      "After crop shape: (4, 512, 512)\n"
     ]
    },
    {
     "name": "stderr",
     "output_type": "stream",
     "text": [
      "166it [00:21,  7.53it/s]"
     ]
    },
    {
     "name": "stdout",
     "output_type": "stream",
     "text": [
      "Before mask shape: (512, 512)\n",
      "After mask shape: (512, 512)\n",
      "Before crop shape: (4, 512, 512)\n",
      "After crop shape: (4, 512, 512)\n"
     ]
    },
    {
     "name": "stderr",
     "output_type": "stream",
     "text": [
      "167it [00:21,  7.60it/s]"
     ]
    },
    {
     "name": "stdout",
     "output_type": "stream",
     "text": [
      "Before mask shape: (512, 512)\n",
      "After mask shape: (512, 512)\n",
      "Before crop shape: (4, 512, 512)\n",
      "After crop shape: (4, 512, 512)\n"
     ]
    },
    {
     "name": "stderr",
     "output_type": "stream",
     "text": [
      "168it [00:21,  7.63it/s]"
     ]
    },
    {
     "name": "stdout",
     "output_type": "stream",
     "text": [
      "Before mask shape: (512, 512)\n",
      "After mask shape: (512, 512)\n",
      "Before crop shape: (4, 512, 512)\n",
      "After crop shape: (4, 512, 512)\n"
     ]
    },
    {
     "name": "stderr",
     "output_type": "stream",
     "text": [
      "169it [00:22,  7.65it/s]"
     ]
    },
    {
     "name": "stdout",
     "output_type": "stream",
     "text": [
      "Before mask shape: (512, 512)\n",
      "After mask shape: (512, 512)\n",
      "Before crop shape: (4, 512, 512)\n",
      "After crop shape: (4, 512, 512)\n"
     ]
    },
    {
     "name": "stderr",
     "output_type": "stream",
     "text": [
      "170it [00:22,  7.68it/s]"
     ]
    },
    {
     "name": "stdout",
     "output_type": "stream",
     "text": [
      "Before mask shape: (512, 512)\n",
      "After mask shape: (512, 512)\n",
      "Before crop shape: (4, 512, 512)\n",
      "After crop shape: (4, 512, 512)\n"
     ]
    },
    {
     "name": "stderr",
     "output_type": "stream",
     "text": [
      "171it [00:22,  7.71it/s]"
     ]
    },
    {
     "name": "stdout",
     "output_type": "stream",
     "text": [
      "Before mask shape: (512, 512)\n",
      "After mask shape: (512, 512)\n",
      "Before crop shape: (4, 512, 512)\n",
      "After crop shape: (4, 512, 512)\n"
     ]
    },
    {
     "name": "stderr",
     "output_type": "stream",
     "text": [
      "172it [00:22,  7.70it/s]"
     ]
    },
    {
     "name": "stdout",
     "output_type": "stream",
     "text": [
      "Before mask shape: (512, 512)\n",
      "After mask shape: (512, 512)\n",
      "Before crop shape: (4, 512, 512)\n",
      "After crop shape: (4, 512, 512)\n"
     ]
    },
    {
     "name": "stderr",
     "output_type": "stream",
     "text": [
      "173it [00:22,  7.69it/s]"
     ]
    },
    {
     "name": "stdout",
     "output_type": "stream",
     "text": [
      "Before mask shape: (512, 512)\n",
      "After mask shape: (512, 512)\n",
      "Before crop shape: (4, 512, 512)\n",
      "After crop shape: (4, 512, 512)\n"
     ]
    },
    {
     "name": "stderr",
     "output_type": "stream",
     "text": [
      "174it [00:22,  7.70it/s]"
     ]
    },
    {
     "name": "stdout",
     "output_type": "stream",
     "text": [
      "Before mask shape: (512, 512)\n",
      "After mask shape: (512, 512)\n",
      "Before crop shape: (4, 512, 512)\n",
      "After crop shape: (4, 512, 512)\n"
     ]
    },
    {
     "name": "stderr",
     "output_type": "stream",
     "text": [
      "175it [00:22,  7.72it/s]"
     ]
    },
    {
     "name": "stdout",
     "output_type": "stream",
     "text": [
      "Before mask shape: (512, 512)\n",
      "After mask shape: (512, 512)\n",
      "Before crop shape: (4, 512, 512)\n",
      "After crop shape: (4, 512, 512)\n"
     ]
    },
    {
     "name": "stderr",
     "output_type": "stream",
     "text": [
      "176it [00:22,  7.74it/s]"
     ]
    },
    {
     "name": "stdout",
     "output_type": "stream",
     "text": [
      "Before mask shape: (512, 512)\n",
      "After mask shape: (512, 512)\n",
      "Before crop shape: (4, 512, 512)\n",
      "After crop shape: (4, 512, 512)\n"
     ]
    },
    {
     "name": "stderr",
     "output_type": "stream",
     "text": [
      "177it [00:23,  7.75it/s]"
     ]
    },
    {
     "name": "stdout",
     "output_type": "stream",
     "text": [
      "Before mask shape: (512, 512)\n",
      "After mask shape: (512, 512)\n",
      "Before crop shape: (4, 512, 512)\n",
      "After crop shape: (4, 512, 512)\n"
     ]
    },
    {
     "name": "stderr",
     "output_type": "stream",
     "text": [
      "178it [00:23,  7.77it/s]"
     ]
    },
    {
     "name": "stdout",
     "output_type": "stream",
     "text": [
      "Before mask shape: (512, 512)\n",
      "After mask shape: (512, 512)\n",
      "Before crop shape: (4, 512, 512)\n",
      "After crop shape: (4, 512, 512)\n"
     ]
    },
    {
     "name": "stderr",
     "output_type": "stream",
     "text": [
      "179it [00:23,  7.78it/s]"
     ]
    },
    {
     "name": "stdout",
     "output_type": "stream",
     "text": [
      "Before mask shape: (512, 512)\n",
      "After mask shape: (512, 512)\n",
      "Before crop shape: (4, 512, 512)\n",
      "After crop shape: (4, 512, 402)\n"
     ]
    },
    {
     "name": "stderr",
     "output_type": "stream",
     "text": [
      "180it [00:23,  7.77it/s]"
     ]
    },
    {
     "name": "stdout",
     "output_type": "stream",
     "text": [
      "Before mask shape: (512, 402)\n",
      "After mask shape: (512, 402)\n",
      "Before crop shape: (4, 512, 512)\n",
      "After crop shape: (4, 512, 512)\n"
     ]
    },
    {
     "name": "stderr",
     "output_type": "stream",
     "text": [
      "181it [00:23,  7.07it/s]"
     ]
    },
    {
     "name": "stdout",
     "output_type": "stream",
     "text": [
      "Before mask shape: (512, 512)\n",
      "After mask shape: (512, 512)\n",
      "Before crop shape: (4, 512, 512)\n",
      "After crop shape: (4, 512, 512)\n"
     ]
    },
    {
     "name": "stderr",
     "output_type": "stream",
     "text": [
      "182it [00:23,  7.26it/s]"
     ]
    },
    {
     "name": "stdout",
     "output_type": "stream",
     "text": [
      "Before mask shape: (512, 512)\n",
      "After mask shape: (512, 512)\n",
      "Before crop shape: (4, 512, 512)\n",
      "After crop shape: (4, 512, 512)\n"
     ]
    },
    {
     "name": "stderr",
     "output_type": "stream",
     "text": [
      "183it [00:23,  7.40it/s]"
     ]
    },
    {
     "name": "stdout",
     "output_type": "stream",
     "text": [
      "Before mask shape: (512, 512)\n",
      "After mask shape: (512, 512)\n",
      "Before crop shape: (4, 512, 512)\n",
      "After crop shape: (4, 512, 512)\n"
     ]
    },
    {
     "name": "stderr",
     "output_type": "stream",
     "text": [
      "184it [00:24,  7.51it/s]"
     ]
    },
    {
     "name": "stdout",
     "output_type": "stream",
     "text": [
      "Before mask shape: (512, 512)\n",
      "After mask shape: (512, 512)\n",
      "Before crop shape: (4, 512, 512)\n",
      "After crop shape: (4, 512, 512)\n"
     ]
    },
    {
     "name": "stderr",
     "output_type": "stream",
     "text": [
      "185it [00:24,  7.58it/s]"
     ]
    },
    {
     "name": "stdout",
     "output_type": "stream",
     "text": [
      "Before mask shape: (512, 512)\n",
      "After mask shape: (512, 512)\n",
      "Before crop shape: (4, 512, 512)\n",
      "After crop shape: (4, 512, 512)\n"
     ]
    },
    {
     "name": "stderr",
     "output_type": "stream",
     "text": [
      "186it [00:24,  7.62it/s]"
     ]
    },
    {
     "name": "stdout",
     "output_type": "stream",
     "text": [
      "Before mask shape: (512, 512)\n",
      "After mask shape: (512, 512)\n",
      "Before crop shape: (4, 512, 512)\n",
      "After crop shape: (4, 512, 512)\n"
     ]
    },
    {
     "name": "stderr",
     "output_type": "stream",
     "text": [
      "187it [00:24,  7.64it/s]"
     ]
    },
    {
     "name": "stdout",
     "output_type": "stream",
     "text": [
      "Before mask shape: (512, 512)\n",
      "After mask shape: (512, 512)\n",
      "Before crop shape: (4, 512, 512)\n",
      "After crop shape: (4, 512, 512)\n"
     ]
    },
    {
     "name": "stderr",
     "output_type": "stream",
     "text": [
      "188it [00:24,  7.64it/s]"
     ]
    },
    {
     "name": "stdout",
     "output_type": "stream",
     "text": [
      "Before mask shape: (512, 512)\n",
      "After mask shape: (512, 512)\n",
      "Before crop shape: (4, 512, 512)\n",
      "After crop shape: (4, 512, 512)\n"
     ]
    },
    {
     "name": "stderr",
     "output_type": "stream",
     "text": [
      "189it [00:24,  7.64it/s]"
     ]
    },
    {
     "name": "stdout",
     "output_type": "stream",
     "text": [
      "Before mask shape: (512, 512)\n",
      "After mask shape: (512, 512)\n",
      "Before crop shape: (4, 512, 512)\n",
      "After crop shape: (4, 512, 512)\n"
     ]
    },
    {
     "name": "stderr",
     "output_type": "stream",
     "text": [
      "190it [00:24,  7.65it/s]"
     ]
    },
    {
     "name": "stdout",
     "output_type": "stream",
     "text": [
      "Before mask shape: (512, 512)\n",
      "After mask shape: (512, 512)\n",
      "Before crop shape: (4, 512, 512)\n",
      "After crop shape: (4, 512, 512)\n"
     ]
    },
    {
     "name": "stderr",
     "output_type": "stream",
     "text": [
      "191it [00:24,  7.68it/s]"
     ]
    },
    {
     "name": "stdout",
     "output_type": "stream",
     "text": [
      "Before mask shape: (512, 512)\n",
      "After mask shape: (512, 512)\n",
      "Before crop shape: (4, 512, 512)\n",
      "After crop shape: (4, 512, 512)\n"
     ]
    },
    {
     "name": "stderr",
     "output_type": "stream",
     "text": [
      "192it [00:25,  7.71it/s]"
     ]
    },
    {
     "name": "stdout",
     "output_type": "stream",
     "text": [
      "Before mask shape: (512, 512)\n",
      "After mask shape: (512, 512)\n",
      "Before crop shape: (4, 512, 512)\n",
      "After crop shape: (4, 512, 512)\n"
     ]
    },
    {
     "name": "stderr",
     "output_type": "stream",
     "text": [
      "193it [00:25,  7.72it/s]"
     ]
    },
    {
     "name": "stdout",
     "output_type": "stream",
     "text": [
      "Before mask shape: (512, 512)\n",
      "After mask shape: (512, 512)\n",
      "Before crop shape: (4, 512, 512)\n",
      "After crop shape: (4, 512, 512)\n"
     ]
    },
    {
     "name": "stderr",
     "output_type": "stream",
     "text": [
      "194it [00:25,  7.73it/s]"
     ]
    },
    {
     "name": "stdout",
     "output_type": "stream",
     "text": [
      "Before mask shape: (512, 512)\n",
      "After mask shape: (512, 512)\n",
      "Before crop shape: (4, 512, 512)\n",
      "After crop shape: (4, 512, 512)\n"
     ]
    },
    {
     "name": "stderr",
     "output_type": "stream",
     "text": [
      "195it [00:25,  7.75it/s]"
     ]
    },
    {
     "name": "stdout",
     "output_type": "stream",
     "text": [
      "Before mask shape: (512, 512)\n",
      "After mask shape: (512, 512)\n",
      "Before crop shape: (4, 512, 512)\n",
      "After crop shape: (4, 512, 512)\n"
     ]
    },
    {
     "name": "stderr",
     "output_type": "stream",
     "text": [
      "196it [00:25,  7.64it/s]"
     ]
    },
    {
     "name": "stdout",
     "output_type": "stream",
     "text": [
      "Before mask shape: (512, 512)\n",
      "After mask shape: (512, 512)\n",
      "Before crop shape: (4, 512, 512)\n",
      "After crop shape: (4, 512, 512)\n"
     ]
    },
    {
     "name": "stderr",
     "output_type": "stream",
     "text": [
      "197it [00:25,  7.67it/s]"
     ]
    },
    {
     "name": "stdout",
     "output_type": "stream",
     "text": [
      "Before mask shape: (512, 512)\n",
      "After mask shape: (512, 512)\n",
      "Before crop shape: (4, 512, 512)\n",
      "After crop shape: (4, 512, 512)\n"
     ]
    },
    {
     "name": "stderr",
     "output_type": "stream",
     "text": [
      "198it [00:25,  7.69it/s]"
     ]
    },
    {
     "name": "stdout",
     "output_type": "stream",
     "text": [
      "Before mask shape: (512, 512)\n",
      "After mask shape: (512, 512)\n",
      "Before crop shape: (4, 512, 512)\n",
      "After crop shape: (4, 512, 512)\n"
     ]
    },
    {
     "name": "stderr",
     "output_type": "stream",
     "text": [
      "199it [00:25,  7.69it/s]"
     ]
    },
    {
     "name": "stdout",
     "output_type": "stream",
     "text": [
      "Before mask shape: (512, 512)\n",
      "After mask shape: (512, 512)\n",
      "Before crop shape: (4, 512, 512)\n",
      "After crop shape: (4, 512, 402)\n"
     ]
    },
    {
     "name": "stderr",
     "output_type": "stream",
     "text": [
      "200it [00:26,  7.66it/s]"
     ]
    },
    {
     "name": "stdout",
     "output_type": "stream",
     "text": [
      "Before mask shape: (512, 402)\n",
      "After mask shape: (512, 402)\n",
      "Before crop shape: (4, 512, 512)\n",
      "After crop shape: (4, 512, 512)\n"
     ]
    },
    {
     "name": "stderr",
     "output_type": "stream",
     "text": [
      "201it [00:26,  7.09it/s]"
     ]
    },
    {
     "name": "stdout",
     "output_type": "stream",
     "text": [
      "Before mask shape: (512, 512)\n",
      "After mask shape: (512, 512)\n",
      "Before crop shape: (4, 512, 512)\n",
      "After crop shape: (4, 512, 512)\n"
     ]
    },
    {
     "name": "stderr",
     "output_type": "stream",
     "text": [
      "202it [00:26,  7.27it/s]"
     ]
    },
    {
     "name": "stdout",
     "output_type": "stream",
     "text": [
      "Before mask shape: (512, 512)\n",
      "After mask shape: (512, 512)\n",
      "Before crop shape: (4, 512, 512)\n",
      "After crop shape: (4, 512, 512)\n"
     ]
    },
    {
     "name": "stderr",
     "output_type": "stream",
     "text": [
      "203it [00:26,  7.39it/s]"
     ]
    },
    {
     "name": "stdout",
     "output_type": "stream",
     "text": [
      "Before mask shape: (512, 512)\n",
      "After mask shape: (512, 512)\n",
      "Before crop shape: (4, 512, 512)\n",
      "After crop shape: (4, 512, 512)\n"
     ]
    },
    {
     "name": "stderr",
     "output_type": "stream",
     "text": [
      "204it [00:26,  7.46it/s]"
     ]
    },
    {
     "name": "stdout",
     "output_type": "stream",
     "text": [
      "Before mask shape: (512, 512)\n",
      "After mask shape: (512, 512)\n",
      "Before crop shape: (4, 512, 512)\n",
      "After crop shape: (4, 512, 512)\n"
     ]
    },
    {
     "name": "stderr",
     "output_type": "stream",
     "text": [
      "205it [00:26,  7.53it/s]"
     ]
    },
    {
     "name": "stdout",
     "output_type": "stream",
     "text": [
      "Before mask shape: (512, 512)\n",
      "After mask shape: (512, 512)\n",
      "Before crop shape: (4, 512, 512)\n",
      "After crop shape: (4, 512, 512)\n"
     ]
    },
    {
     "name": "stderr",
     "output_type": "stream",
     "text": [
      "206it [00:26,  7.60it/s]"
     ]
    },
    {
     "name": "stdout",
     "output_type": "stream",
     "text": [
      "Before mask shape: (512, 512)\n",
      "After mask shape: (512, 512)\n",
      "Before crop shape: (4, 512, 512)\n",
      "After crop shape: (4, 512, 512)\n"
     ]
    },
    {
     "name": "stderr",
     "output_type": "stream",
     "text": [
      "207it [00:27,  7.65it/s]"
     ]
    },
    {
     "name": "stdout",
     "output_type": "stream",
     "text": [
      "Before mask shape: (512, 512)\n",
      "After mask shape: (512, 512)\n",
      "Before crop shape: (4, 512, 512)\n",
      "After crop shape: (4, 512, 512)\n"
     ]
    },
    {
     "name": "stderr",
     "output_type": "stream",
     "text": [
      "208it [00:27,  7.64it/s]"
     ]
    },
    {
     "name": "stdout",
     "output_type": "stream",
     "text": [
      "Before mask shape: (512, 512)\n",
      "After mask shape: (512, 512)\n",
      "Before crop shape: (4, 512, 512)\n",
      "After crop shape: (4, 512, 512)\n"
     ]
    },
    {
     "name": "stderr",
     "output_type": "stream",
     "text": [
      "209it [00:27,  7.66it/s]"
     ]
    },
    {
     "name": "stdout",
     "output_type": "stream",
     "text": [
      "Before mask shape: (512, 512)\n",
      "After mask shape: (512, 512)\n",
      "Before crop shape: (4, 512, 512)\n",
      "After crop shape: (4, 512, 512)\n"
     ]
    },
    {
     "name": "stderr",
     "output_type": "stream",
     "text": [
      "210it [00:27,  7.63it/s]"
     ]
    },
    {
     "name": "stdout",
     "output_type": "stream",
     "text": [
      "Before mask shape: (512, 512)\n",
      "After mask shape: (512, 512)\n",
      "Before crop shape: (4, 512, 512)\n",
      "After crop shape: (4, 512, 512)\n"
     ]
    },
    {
     "name": "stderr",
     "output_type": "stream",
     "text": [
      "211it [00:27,  7.64it/s]"
     ]
    },
    {
     "name": "stdout",
     "output_type": "stream",
     "text": [
      "Before mask shape: (512, 512)\n",
      "After mask shape: (512, 512)\n",
      "Before crop shape: (4, 512, 512)\n",
      "After crop shape: (4, 512, 512)\n"
     ]
    },
    {
     "name": "stderr",
     "output_type": "stream",
     "text": [
      "212it [00:27,  7.67it/s]"
     ]
    },
    {
     "name": "stdout",
     "output_type": "stream",
     "text": [
      "Before mask shape: (512, 512)\n",
      "After mask shape: (512, 512)\n",
      "Before crop shape: (4, 512, 512)\n",
      "After crop shape: (4, 512, 512)\n"
     ]
    },
    {
     "name": "stderr",
     "output_type": "stream",
     "text": [
      "213it [00:27,  7.69it/s]"
     ]
    },
    {
     "name": "stdout",
     "output_type": "stream",
     "text": [
      "Before mask shape: (512, 512)\n",
      "After mask shape: (512, 512)\n",
      "Before crop shape: (4, 512, 512)\n",
      "After crop shape: (4, 512, 512)\n"
     ]
    },
    {
     "name": "stderr",
     "output_type": "stream",
     "text": [
      "214it [00:27,  7.71it/s]"
     ]
    },
    {
     "name": "stdout",
     "output_type": "stream",
     "text": [
      "Before mask shape: (512, 512)\n",
      "After mask shape: (512, 512)\n",
      "Before crop shape: (4, 512, 512)\n",
      "After crop shape: (4, 512, 512)\n"
     ]
    },
    {
     "name": "stderr",
     "output_type": "stream",
     "text": [
      "215it [00:28,  7.72it/s]"
     ]
    },
    {
     "name": "stdout",
     "output_type": "stream",
     "text": [
      "Before mask shape: (512, 512)\n",
      "After mask shape: (512, 512)\n",
      "Before crop shape: (4, 512, 512)\n",
      "After crop shape: (4, 512, 512)\n"
     ]
    },
    {
     "name": "stderr",
     "output_type": "stream",
     "text": [
      "216it [00:28,  7.73it/s]"
     ]
    },
    {
     "name": "stdout",
     "output_type": "stream",
     "text": [
      "Before mask shape: (512, 512)\n",
      "After mask shape: (512, 512)\n",
      "Before crop shape: (4, 512, 512)\n",
      "After crop shape: (4, 512, 512)\n"
     ]
    },
    {
     "name": "stderr",
     "output_type": "stream",
     "text": [
      "217it [00:28,  7.72it/s]"
     ]
    },
    {
     "name": "stdout",
     "output_type": "stream",
     "text": [
      "Before mask shape: (512, 512)\n",
      "After mask shape: (512, 512)\n",
      "Before crop shape: (4, 512, 512)\n",
      "After crop shape: (4, 512, 512)\n"
     ]
    },
    {
     "name": "stderr",
     "output_type": "stream",
     "text": [
      "218it [00:28,  7.72it/s]"
     ]
    },
    {
     "name": "stdout",
     "output_type": "stream",
     "text": [
      "Before mask shape: (512, 512)\n",
      "After mask shape: (512, 512)\n",
      "Before crop shape: (4, 512, 512)\n",
      "After crop shape: (4, 512, 512)\n"
     ]
    },
    {
     "name": "stderr",
     "output_type": "stream",
     "text": [
      "219it [00:28,  7.73it/s]"
     ]
    },
    {
     "name": "stdout",
     "output_type": "stream",
     "text": [
      "Before mask shape: (512, 512)\n",
      "After mask shape: (512, 512)\n",
      "Before crop shape: (4, 512, 512)\n",
      "After crop shape: (4, 512, 402)\n"
     ]
    },
    {
     "name": "stderr",
     "output_type": "stream",
     "text": [
      "220it [00:28,  7.69it/s]"
     ]
    },
    {
     "name": "stdout",
     "output_type": "stream",
     "text": [
      "Before mask shape: (512, 402)\n",
      "After mask shape: (512, 402)\n",
      "Before crop shape: (4, 512, 512)\n",
      "After crop shape: (4, 512, 512)\n"
     ]
    },
    {
     "name": "stderr",
     "output_type": "stream",
     "text": [
      "221it [00:28,  7.04it/s]"
     ]
    },
    {
     "name": "stdout",
     "output_type": "stream",
     "text": [
      "Before mask shape: (512, 512)\n",
      "After mask shape: (512, 512)\n",
      "Before crop shape: (4, 512, 512)\n",
      "After crop shape: (4, 512, 512)\n"
     ]
    },
    {
     "name": "stderr",
     "output_type": "stream",
     "text": [
      "222it [00:29,  7.23it/s]"
     ]
    },
    {
     "name": "stdout",
     "output_type": "stream",
     "text": [
      "Before mask shape: (512, 512)\n",
      "After mask shape: (512, 512)\n",
      "Before crop shape: (4, 512, 512)\n",
      "After crop shape: (4, 512, 512)\n"
     ]
    },
    {
     "name": "stderr",
     "output_type": "stream",
     "text": [
      "223it [00:29,  7.35it/s]"
     ]
    },
    {
     "name": "stdout",
     "output_type": "stream",
     "text": [
      "Before mask shape: (512, 512)\n",
      "After mask shape: (512, 512)\n",
      "Before crop shape: (4, 512, 512)\n",
      "After crop shape: (4, 512, 512)\n"
     ]
    },
    {
     "name": "stderr",
     "output_type": "stream",
     "text": [
      "224it [00:29,  7.47it/s]"
     ]
    },
    {
     "name": "stdout",
     "output_type": "stream",
     "text": [
      "Before mask shape: (512, 512)\n",
      "After mask shape: (512, 512)\n",
      "Before crop shape: (4, 512, 512)\n",
      "After crop shape: (4, 512, 512)\n"
     ]
    },
    {
     "name": "stderr",
     "output_type": "stream",
     "text": [
      "225it [00:29,  7.51it/s]"
     ]
    },
    {
     "name": "stdout",
     "output_type": "stream",
     "text": [
      "Before mask shape: (512, 512)\n",
      "After mask shape: (512, 512)\n",
      "Before crop shape: (4, 512, 512)\n",
      "After crop shape: (4, 512, 512)\n"
     ]
    },
    {
     "name": "stderr",
     "output_type": "stream",
     "text": [
      "226it [00:29,  7.54it/s]"
     ]
    },
    {
     "name": "stdout",
     "output_type": "stream",
     "text": [
      "Before mask shape: (512, 512)\n",
      "After mask shape: (512, 512)\n",
      "Before crop shape: (4, 512, 512)\n",
      "After crop shape: (4, 512, 512)\n"
     ]
    },
    {
     "name": "stderr",
     "output_type": "stream",
     "text": [
      "227it [00:29,  7.58it/s]"
     ]
    },
    {
     "name": "stdout",
     "output_type": "stream",
     "text": [
      "Before mask shape: (512, 512)\n",
      "After mask shape: (512, 512)\n",
      "Before crop shape: (4, 512, 512)\n",
      "After crop shape: (4, 512, 512)\n"
     ]
    },
    {
     "name": "stderr",
     "output_type": "stream",
     "text": [
      "228it [00:29,  7.61it/s]"
     ]
    },
    {
     "name": "stdout",
     "output_type": "stream",
     "text": [
      "Before mask shape: (512, 512)\n",
      "After mask shape: (512, 512)\n",
      "Before crop shape: (4, 512, 512)\n",
      "After crop shape: (4, 512, 512)\n"
     ]
    },
    {
     "name": "stderr",
     "output_type": "stream",
     "text": [
      "229it [00:29,  7.64it/s]"
     ]
    },
    {
     "name": "stdout",
     "output_type": "stream",
     "text": [
      "Before mask shape: (512, 512)\n",
      "After mask shape: (512, 512)\n",
      "Before crop shape: (4, 512, 512)\n",
      "After crop shape: (4, 512, 512)\n"
     ]
    },
    {
     "name": "stderr",
     "output_type": "stream",
     "text": [
      "230it [00:30,  7.67it/s]"
     ]
    },
    {
     "name": "stdout",
     "output_type": "stream",
     "text": [
      "Before mask shape: (512, 512)\n",
      "After mask shape: (512, 512)\n",
      "Before crop shape: (4, 512, 512)\n",
      "After crop shape: (4, 512, 512)\n"
     ]
    },
    {
     "name": "stderr",
     "output_type": "stream",
     "text": [
      "231it [00:30,  7.66it/s]"
     ]
    },
    {
     "name": "stdout",
     "output_type": "stream",
     "text": [
      "Before mask shape: (512, 512)\n",
      "After mask shape: (512, 512)\n",
      "Before crop shape: (4, 512, 512)\n",
      "After crop shape: (4, 512, 512)\n"
     ]
    },
    {
     "name": "stderr",
     "output_type": "stream",
     "text": [
      "232it [00:30,  7.68it/s]"
     ]
    },
    {
     "name": "stdout",
     "output_type": "stream",
     "text": [
      "Before mask shape: (512, 512)\n",
      "After mask shape: (512, 512)\n",
      "Before crop shape: (4, 512, 512)\n",
      "After crop shape: (4, 512, 512)\n"
     ]
    },
    {
     "name": "stderr",
     "output_type": "stream",
     "text": [
      "233it [00:30,  7.69it/s]"
     ]
    },
    {
     "name": "stdout",
     "output_type": "stream",
     "text": [
      "Before mask shape: (512, 512)\n",
      "After mask shape: (512, 512)\n",
      "Before crop shape: (4, 512, 512)\n",
      "After crop shape: (4, 512, 512)\n"
     ]
    },
    {
     "name": "stderr",
     "output_type": "stream",
     "text": [
      "234it [00:30,  7.71it/s]"
     ]
    },
    {
     "name": "stdout",
     "output_type": "stream",
     "text": [
      "Before mask shape: (512, 512)\n",
      "After mask shape: (512, 512)\n",
      "Before crop shape: (4, 512, 512)\n",
      "After crop shape: (4, 512, 512)\n"
     ]
    },
    {
     "name": "stderr",
     "output_type": "stream",
     "text": [
      "235it [00:30,  7.70it/s]"
     ]
    },
    {
     "name": "stdout",
     "output_type": "stream",
     "text": [
      "Before mask shape: (512, 512)\n",
      "After mask shape: (512, 512)\n",
      "Before crop shape: (4, 512, 512)\n",
      "After crop shape: (4, 512, 512)\n"
     ]
    },
    {
     "name": "stderr",
     "output_type": "stream",
     "text": [
      "236it [00:30,  7.71it/s]"
     ]
    },
    {
     "name": "stdout",
     "output_type": "stream",
     "text": [
      "Before mask shape: (512, 512)\n",
      "After mask shape: (512, 512)\n",
      "Before crop shape: (4, 512, 512)\n",
      "After crop shape: (4, 512, 512)\n"
     ]
    },
    {
     "name": "stderr",
     "output_type": "stream",
     "text": [
      "237it [00:31,  7.68it/s]"
     ]
    },
    {
     "name": "stdout",
     "output_type": "stream",
     "text": [
      "Before mask shape: (512, 512)\n",
      "After mask shape: (512, 512)\n",
      "Before crop shape: (4, 512, 512)\n",
      "After crop shape: (4, 512, 512)\n"
     ]
    },
    {
     "name": "stderr",
     "output_type": "stream",
     "text": [
      "238it [00:31,  7.70it/s]"
     ]
    },
    {
     "name": "stdout",
     "output_type": "stream",
     "text": [
      "Before mask shape: (512, 512)\n",
      "After mask shape: (512, 512)\n",
      "Before crop shape: (4, 512, 512)\n",
      "After crop shape: (4, 512, 512)\n"
     ]
    },
    {
     "name": "stderr",
     "output_type": "stream",
     "text": [
      "239it [00:31,  7.70it/s]"
     ]
    },
    {
     "name": "stdout",
     "output_type": "stream",
     "text": [
      "Before mask shape: (512, 512)\n",
      "After mask shape: (512, 512)\n",
      "Before crop shape: (4, 512, 512)\n",
      "After crop shape: (4, 512, 402)\n"
     ]
    },
    {
     "name": "stderr",
     "output_type": "stream",
     "text": [
      "240it [00:31,  7.66it/s]"
     ]
    },
    {
     "name": "stdout",
     "output_type": "stream",
     "text": [
      "Before mask shape: (512, 402)\n",
      "After mask shape: (512, 402)\n",
      "Before crop shape: (4, 512, 512)\n",
      "After crop shape: (4, 512, 512)\n"
     ]
    },
    {
     "name": "stderr",
     "output_type": "stream",
     "text": [
      "241it [00:31,  7.02it/s]"
     ]
    },
    {
     "name": "stdout",
     "output_type": "stream",
     "text": [
      "Before mask shape: (512, 512)\n",
      "After mask shape: (512, 512)\n",
      "Before crop shape: (4, 512, 512)\n",
      "After crop shape: (4, 512, 512)\n"
     ]
    },
    {
     "name": "stderr",
     "output_type": "stream",
     "text": [
      "242it [00:31,  7.17it/s]"
     ]
    },
    {
     "name": "stdout",
     "output_type": "stream",
     "text": [
      "Before mask shape: (512, 512)\n",
      "After mask shape: (512, 512)\n",
      "Before crop shape: (4, 512, 512)\n",
      "After crop shape: (4, 512, 512)\n"
     ]
    },
    {
     "name": "stderr",
     "output_type": "stream",
     "text": [
      "243it [00:31,  7.32it/s]"
     ]
    },
    {
     "name": "stdout",
     "output_type": "stream",
     "text": [
      "Before mask shape: (512, 512)\n",
      "After mask shape: (512, 512)\n",
      "Before crop shape: (4, 512, 512)\n",
      "After crop shape: (4, 512, 512)\n"
     ]
    },
    {
     "name": "stderr",
     "output_type": "stream",
     "text": [
      "244it [00:31,  7.41it/s]"
     ]
    },
    {
     "name": "stdout",
     "output_type": "stream",
     "text": [
      "Before mask shape: (512, 512)\n",
      "After mask shape: (512, 512)\n",
      "Before crop shape: (4, 512, 512)\n",
      "After crop shape: (4, 512, 512)\n"
     ]
    },
    {
     "name": "stderr",
     "output_type": "stream",
     "text": [
      "245it [00:32,  7.45it/s]"
     ]
    },
    {
     "name": "stdout",
     "output_type": "stream",
     "text": [
      "Before mask shape: (512, 512)\n",
      "After mask shape: (512, 512)\n",
      "Before crop shape: (4, 512, 512)\n",
      "After crop shape: (4, 512, 512)\n"
     ]
    },
    {
     "name": "stderr",
     "output_type": "stream",
     "text": [
      "246it [00:32,  7.52it/s]"
     ]
    },
    {
     "name": "stdout",
     "output_type": "stream",
     "text": [
      "Before mask shape: (512, 512)\n",
      "After mask shape: (512, 512)\n",
      "Before crop shape: (4, 512, 512)\n",
      "After crop shape: (4, 512, 512)\n"
     ]
    },
    {
     "name": "stderr",
     "output_type": "stream",
     "text": [
      "247it [00:32,  7.58it/s]"
     ]
    },
    {
     "name": "stdout",
     "output_type": "stream",
     "text": [
      "Before mask shape: (512, 512)\n",
      "After mask shape: (512, 512)\n",
      "Before crop shape: (4, 512, 512)\n",
      "After crop shape: (4, 512, 512)\n"
     ]
    },
    {
     "name": "stderr",
     "output_type": "stream",
     "text": [
      "248it [00:32,  7.62it/s]"
     ]
    },
    {
     "name": "stdout",
     "output_type": "stream",
     "text": [
      "Before mask shape: (512, 512)\n",
      "After mask shape: (512, 512)\n",
      "Before crop shape: (4, 512, 512)\n",
      "After crop shape: (4, 512, 512)\n"
     ]
    },
    {
     "name": "stderr",
     "output_type": "stream",
     "text": [
      "249it [00:32,  7.64it/s]"
     ]
    },
    {
     "name": "stdout",
     "output_type": "stream",
     "text": [
      "Before mask shape: (512, 512)\n",
      "After mask shape: (512, 512)\n",
      "Before crop shape: (4, 512, 512)\n",
      "After crop shape: (4, 512, 512)\n"
     ]
    },
    {
     "name": "stderr",
     "output_type": "stream",
     "text": [
      "250it [00:32,  7.66it/s]"
     ]
    },
    {
     "name": "stdout",
     "output_type": "stream",
     "text": [
      "Before mask shape: (512, 512)\n",
      "After mask shape: (512, 512)\n",
      "Before crop shape: (4, 512, 512)\n",
      "After crop shape: (4, 512, 512)\n"
     ]
    },
    {
     "name": "stderr",
     "output_type": "stream",
     "text": [
      "251it [00:32,  7.68it/s]"
     ]
    },
    {
     "name": "stdout",
     "output_type": "stream",
     "text": [
      "Before mask shape: (512, 512)\n",
      "After mask shape: (512, 512)\n",
      "Before crop shape: (4, 512, 512)\n",
      "After crop shape: (4, 512, 512)\n"
     ]
    },
    {
     "name": "stderr",
     "output_type": "stream",
     "text": [
      "252it [00:33,  7.68it/s]"
     ]
    },
    {
     "name": "stdout",
     "output_type": "stream",
     "text": [
      "Before mask shape: (512, 512)\n",
      "After mask shape: (512, 512)\n",
      "Before crop shape: (4, 512, 512)\n",
      "After crop shape: (4, 512, 512)\n"
     ]
    },
    {
     "name": "stderr",
     "output_type": "stream",
     "text": [
      "253it [00:33,  7.70it/s]"
     ]
    },
    {
     "name": "stdout",
     "output_type": "stream",
     "text": [
      "Before mask shape: (512, 512)\n",
      "After mask shape: (512, 512)\n",
      "Before crop shape: (4, 512, 512)\n",
      "After crop shape: (4, 512, 512)\n"
     ]
    },
    {
     "name": "stderr",
     "output_type": "stream",
     "text": [
      "254it [00:33,  7.69it/s]"
     ]
    },
    {
     "name": "stdout",
     "output_type": "stream",
     "text": [
      "Before mask shape: (512, 512)\n",
      "After mask shape: (512, 512)\n",
      "Before crop shape: (4, 512, 512)\n",
      "After crop shape: (4, 512, 512)\n"
     ]
    },
    {
     "name": "stderr",
     "output_type": "stream",
     "text": [
      "255it [00:33,  7.68it/s]"
     ]
    },
    {
     "name": "stdout",
     "output_type": "stream",
     "text": [
      "Before mask shape: (512, 512)\n",
      "After mask shape: (512, 512)\n",
      "Before crop shape: (4, 512, 512)\n",
      "After crop shape: (4, 512, 512)\n"
     ]
    },
    {
     "name": "stderr",
     "output_type": "stream",
     "text": [
      "256it [00:33,  7.67it/s]"
     ]
    },
    {
     "name": "stdout",
     "output_type": "stream",
     "text": [
      "Before mask shape: (512, 512)\n",
      "After mask shape: (512, 512)\n",
      "Before crop shape: (4, 512, 512)\n",
      "After crop shape: (4, 512, 512)\n"
     ]
    },
    {
     "name": "stderr",
     "output_type": "stream",
     "text": [
      "257it [00:33,  7.67it/s]"
     ]
    },
    {
     "name": "stdout",
     "output_type": "stream",
     "text": [
      "Before mask shape: (512, 512)\n",
      "After mask shape: (512, 512)\n",
      "Before crop shape: (4, 512, 512)\n",
      "After crop shape: (4, 512, 512)\n"
     ]
    },
    {
     "name": "stderr",
     "output_type": "stream",
     "text": [
      "258it [00:33,  7.67it/s]"
     ]
    },
    {
     "name": "stdout",
     "output_type": "stream",
     "text": [
      "Before mask shape: (512, 512)\n",
      "After mask shape: (512, 512)\n",
      "Before crop shape: (4, 512, 512)\n",
      "After crop shape: (4, 512, 512)\n"
     ]
    },
    {
     "name": "stderr",
     "output_type": "stream",
     "text": [
      "259it [00:33,  7.69it/s]"
     ]
    },
    {
     "name": "stdout",
     "output_type": "stream",
     "text": [
      "Before mask shape: (512, 512)\n",
      "After mask shape: (512, 512)\n",
      "Before crop shape: (4, 512, 512)\n",
      "After crop shape: (4, 512, 402)\n"
     ]
    },
    {
     "name": "stderr",
     "output_type": "stream",
     "text": [
      "260it [00:34,  7.64it/s]"
     ]
    },
    {
     "name": "stdout",
     "output_type": "stream",
     "text": [
      "Before mask shape: (512, 402)\n",
      "After mask shape: (512, 402)\n",
      "Before crop shape: (4, 512, 512)\n",
      "After crop shape: (4, 512, 512)\n"
     ]
    },
    {
     "name": "stderr",
     "output_type": "stream",
     "text": [
      "261it [00:34,  7.08it/s]"
     ]
    },
    {
     "name": "stdout",
     "output_type": "stream",
     "text": [
      "Before mask shape: (512, 512)\n",
      "After mask shape: (512, 512)\n",
      "Before crop shape: (4, 512, 512)\n",
      "After crop shape: (4, 512, 512)\n"
     ]
    },
    {
     "name": "stderr",
     "output_type": "stream",
     "text": [
      "262it [00:34,  7.24it/s]"
     ]
    },
    {
     "name": "stdout",
     "output_type": "stream",
     "text": [
      "Before mask shape: (512, 512)\n",
      "After mask shape: (512, 512)\n",
      "Before crop shape: (4, 512, 512)\n",
      "After crop shape: (4, 512, 512)\n"
     ]
    },
    {
     "name": "stderr",
     "output_type": "stream",
     "text": [
      "263it [00:34,  7.34it/s]"
     ]
    },
    {
     "name": "stdout",
     "output_type": "stream",
     "text": [
      "Before mask shape: (512, 512)\n",
      "After mask shape: (512, 512)\n",
      "Before crop shape: (4, 512, 512)\n",
      "After crop shape: (4, 512, 512)\n"
     ]
    },
    {
     "name": "stderr",
     "output_type": "stream",
     "text": [
      "264it [00:34,  7.42it/s]"
     ]
    },
    {
     "name": "stdout",
     "output_type": "stream",
     "text": [
      "Before mask shape: (512, 512)\n",
      "After mask shape: (512, 512)\n",
      "Before crop shape: (4, 512, 512)\n",
      "After crop shape: (4, 512, 512)\n"
     ]
    },
    {
     "name": "stderr",
     "output_type": "stream",
     "text": [
      "265it [00:34,  7.49it/s]"
     ]
    },
    {
     "name": "stdout",
     "output_type": "stream",
     "text": [
      "Before mask shape: (512, 512)\n",
      "After mask shape: (512, 512)\n",
      "Before crop shape: (4, 512, 512)\n",
      "After crop shape: (4, 512, 512)\n"
     ]
    },
    {
     "name": "stderr",
     "output_type": "stream",
     "text": [
      "266it [00:34,  7.52it/s]"
     ]
    },
    {
     "name": "stdout",
     "output_type": "stream",
     "text": [
      "Before mask shape: (512, 512)\n",
      "After mask shape: (512, 512)\n",
      "Before crop shape: (4, 512, 512)\n",
      "After crop shape: (4, 512, 512)\n"
     ]
    },
    {
     "name": "stderr",
     "output_type": "stream",
     "text": [
      "267it [00:35,  7.56it/s]"
     ]
    },
    {
     "name": "stdout",
     "output_type": "stream",
     "text": [
      "Before mask shape: (512, 512)\n",
      "After mask shape: (512, 512)\n",
      "Before crop shape: (4, 512, 512)\n",
      "After crop shape: (4, 512, 512)\n"
     ]
    },
    {
     "name": "stderr",
     "output_type": "stream",
     "text": [
      "268it [00:35,  7.59it/s]"
     ]
    },
    {
     "name": "stdout",
     "output_type": "stream",
     "text": [
      "Before mask shape: (512, 512)\n",
      "After mask shape: (512, 512)\n",
      "Before crop shape: (4, 512, 512)\n",
      "After crop shape: (4, 512, 512)\n"
     ]
    },
    {
     "name": "stderr",
     "output_type": "stream",
     "text": [
      "269it [00:35,  7.61it/s]"
     ]
    },
    {
     "name": "stdout",
     "output_type": "stream",
     "text": [
      "Before mask shape: (512, 512)\n",
      "After mask shape: (512, 512)\n",
      "Before crop shape: (4, 512, 512)\n",
      "After crop shape: (4, 512, 512)\n"
     ]
    },
    {
     "name": "stderr",
     "output_type": "stream",
     "text": [
      "270it [00:35,  7.63it/s]"
     ]
    },
    {
     "name": "stdout",
     "output_type": "stream",
     "text": [
      "Before mask shape: (512, 512)\n",
      "After mask shape: (512, 512)\n",
      "Before crop shape: (4, 512, 512)\n",
      "After crop shape: (4, 512, 512)\n"
     ]
    },
    {
     "name": "stderr",
     "output_type": "stream",
     "text": [
      "271it [00:35,  7.62it/s]"
     ]
    },
    {
     "name": "stdout",
     "output_type": "stream",
     "text": [
      "Before mask shape: (512, 512)\n",
      "After mask shape: (512, 512)\n",
      "Before crop shape: (4, 512, 512)\n",
      "After crop shape: (4, 512, 512)\n"
     ]
    },
    {
     "name": "stderr",
     "output_type": "stream",
     "text": [
      "272it [00:35,  7.56it/s]"
     ]
    },
    {
     "name": "stdout",
     "output_type": "stream",
     "text": [
      "Before mask shape: (512, 512)\n",
      "After mask shape: (512, 512)\n",
      "Before crop shape: (4, 512, 512)\n",
      "After crop shape: (4, 512, 512)\n"
     ]
    },
    {
     "name": "stderr",
     "output_type": "stream",
     "text": [
      "273it [00:35,  7.61it/s]"
     ]
    },
    {
     "name": "stdout",
     "output_type": "stream",
     "text": [
      "Before mask shape: (512, 512)\n",
      "After mask shape: (512, 512)\n",
      "Before crop shape: (4, 512, 512)\n",
      "After crop shape: (4, 512, 512)\n"
     ]
    },
    {
     "name": "stderr",
     "output_type": "stream",
     "text": [
      "274it [00:35,  7.64it/s]"
     ]
    },
    {
     "name": "stdout",
     "output_type": "stream",
     "text": [
      "Before mask shape: (512, 512)\n",
      "After mask shape: (512, 512)\n",
      "Before crop shape: (4, 512, 512)\n",
      "After crop shape: (4, 512, 512)\n"
     ]
    },
    {
     "name": "stderr",
     "output_type": "stream",
     "text": [
      "275it [00:36,  7.66it/s]"
     ]
    },
    {
     "name": "stdout",
     "output_type": "stream",
     "text": [
      "Before mask shape: (512, 512)\n",
      "After mask shape: (512, 512)\n",
      "Before crop shape: (4, 512, 512)\n",
      "After crop shape: (4, 512, 512)\n"
     ]
    },
    {
     "name": "stderr",
     "output_type": "stream",
     "text": [
      "276it [00:36,  7.67it/s]"
     ]
    },
    {
     "name": "stdout",
     "output_type": "stream",
     "text": [
      "Before mask shape: (512, 512)\n",
      "After mask shape: (512, 512)\n",
      "Before crop shape: (4, 512, 512)\n",
      "After crop shape: (4, 512, 512)\n"
     ]
    },
    {
     "name": "stderr",
     "output_type": "stream",
     "text": [
      "277it [00:36,  7.66it/s]"
     ]
    },
    {
     "name": "stdout",
     "output_type": "stream",
     "text": [
      "Before mask shape: (512, 512)\n",
      "After mask shape: (512, 512)\n",
      "Before crop shape: (4, 512, 512)\n",
      "After crop shape: (4, 512, 512)\n"
     ]
    },
    {
     "name": "stderr",
     "output_type": "stream",
     "text": [
      "278it [00:36,  7.54it/s]"
     ]
    },
    {
     "name": "stdout",
     "output_type": "stream",
     "text": [
      "Before mask shape: (512, 512)\n",
      "After mask shape: (512, 512)\n",
      "Before crop shape: (4, 512, 512)\n",
      "After crop shape: (4, 512, 512)\n"
     ]
    },
    {
     "name": "stderr",
     "output_type": "stream",
     "text": [
      "279it [00:36,  7.48it/s]"
     ]
    },
    {
     "name": "stdout",
     "output_type": "stream",
     "text": [
      "Before mask shape: (512, 512)\n",
      "After mask shape: (512, 512)\n",
      "Before crop shape: (4, 512, 512)\n",
      "After crop shape: (4, 512, 402)\n"
     ]
    },
    {
     "name": "stderr",
     "output_type": "stream",
     "text": [
      "280it [00:36,  7.53it/s]"
     ]
    },
    {
     "name": "stdout",
     "output_type": "stream",
     "text": [
      "Before mask shape: (512, 402)\n",
      "After mask shape: (512, 402)\n",
      "Before crop shape: (4, 512, 512)\n",
      "After crop shape: (4, 512, 512)\n"
     ]
    },
    {
     "name": "stderr",
     "output_type": "stream",
     "text": [
      "281it [00:36,  6.94it/s]"
     ]
    },
    {
     "name": "stdout",
     "output_type": "stream",
     "text": [
      "Before mask shape: (512, 512)\n",
      "After mask shape: (512, 512)\n",
      "Before crop shape: (4, 512, 512)\n",
      "After crop shape: (4, 512, 512)\n"
     ]
    },
    {
     "name": "stderr",
     "output_type": "stream",
     "text": [
      "282it [00:37,  7.15it/s]"
     ]
    },
    {
     "name": "stdout",
     "output_type": "stream",
     "text": [
      "Before mask shape: (512, 512)\n",
      "After mask shape: (512, 512)\n",
      "Before crop shape: (4, 512, 512)\n",
      "After crop shape: (4, 512, 512)\n"
     ]
    },
    {
     "name": "stderr",
     "output_type": "stream",
     "text": [
      "283it [00:37,  7.31it/s]"
     ]
    },
    {
     "name": "stdout",
     "output_type": "stream",
     "text": [
      "Before mask shape: (512, 512)\n",
      "After mask shape: (512, 512)\n",
      "Before crop shape: (4, 512, 512)\n",
      "After crop shape: (4, 512, 512)\n"
     ]
    },
    {
     "name": "stderr",
     "output_type": "stream",
     "text": [
      "284it [00:37,  7.42it/s]"
     ]
    },
    {
     "name": "stdout",
     "output_type": "stream",
     "text": [
      "Before mask shape: (512, 512)\n",
      "After mask shape: (512, 512)\n",
      "Before crop shape: (4, 512, 512)\n",
      "After crop shape: (4, 512, 512)\n"
     ]
    },
    {
     "name": "stderr",
     "output_type": "stream",
     "text": [
      "285it [00:37,  7.50it/s]"
     ]
    },
    {
     "name": "stdout",
     "output_type": "stream",
     "text": [
      "Before mask shape: (512, 512)\n",
      "After mask shape: (512, 512)\n",
      "Before crop shape: (4, 512, 512)\n",
      "After crop shape: (4, 512, 512)\n"
     ]
    },
    {
     "name": "stderr",
     "output_type": "stream",
     "text": [
      "286it [00:37,  7.52it/s]"
     ]
    },
    {
     "name": "stdout",
     "output_type": "stream",
     "text": [
      "Before mask shape: (512, 512)\n",
      "After mask shape: (512, 512)\n",
      "Before crop shape: (4, 512, 512)\n",
      "After crop shape: (4, 512, 512)\n"
     ]
    },
    {
     "name": "stderr",
     "output_type": "stream",
     "text": [
      "287it [00:37,  7.57it/s]"
     ]
    },
    {
     "name": "stdout",
     "output_type": "stream",
     "text": [
      "Before mask shape: (512, 512)\n",
      "After mask shape: (512, 512)\n",
      "Before crop shape: (4, 512, 512)\n",
      "After crop shape: (4, 512, 512)\n"
     ]
    },
    {
     "name": "stderr",
     "output_type": "stream",
     "text": [
      "288it [00:37,  7.59it/s]"
     ]
    },
    {
     "name": "stdout",
     "output_type": "stream",
     "text": [
      "Before mask shape: (512, 512)\n",
      "After mask shape: (512, 512)\n",
      "Before crop shape: (4, 512, 512)\n",
      "After crop shape: (4, 512, 512)\n"
     ]
    },
    {
     "name": "stderr",
     "output_type": "stream",
     "text": [
      "289it [00:37,  7.64it/s]"
     ]
    },
    {
     "name": "stdout",
     "output_type": "stream",
     "text": [
      "Before mask shape: (512, 512)\n",
      "After mask shape: (512, 512)\n",
      "Before crop shape: (4, 512, 512)\n",
      "After crop shape: (4, 512, 512)\n"
     ]
    },
    {
     "name": "stderr",
     "output_type": "stream",
     "text": [
      "290it [00:38,  7.65it/s]"
     ]
    },
    {
     "name": "stdout",
     "output_type": "stream",
     "text": [
      "Before mask shape: (512, 512)\n",
      "After mask shape: (512, 512)\n",
      "Before crop shape: (4, 512, 512)\n",
      "After crop shape: (4, 512, 512)\n"
     ]
    },
    {
     "name": "stderr",
     "output_type": "stream",
     "text": [
      "291it [00:38,  7.65it/s]"
     ]
    },
    {
     "name": "stdout",
     "output_type": "stream",
     "text": [
      "Before mask shape: (512, 512)\n",
      "After mask shape: (512, 512)\n",
      "Before crop shape: (4, 512, 512)\n",
      "After crop shape: (4, 512, 512)\n"
     ]
    },
    {
     "name": "stderr",
     "output_type": "stream",
     "text": [
      "292it [00:38,  7.64it/s]"
     ]
    },
    {
     "name": "stdout",
     "output_type": "stream",
     "text": [
      "Before mask shape: (512, 512)\n",
      "After mask shape: (512, 512)\n",
      "Before crop shape: (4, 512, 512)\n",
      "After crop shape: (4, 512, 512)\n"
     ]
    },
    {
     "name": "stderr",
     "output_type": "stream",
     "text": [
      "293it [00:38,  7.63it/s]"
     ]
    },
    {
     "name": "stdout",
     "output_type": "stream",
     "text": [
      "Before mask shape: (512, 512)\n",
      "After mask shape: (512, 512)\n",
      "Before crop shape: (4, 512, 512)\n",
      "After crop shape: (4, 512, 512)\n"
     ]
    },
    {
     "name": "stderr",
     "output_type": "stream",
     "text": [
      "294it [00:38,  7.56it/s]"
     ]
    },
    {
     "name": "stdout",
     "output_type": "stream",
     "text": [
      "Before mask shape: (512, 512)\n",
      "After mask shape: (512, 512)\n",
      "Before crop shape: (4, 512, 512)\n",
      "After crop shape: (4, 512, 512)\n"
     ]
    },
    {
     "name": "stderr",
     "output_type": "stream",
     "text": [
      "295it [00:38,  7.60it/s]"
     ]
    },
    {
     "name": "stdout",
     "output_type": "stream",
     "text": [
      "Before mask shape: (512, 512)\n",
      "After mask shape: (512, 512)\n",
      "Before crop shape: (4, 512, 512)\n",
      "After crop shape: (4, 512, 512)\n"
     ]
    },
    {
     "name": "stderr",
     "output_type": "stream",
     "text": [
      "296it [00:38,  7.62it/s]"
     ]
    },
    {
     "name": "stdout",
     "output_type": "stream",
     "text": [
      "Before mask shape: (512, 512)\n",
      "After mask shape: (512, 512)\n",
      "Before crop shape: (4, 512, 512)\n",
      "After crop shape: (4, 512, 512)\n"
     ]
    },
    {
     "name": "stderr",
     "output_type": "stream",
     "text": [
      "297it [00:38,  7.64it/s]"
     ]
    },
    {
     "name": "stdout",
     "output_type": "stream",
     "text": [
      "Before mask shape: (512, 512)\n",
      "After mask shape: (512, 512)\n",
      "Before crop shape: (4, 512, 512)\n",
      "After crop shape: (4, 512, 512)\n"
     ]
    },
    {
     "name": "stderr",
     "output_type": "stream",
     "text": [
      "298it [00:39,  7.65it/s]"
     ]
    },
    {
     "name": "stdout",
     "output_type": "stream",
     "text": [
      "Before mask shape: (512, 512)\n",
      "After mask shape: (512, 512)\n",
      "Before crop shape: (4, 512, 512)\n",
      "After crop shape: (4, 512, 512)\n"
     ]
    },
    {
     "name": "stderr",
     "output_type": "stream",
     "text": [
      "299it [00:39,  7.65it/s]"
     ]
    },
    {
     "name": "stdout",
     "output_type": "stream",
     "text": [
      "Before mask shape: (512, 512)\n",
      "After mask shape: (512, 512)\n",
      "Before crop shape: (4, 512, 512)\n",
      "After crop shape: (4, 512, 402)\n"
     ]
    },
    {
     "name": "stderr",
     "output_type": "stream",
     "text": [
      "300it [00:39,  7.65it/s]"
     ]
    },
    {
     "name": "stdout",
     "output_type": "stream",
     "text": [
      "Before mask shape: (512, 402)\n",
      "After mask shape: (512, 402)\n",
      "Before crop shape: (4, 512, 512)\n",
      "After crop shape: (4, 512, 512)\n"
     ]
    },
    {
     "name": "stderr",
     "output_type": "stream",
     "text": [
      "301it [00:39,  6.98it/s]"
     ]
    },
    {
     "name": "stdout",
     "output_type": "stream",
     "text": [
      "Before mask shape: (512, 512)\n",
      "After mask shape: (512, 512)\n",
      "Before crop shape: (4, 512, 512)\n",
      "After crop shape: (4, 512, 512)\n"
     ]
    },
    {
     "name": "stderr",
     "output_type": "stream",
     "text": [
      "302it [00:39,  7.17it/s]"
     ]
    },
    {
     "name": "stdout",
     "output_type": "stream",
     "text": [
      "Before mask shape: (512, 512)\n",
      "After mask shape: (512, 512)\n",
      "Before crop shape: (4, 512, 512)\n",
      "After crop shape: (4, 512, 512)\n"
     ]
    },
    {
     "name": "stderr",
     "output_type": "stream",
     "text": [
      "303it [00:39,  7.31it/s]"
     ]
    },
    {
     "name": "stdout",
     "output_type": "stream",
     "text": [
      "Before mask shape: (512, 512)\n",
      "After mask shape: (512, 512)\n",
      "Before crop shape: (4, 512, 512)\n",
      "After crop shape: (4, 512, 512)\n"
     ]
    },
    {
     "name": "stderr",
     "output_type": "stream",
     "text": [
      "304it [00:39,  7.42it/s]"
     ]
    },
    {
     "name": "stdout",
     "output_type": "stream",
     "text": [
      "Before mask shape: (512, 512)\n",
      "After mask shape: (512, 512)\n",
      "Before crop shape: (4, 512, 512)\n",
      "After crop shape: (4, 512, 512)\n"
     ]
    },
    {
     "name": "stderr",
     "output_type": "stream",
     "text": [
      "305it [00:40,  7.47it/s]"
     ]
    },
    {
     "name": "stdout",
     "output_type": "stream",
     "text": [
      "Before mask shape: (512, 512)\n",
      "After mask shape: (512, 512)\n",
      "Before crop shape: (4, 512, 512)\n",
      "After crop shape: (4, 512, 512)\n"
     ]
    },
    {
     "name": "stderr",
     "output_type": "stream",
     "text": [
      "306it [00:40,  7.53it/s]"
     ]
    },
    {
     "name": "stdout",
     "output_type": "stream",
     "text": [
      "Before mask shape: (512, 512)\n",
      "After mask shape: (512, 512)\n",
      "Before crop shape: (4, 512, 512)\n",
      "After crop shape: (4, 512, 512)\n"
     ]
    },
    {
     "name": "stderr",
     "output_type": "stream",
     "text": [
      "307it [00:40,  7.56it/s]"
     ]
    },
    {
     "name": "stdout",
     "output_type": "stream",
     "text": [
      "Before mask shape: (512, 512)\n",
      "After mask shape: (512, 512)\n",
      "Before crop shape: (4, 512, 512)\n",
      "After crop shape: (4, 512, 512)\n"
     ]
    },
    {
     "name": "stderr",
     "output_type": "stream",
     "text": [
      "308it [00:40,  7.57it/s]"
     ]
    },
    {
     "name": "stdout",
     "output_type": "stream",
     "text": [
      "Before mask shape: (512, 512)\n",
      "After mask shape: (512, 512)\n",
      "Before crop shape: (4, 512, 512)\n",
      "After crop shape: (4, 512, 512)\n"
     ]
    },
    {
     "name": "stderr",
     "output_type": "stream",
     "text": [
      "309it [00:40,  7.60it/s]"
     ]
    },
    {
     "name": "stdout",
     "output_type": "stream",
     "text": [
      "Before mask shape: (512, 512)\n",
      "After mask shape: (512, 512)\n",
      "Before crop shape: (4, 512, 512)\n",
      "After crop shape: (4, 512, 512)\n"
     ]
    },
    {
     "name": "stderr",
     "output_type": "stream",
     "text": [
      "310it [00:40,  7.62it/s]"
     ]
    },
    {
     "name": "stdout",
     "output_type": "stream",
     "text": [
      "Before mask shape: (512, 512)\n",
      "After mask shape: (512, 512)\n",
      "Before crop shape: (4, 512, 512)\n",
      "After crop shape: (4, 512, 512)\n"
     ]
    },
    {
     "name": "stderr",
     "output_type": "stream",
     "text": [
      "311it [00:40,  7.64it/s]"
     ]
    },
    {
     "name": "stdout",
     "output_type": "stream",
     "text": [
      "Before mask shape: (512, 512)\n",
      "After mask shape: (512, 512)\n",
      "Before crop shape: (4, 512, 512)\n",
      "After crop shape: (4, 512, 512)\n"
     ]
    },
    {
     "name": "stderr",
     "output_type": "stream",
     "text": [
      "312it [00:40,  7.64it/s]"
     ]
    },
    {
     "name": "stdout",
     "output_type": "stream",
     "text": [
      "Before mask shape: (512, 512)\n",
      "After mask shape: (512, 512)\n",
      "Before crop shape: (4, 512, 512)\n",
      "After crop shape: (4, 512, 512)\n"
     ]
    },
    {
     "name": "stderr",
     "output_type": "stream",
     "text": [
      "313it [00:41,  7.63it/s]"
     ]
    },
    {
     "name": "stdout",
     "output_type": "stream",
     "text": [
      "Before mask shape: (512, 512)\n",
      "After mask shape: (512, 512)\n",
      "Before crop shape: (4, 512, 512)\n",
      "After crop shape: (4, 512, 512)\n"
     ]
    },
    {
     "name": "stderr",
     "output_type": "stream",
     "text": [
      "314it [00:41,  7.64it/s]"
     ]
    },
    {
     "name": "stdout",
     "output_type": "stream",
     "text": [
      "Before mask shape: (512, 512)\n",
      "After mask shape: (512, 512)\n",
      "Before crop shape: (4, 512, 512)\n",
      "After crop shape: (4, 512, 512)\n"
     ]
    },
    {
     "name": "stderr",
     "output_type": "stream",
     "text": [
      "315it [00:41,  7.64it/s]"
     ]
    },
    {
     "name": "stdout",
     "output_type": "stream",
     "text": [
      "Before mask shape: (512, 512)\n",
      "After mask shape: (512, 512)\n",
      "Before crop shape: (4, 512, 512)\n",
      "After crop shape: (4, 512, 512)\n"
     ]
    },
    {
     "name": "stderr",
     "output_type": "stream",
     "text": [
      "316it [00:41,  7.64it/s]"
     ]
    },
    {
     "name": "stdout",
     "output_type": "stream",
     "text": [
      "Before mask shape: (512, 512)\n",
      "After mask shape: (512, 512)\n",
      "Before crop shape: (4, 512, 512)\n",
      "After crop shape: (4, 512, 512)\n"
     ]
    },
    {
     "name": "stderr",
     "output_type": "stream",
     "text": [
      "317it [00:41,  7.66it/s]"
     ]
    },
    {
     "name": "stdout",
     "output_type": "stream",
     "text": [
      "Before mask shape: (512, 512)\n",
      "After mask shape: (512, 512)\n",
      "Before crop shape: (4, 512, 512)\n",
      "After crop shape: (4, 512, 512)\n"
     ]
    },
    {
     "name": "stderr",
     "output_type": "stream",
     "text": [
      "318it [00:41,  7.64it/s]"
     ]
    },
    {
     "name": "stdout",
     "output_type": "stream",
     "text": [
      "Before mask shape: (512, 512)\n",
      "After mask shape: (512, 512)\n",
      "Before crop shape: (4, 512, 512)\n",
      "After crop shape: (4, 512, 512)\n"
     ]
    },
    {
     "name": "stderr",
     "output_type": "stream",
     "text": [
      "319it [00:41,  7.62it/s]"
     ]
    },
    {
     "name": "stdout",
     "output_type": "stream",
     "text": [
      "Before mask shape: (512, 512)\n",
      "After mask shape: (512, 512)\n",
      "Before crop shape: (4, 512, 512)\n",
      "After crop shape: (4, 512, 402)\n"
     ]
    },
    {
     "name": "stderr",
     "output_type": "stream",
     "text": [
      "320it [00:42,  7.63it/s]"
     ]
    },
    {
     "name": "stdout",
     "output_type": "stream",
     "text": [
      "Before mask shape: (512, 402)\n",
      "After mask shape: (512, 402)\n",
      "Before crop shape: (4, 512, 512)\n",
      "After crop shape: (4, 512, 512)\n"
     ]
    },
    {
     "name": "stderr",
     "output_type": "stream",
     "text": [
      "321it [00:42,  7.02it/s]"
     ]
    },
    {
     "name": "stdout",
     "output_type": "stream",
     "text": [
      "Before mask shape: (512, 512)\n",
      "After mask shape: (512, 512)\n",
      "Before crop shape: (4, 512, 512)\n",
      "After crop shape: (4, 512, 512)\n"
     ]
    },
    {
     "name": "stderr",
     "output_type": "stream",
     "text": [
      "322it [00:42,  7.20it/s]"
     ]
    },
    {
     "name": "stdout",
     "output_type": "stream",
     "text": [
      "Before mask shape: (512, 512)\n",
      "After mask shape: (512, 512)\n",
      "Before crop shape: (4, 512, 512)\n",
      "After crop shape: (4, 512, 512)\n"
     ]
    },
    {
     "name": "stderr",
     "output_type": "stream",
     "text": [
      "323it [00:42,  7.32it/s]"
     ]
    },
    {
     "name": "stdout",
     "output_type": "stream",
     "text": [
      "Before mask shape: (512, 512)\n",
      "After mask shape: (512, 512)\n",
      "Before crop shape: (4, 512, 512)\n",
      "After crop shape: (4, 512, 512)\n"
     ]
    },
    {
     "name": "stderr",
     "output_type": "stream",
     "text": [
      "324it [00:42,  7.42it/s]"
     ]
    },
    {
     "name": "stdout",
     "output_type": "stream",
     "text": [
      "Before mask shape: (512, 512)\n",
      "After mask shape: (512, 512)\n",
      "Before crop shape: (4, 512, 512)\n",
      "After crop shape: (4, 512, 512)\n"
     ]
    },
    {
     "name": "stderr",
     "output_type": "stream",
     "text": [
      "325it [00:42,  7.48it/s]"
     ]
    },
    {
     "name": "stdout",
     "output_type": "stream",
     "text": [
      "Before mask shape: (512, 512)\n",
      "After mask shape: (512, 512)\n",
      "Before crop shape: (4, 512, 512)\n",
      "After crop shape: (4, 512, 512)\n"
     ]
    },
    {
     "name": "stderr",
     "output_type": "stream",
     "text": [
      "326it [00:42,  7.49it/s]"
     ]
    },
    {
     "name": "stdout",
     "output_type": "stream",
     "text": [
      "Before mask shape: (512, 512)\n",
      "After mask shape: (512, 512)\n",
      "Before crop shape: (4, 512, 512)\n",
      "After crop shape: (4, 512, 512)\n"
     ]
    },
    {
     "name": "stderr",
     "output_type": "stream",
     "text": [
      "327it [00:42,  7.52it/s]"
     ]
    },
    {
     "name": "stdout",
     "output_type": "stream",
     "text": [
      "Before mask shape: (512, 512)\n",
      "After mask shape: (512, 512)\n",
      "Before crop shape: (4, 512, 512)\n",
      "After crop shape: (4, 512, 512)\n"
     ]
    },
    {
     "name": "stderr",
     "output_type": "stream",
     "text": [
      "328it [00:43,  7.50it/s]"
     ]
    },
    {
     "name": "stdout",
     "output_type": "stream",
     "text": [
      "Before mask shape: (512, 512)\n",
      "After mask shape: (512, 512)\n",
      "Before crop shape: (4, 512, 512)\n",
      "After crop shape: (4, 512, 512)\n"
     ]
    },
    {
     "name": "stderr",
     "output_type": "stream",
     "text": [
      "329it [00:43,  7.54it/s]"
     ]
    },
    {
     "name": "stdout",
     "output_type": "stream",
     "text": [
      "Before mask shape: (512, 512)\n",
      "After mask shape: (512, 512)\n",
      "Before crop shape: (4, 512, 512)\n",
      "After crop shape: (4, 512, 512)\n"
     ]
    },
    {
     "name": "stderr",
     "output_type": "stream",
     "text": [
      "330it [00:43,  7.53it/s]"
     ]
    },
    {
     "name": "stdout",
     "output_type": "stream",
     "text": [
      "Before mask shape: (512, 512)\n",
      "After mask shape: (512, 512)\n",
      "Before crop shape: (4, 512, 512)\n",
      "After crop shape: (4, 512, 512)\n"
     ]
    },
    {
     "name": "stderr",
     "output_type": "stream",
     "text": [
      "331it [00:43,  7.57it/s]"
     ]
    },
    {
     "name": "stdout",
     "output_type": "stream",
     "text": [
      "Before mask shape: (512, 512)\n",
      "After mask shape: (512, 512)\n",
      "Before crop shape: (4, 512, 512)\n",
      "After crop shape: (4, 512, 512)\n"
     ]
    },
    {
     "name": "stderr",
     "output_type": "stream",
     "text": [
      "332it [00:43,  7.60it/s]"
     ]
    },
    {
     "name": "stdout",
     "output_type": "stream",
     "text": [
      "Before mask shape: (512, 512)\n",
      "After mask shape: (512, 512)\n",
      "Before crop shape: (4, 512, 512)\n",
      "After crop shape: (4, 512, 512)\n"
     ]
    },
    {
     "name": "stderr",
     "output_type": "stream",
     "text": [
      "333it [00:43,  7.62it/s]"
     ]
    },
    {
     "name": "stdout",
     "output_type": "stream",
     "text": [
      "Before mask shape: (512, 512)\n",
      "After mask shape: (512, 512)\n",
      "Before crop shape: (4, 512, 512)\n",
      "After crop shape: (4, 512, 512)\n"
     ]
    },
    {
     "name": "stderr",
     "output_type": "stream",
     "text": [
      "334it [00:43,  7.64it/s]"
     ]
    },
    {
     "name": "stdout",
     "output_type": "stream",
     "text": [
      "Before mask shape: (512, 512)\n",
      "After mask shape: (512, 512)\n",
      "Before crop shape: (4, 512, 512)\n",
      "After crop shape: (4, 512, 512)\n"
     ]
    },
    {
     "name": "stderr",
     "output_type": "stream",
     "text": [
      "335it [00:44,  7.64it/s]"
     ]
    },
    {
     "name": "stdout",
     "output_type": "stream",
     "text": [
      "Before mask shape: (512, 512)\n",
      "After mask shape: (512, 512)\n",
      "Before crop shape: (4, 512, 512)\n",
      "After crop shape: (4, 512, 512)\n"
     ]
    },
    {
     "name": "stderr",
     "output_type": "stream",
     "text": [
      "336it [00:44,  7.64it/s]"
     ]
    },
    {
     "name": "stdout",
     "output_type": "stream",
     "text": [
      "Before mask shape: (512, 512)\n",
      "After mask shape: (512, 512)\n",
      "Before crop shape: (4, 512, 512)\n",
      "After crop shape: (4, 512, 512)\n"
     ]
    },
    {
     "name": "stderr",
     "output_type": "stream",
     "text": [
      "337it [00:44,  7.65it/s]"
     ]
    },
    {
     "name": "stdout",
     "output_type": "stream",
     "text": [
      "Before mask shape: (512, 512)\n",
      "After mask shape: (512, 512)\n",
      "Before crop shape: (4, 512, 512)\n",
      "After crop shape: (4, 512, 512)\n"
     ]
    },
    {
     "name": "stderr",
     "output_type": "stream",
     "text": [
      "338it [00:44,  7.64it/s]"
     ]
    },
    {
     "name": "stdout",
     "output_type": "stream",
     "text": [
      "Before mask shape: (512, 512)\n",
      "After mask shape: (512, 512)\n",
      "Before crop shape: (4, 512, 512)\n",
      "After crop shape: (4, 512, 512)\n"
     ]
    },
    {
     "name": "stderr",
     "output_type": "stream",
     "text": [
      "339it [00:44,  7.65it/s]"
     ]
    },
    {
     "name": "stdout",
     "output_type": "stream",
     "text": [
      "Before mask shape: (512, 512)\n",
      "After mask shape: (512, 512)\n",
      "Before crop shape: (4, 512, 512)\n",
      "After crop shape: (4, 512, 402)\n"
     ]
    },
    {
     "name": "stderr",
     "output_type": "stream",
     "text": [
      "340it [00:44,  7.65it/s]"
     ]
    },
    {
     "name": "stdout",
     "output_type": "stream",
     "text": [
      "Before mask shape: (512, 402)\n",
      "After mask shape: (512, 402)\n",
      "Before crop shape: (4, 512, 512)\n",
      "After crop shape: (4, 512, 512)\n"
     ]
    },
    {
     "name": "stderr",
     "output_type": "stream",
     "text": [
      "341it [00:44,  7.08it/s]"
     ]
    },
    {
     "name": "stdout",
     "output_type": "stream",
     "text": [
      "Before mask shape: (512, 512)\n",
      "After mask shape: (512, 512)\n",
      "Before crop shape: (4, 512, 512)\n",
      "After crop shape: (4, 512, 512)\n"
     ]
    },
    {
     "name": "stderr",
     "output_type": "stream",
     "text": [
      "342it [00:44,  7.25it/s]"
     ]
    },
    {
     "name": "stdout",
     "output_type": "stream",
     "text": [
      "Before mask shape: (512, 512)\n",
      "After mask shape: (512, 512)\n",
      "Before crop shape: (4, 512, 512)\n",
      "After crop shape: (4, 512, 512)\n"
     ]
    },
    {
     "name": "stderr",
     "output_type": "stream",
     "text": [
      "343it [00:45,  7.34it/s]"
     ]
    },
    {
     "name": "stdout",
     "output_type": "stream",
     "text": [
      "Before mask shape: (512, 512)\n",
      "After mask shape: (512, 512)\n",
      "Before crop shape: (4, 512, 512)\n",
      "After crop shape: (4, 512, 512)\n"
     ]
    },
    {
     "name": "stderr",
     "output_type": "stream",
     "text": [
      "344it [00:45,  7.44it/s]"
     ]
    },
    {
     "name": "stdout",
     "output_type": "stream",
     "text": [
      "Before mask shape: (512, 512)\n",
      "After mask shape: (512, 512)\n",
      "Before crop shape: (4, 512, 512)\n",
      "After crop shape: (4, 512, 512)\n"
     ]
    },
    {
     "name": "stderr",
     "output_type": "stream",
     "text": [
      "345it [00:45,  7.49it/s]"
     ]
    },
    {
     "name": "stdout",
     "output_type": "stream",
     "text": [
      "Before mask shape: (512, 512)\n",
      "After mask shape: (512, 512)\n",
      "Before crop shape: (4, 512, 512)\n",
      "After crop shape: (4, 512, 512)\n"
     ]
    },
    {
     "name": "stderr",
     "output_type": "stream",
     "text": [
      "346it [00:45,  7.55it/s]"
     ]
    },
    {
     "name": "stdout",
     "output_type": "stream",
     "text": [
      "Before mask shape: (512, 512)\n",
      "After mask shape: (512, 512)\n",
      "Before crop shape: (4, 512, 512)\n",
      "After crop shape: (4, 512, 512)\n"
     ]
    },
    {
     "name": "stderr",
     "output_type": "stream",
     "text": [
      "347it [00:45,  7.58it/s]"
     ]
    },
    {
     "name": "stdout",
     "output_type": "stream",
     "text": [
      "Before mask shape: (512, 512)\n",
      "After mask shape: (512, 512)\n",
      "Before crop shape: (4, 512, 512)\n",
      "After crop shape: (4, 512, 512)\n"
     ]
    },
    {
     "name": "stderr",
     "output_type": "stream",
     "text": [
      "348it [00:45,  7.58it/s]"
     ]
    },
    {
     "name": "stdout",
     "output_type": "stream",
     "text": [
      "Before mask shape: (512, 512)\n",
      "After mask shape: (512, 512)\n",
      "Before crop shape: (4, 512, 512)\n",
      "After crop shape: (4, 512, 512)\n"
     ]
    },
    {
     "name": "stderr",
     "output_type": "stream",
     "text": [
      "349it [00:45,  7.60it/s]"
     ]
    },
    {
     "name": "stdout",
     "output_type": "stream",
     "text": [
      "Before mask shape: (512, 512)\n",
      "After mask shape: (512, 512)\n",
      "Before crop shape: (4, 512, 512)\n",
      "After crop shape: (4, 512, 512)\n"
     ]
    },
    {
     "name": "stderr",
     "output_type": "stream",
     "text": [
      "350it [00:46,  7.62it/s]"
     ]
    },
    {
     "name": "stdout",
     "output_type": "stream",
     "text": [
      "Before mask shape: (512, 512)\n",
      "After mask shape: (512, 512)\n",
      "Before crop shape: (4, 512, 512)\n",
      "After crop shape: (4, 512, 512)\n"
     ]
    },
    {
     "name": "stderr",
     "output_type": "stream",
     "text": [
      "351it [00:46,  7.63it/s]"
     ]
    },
    {
     "name": "stdout",
     "output_type": "stream",
     "text": [
      "Before mask shape: (512, 512)\n",
      "After mask shape: (512, 512)\n",
      "Before crop shape: (4, 512, 512)\n",
      "After crop shape: (4, 512, 512)\n"
     ]
    },
    {
     "name": "stderr",
     "output_type": "stream",
     "text": [
      "352it [00:46,  7.63it/s]"
     ]
    },
    {
     "name": "stdout",
     "output_type": "stream",
     "text": [
      "Before mask shape: (512, 512)\n",
      "After mask shape: (512, 512)\n",
      "Before crop shape: (4, 512, 512)\n",
      "After crop shape: (4, 512, 512)\n"
     ]
    },
    {
     "name": "stderr",
     "output_type": "stream",
     "text": [
      "353it [00:46,  7.64it/s]"
     ]
    },
    {
     "name": "stdout",
     "output_type": "stream",
     "text": [
      "Before mask shape: (512, 512)\n",
      "After mask shape: (512, 512)\n",
      "Before crop shape: (4, 512, 512)\n",
      "After crop shape: (4, 512, 512)\n"
     ]
    },
    {
     "name": "stderr",
     "output_type": "stream",
     "text": [
      "354it [00:46,  7.63it/s]"
     ]
    },
    {
     "name": "stdout",
     "output_type": "stream",
     "text": [
      "Before mask shape: (512, 512)\n",
      "After mask shape: (512, 512)\n",
      "Before crop shape: (4, 512, 512)\n",
      "After crop shape: (4, 512, 512)\n"
     ]
    },
    {
     "name": "stderr",
     "output_type": "stream",
     "text": [
      "355it [00:46,  7.63it/s]"
     ]
    },
    {
     "name": "stdout",
     "output_type": "stream",
     "text": [
      "Before mask shape: (512, 512)\n",
      "After mask shape: (512, 512)\n",
      "Before crop shape: (4, 512, 512)\n",
      "After crop shape: (4, 512, 512)\n"
     ]
    },
    {
     "name": "stderr",
     "output_type": "stream",
     "text": [
      "356it [00:46,  7.64it/s]"
     ]
    },
    {
     "name": "stdout",
     "output_type": "stream",
     "text": [
      "Before mask shape: (512, 512)\n",
      "After mask shape: (512, 512)\n",
      "Before crop shape: (4, 512, 512)\n",
      "After crop shape: (4, 512, 512)\n"
     ]
    },
    {
     "name": "stderr",
     "output_type": "stream",
     "text": [
      "357it [00:46,  7.65it/s]"
     ]
    },
    {
     "name": "stdout",
     "output_type": "stream",
     "text": [
      "Before mask shape: (512, 512)\n",
      "After mask shape: (512, 512)\n",
      "Before crop shape: (4, 512, 512)\n",
      "After crop shape: (4, 512, 512)\n"
     ]
    },
    {
     "name": "stderr",
     "output_type": "stream",
     "text": [
      "358it [00:47,  7.62it/s]"
     ]
    },
    {
     "name": "stdout",
     "output_type": "stream",
     "text": [
      "Before mask shape: (512, 512)\n",
      "After mask shape: (512, 512)\n",
      "Before crop shape: (4, 512, 512)\n",
      "After crop shape: (4, 512, 512)\n"
     ]
    },
    {
     "name": "stderr",
     "output_type": "stream",
     "text": [
      "359it [00:47,  7.62it/s]"
     ]
    },
    {
     "name": "stdout",
     "output_type": "stream",
     "text": [
      "Before mask shape: (512, 512)\n",
      "After mask shape: (512, 512)\n",
      "Before crop shape: (4, 512, 512)\n",
      "After crop shape: (4, 512, 402)\n"
     ]
    },
    {
     "name": "stderr",
     "output_type": "stream",
     "text": [
      "360it [00:47,  7.62it/s]"
     ]
    },
    {
     "name": "stdout",
     "output_type": "stream",
     "text": [
      "Before mask shape: (512, 402)\n",
      "After mask shape: (512, 402)\n",
      "Before crop shape: (4, 512, 512)\n",
      "After crop shape: (4, 512, 512)\n"
     ]
    },
    {
     "name": "stderr",
     "output_type": "stream",
     "text": [
      "361it [00:47,  7.04it/s]"
     ]
    },
    {
     "name": "stdout",
     "output_type": "stream",
     "text": [
      "Before mask shape: (512, 512)\n",
      "After mask shape: (512, 512)\n",
      "Before crop shape: (4, 512, 512)\n",
      "After crop shape: (4, 512, 512)\n"
     ]
    },
    {
     "name": "stderr",
     "output_type": "stream",
     "text": [
      "362it [00:47,  7.18it/s]"
     ]
    },
    {
     "name": "stdout",
     "output_type": "stream",
     "text": [
      "Before mask shape: (512, 512)\n",
      "After mask shape: (512, 512)\n",
      "Before crop shape: (4, 512, 512)\n",
      "After crop shape: (4, 512, 512)\n"
     ]
    },
    {
     "name": "stderr",
     "output_type": "stream",
     "text": [
      "363it [00:47,  7.31it/s]"
     ]
    },
    {
     "name": "stdout",
     "output_type": "stream",
     "text": [
      "Before mask shape: (512, 512)\n",
      "After mask shape: (512, 512)\n",
      "Before crop shape: (4, 512, 512)\n",
      "After crop shape: (4, 512, 512)\n"
     ]
    },
    {
     "name": "stderr",
     "output_type": "stream",
     "text": [
      "364it [00:47,  7.41it/s]"
     ]
    },
    {
     "name": "stdout",
     "output_type": "stream",
     "text": [
      "Before mask shape: (512, 512)\n",
      "After mask shape: (512, 512)\n",
      "Before crop shape: (4, 512, 512)\n",
      "After crop shape: (4, 512, 512)\n"
     ]
    },
    {
     "name": "stderr",
     "output_type": "stream",
     "text": [
      "365it [00:48,  7.46it/s]"
     ]
    },
    {
     "name": "stdout",
     "output_type": "stream",
     "text": [
      "Before mask shape: (512, 512)\n",
      "After mask shape: (512, 512)\n",
      "Before crop shape: (4, 512, 512)\n",
      "After crop shape: (4, 512, 512)\n"
     ]
    },
    {
     "name": "stderr",
     "output_type": "stream",
     "text": [
      "366it [00:48,  7.49it/s]"
     ]
    },
    {
     "name": "stdout",
     "output_type": "stream",
     "text": [
      "Before mask shape: (512, 512)\n",
      "After mask shape: (512, 512)\n",
      "Before crop shape: (4, 512, 512)\n",
      "After crop shape: (4, 512, 512)\n"
     ]
    },
    {
     "name": "stderr",
     "output_type": "stream",
     "text": [
      "367it [00:48,  7.53it/s]"
     ]
    },
    {
     "name": "stdout",
     "output_type": "stream",
     "text": [
      "Before mask shape: (512, 512)\n",
      "After mask shape: (512, 512)\n",
      "Before crop shape: (4, 512, 512)\n",
      "After crop shape: (4, 512, 512)\n"
     ]
    },
    {
     "name": "stderr",
     "output_type": "stream",
     "text": [
      "368it [00:48,  7.56it/s]"
     ]
    },
    {
     "name": "stdout",
     "output_type": "stream",
     "text": [
      "Before mask shape: (512, 512)\n",
      "After mask shape: (512, 512)\n",
      "Before crop shape: (4, 512, 512)\n",
      "After crop shape: (4, 512, 512)\n"
     ]
    },
    {
     "name": "stderr",
     "output_type": "stream",
     "text": [
      "369it [00:48,  7.58it/s]"
     ]
    },
    {
     "name": "stdout",
     "output_type": "stream",
     "text": [
      "Before mask shape: (512, 512)\n",
      "After mask shape: (512, 512)\n",
      "Before crop shape: (4, 512, 512)\n",
      "After crop shape: (4, 512, 512)\n"
     ]
    },
    {
     "name": "stderr",
     "output_type": "stream",
     "text": [
      "370it [00:48,  7.60it/s]"
     ]
    },
    {
     "name": "stdout",
     "output_type": "stream",
     "text": [
      "Before mask shape: (512, 512)\n",
      "After mask shape: (512, 512)\n",
      "Before crop shape: (4, 512, 512)\n",
      "After crop shape: (4, 512, 512)\n"
     ]
    },
    {
     "name": "stderr",
     "output_type": "stream",
     "text": [
      "371it [00:48,  7.60it/s]"
     ]
    },
    {
     "name": "stdout",
     "output_type": "stream",
     "text": [
      "Before mask shape: (512, 512)\n",
      "After mask shape: (512, 512)\n",
      "Before crop shape: (4, 512, 512)\n",
      "After crop shape: (4, 512, 512)\n"
     ]
    },
    {
     "name": "stderr",
     "output_type": "stream",
     "text": [
      "372it [00:48,  7.61it/s]"
     ]
    },
    {
     "name": "stdout",
     "output_type": "stream",
     "text": [
      "Before mask shape: (512, 512)\n",
      "After mask shape: (512, 512)\n",
      "Before crop shape: (4, 512, 512)\n",
      "After crop shape: (4, 512, 512)\n"
     ]
    },
    {
     "name": "stderr",
     "output_type": "stream",
     "text": [
      "373it [00:49,  7.61it/s]"
     ]
    },
    {
     "name": "stdout",
     "output_type": "stream",
     "text": [
      "Before mask shape: (512, 512)\n",
      "After mask shape: (512, 512)\n",
      "Before crop shape: (4, 512, 512)\n",
      "After crop shape: (4, 512, 512)\n"
     ]
    },
    {
     "name": "stderr",
     "output_type": "stream",
     "text": [
      "374it [00:49,  7.62it/s]"
     ]
    },
    {
     "name": "stdout",
     "output_type": "stream",
     "text": [
      "Before mask shape: (512, 512)\n",
      "After mask shape: (512, 512)\n",
      "Before crop shape: (4, 512, 512)\n",
      "After crop shape: (4, 512, 512)\n"
     ]
    },
    {
     "name": "stderr",
     "output_type": "stream",
     "text": [
      "375it [00:49,  7.61it/s]"
     ]
    },
    {
     "name": "stdout",
     "output_type": "stream",
     "text": [
      "Before mask shape: (512, 512)\n",
      "After mask shape: (512, 512)\n",
      "Before crop shape: (4, 512, 512)\n",
      "After crop shape: (4, 512, 512)\n"
     ]
    },
    {
     "name": "stderr",
     "output_type": "stream",
     "text": [
      "376it [00:49,  7.61it/s]"
     ]
    },
    {
     "name": "stdout",
     "output_type": "stream",
     "text": [
      "Before mask shape: (512, 512)\n",
      "After mask shape: (512, 512)\n",
      "Before crop shape: (4, 512, 512)\n",
      "After crop shape: (4, 512, 512)\n"
     ]
    },
    {
     "name": "stderr",
     "output_type": "stream",
     "text": [
      "377it [00:49,  7.62it/s]"
     ]
    },
    {
     "name": "stdout",
     "output_type": "stream",
     "text": [
      "Before mask shape: (512, 512)\n",
      "After mask shape: (512, 512)\n",
      "Before crop shape: (4, 512, 512)\n",
      "After crop shape: (4, 512, 512)\n"
     ]
    },
    {
     "name": "stderr",
     "output_type": "stream",
     "text": [
      "378it [00:49,  7.61it/s]"
     ]
    },
    {
     "name": "stdout",
     "output_type": "stream",
     "text": [
      "Before mask shape: (512, 512)\n",
      "After mask shape: (512, 512)\n",
      "Before crop shape: (4, 512, 512)\n",
      "After crop shape: (4, 512, 512)\n"
     ]
    },
    {
     "name": "stderr",
     "output_type": "stream",
     "text": [
      "379it [00:49,  7.62it/s]"
     ]
    },
    {
     "name": "stdout",
     "output_type": "stream",
     "text": [
      "Before mask shape: (512, 512)\n",
      "After mask shape: (512, 512)\n",
      "Before crop shape: (4, 512, 512)\n",
      "After crop shape: (4, 512, 402)\n"
     ]
    },
    {
     "name": "stderr",
     "output_type": "stream",
     "text": [
      "380it [00:50,  7.61it/s]"
     ]
    },
    {
     "name": "stdout",
     "output_type": "stream",
     "text": [
      "Before mask shape: (512, 402)\n",
      "After mask shape: (512, 402)\n",
      "Before crop shape: (4, 512, 512)\n",
      "After crop shape: (4, 512, 512)\n"
     ]
    },
    {
     "name": "stderr",
     "output_type": "stream",
     "text": [
      "381it [00:50,  7.06it/s]"
     ]
    },
    {
     "name": "stdout",
     "output_type": "stream",
     "text": [
      "Before mask shape: (512, 512)\n",
      "After mask shape: (512, 512)\n",
      "Before crop shape: (4, 512, 512)\n",
      "After crop shape: (4, 512, 512)\n"
     ]
    },
    {
     "name": "stderr",
     "output_type": "stream",
     "text": [
      "382it [00:50,  7.22it/s]"
     ]
    },
    {
     "name": "stdout",
     "output_type": "stream",
     "text": [
      "Before mask shape: (512, 512)\n",
      "After mask shape: (512, 512)\n",
      "Before crop shape: (4, 512, 512)\n",
      "After crop shape: (4, 512, 512)\n"
     ]
    },
    {
     "name": "stderr",
     "output_type": "stream",
     "text": [
      "383it [00:50,  7.33it/s]"
     ]
    },
    {
     "name": "stdout",
     "output_type": "stream",
     "text": [
      "Before mask shape: (512, 512)\n",
      "After mask shape: (512, 512)\n",
      "Before crop shape: (4, 512, 512)\n",
      "After crop shape: (4, 512, 512)\n"
     ]
    },
    {
     "name": "stderr",
     "output_type": "stream",
     "text": [
      "384it [00:50,  7.40it/s]"
     ]
    },
    {
     "name": "stdout",
     "output_type": "stream",
     "text": [
      "Before mask shape: (512, 512)\n",
      "After mask shape: (512, 512)\n",
      "Before crop shape: (4, 512, 512)\n",
      "After crop shape: (4, 512, 512)\n"
     ]
    },
    {
     "name": "stderr",
     "output_type": "stream",
     "text": [
      "385it [00:50,  7.46it/s]"
     ]
    },
    {
     "name": "stdout",
     "output_type": "stream",
     "text": [
      "Before mask shape: (512, 512)\n",
      "After mask shape: (512, 512)\n",
      "Before crop shape: (4, 512, 512)\n",
      "After crop shape: (4, 512, 512)\n"
     ]
    },
    {
     "name": "stderr",
     "output_type": "stream",
     "text": [
      "386it [00:50,  7.51it/s]"
     ]
    },
    {
     "name": "stdout",
     "output_type": "stream",
     "text": [
      "Before mask shape: (512, 512)\n",
      "After mask shape: (512, 512)\n",
      "Before crop shape: (4, 512, 512)\n",
      "After crop shape: (4, 512, 512)\n"
     ]
    },
    {
     "name": "stderr",
     "output_type": "stream",
     "text": [
      "387it [00:50,  7.54it/s]"
     ]
    },
    {
     "name": "stdout",
     "output_type": "stream",
     "text": [
      "Before mask shape: (512, 512)\n",
      "After mask shape: (512, 512)\n",
      "Before crop shape: (4, 512, 512)\n",
      "After crop shape: (4, 512, 512)\n"
     ]
    },
    {
     "name": "stderr",
     "output_type": "stream",
     "text": [
      "388it [00:51,  7.55it/s]"
     ]
    },
    {
     "name": "stdout",
     "output_type": "stream",
     "text": [
      "Before mask shape: (512, 512)\n",
      "After mask shape: (512, 512)\n",
      "Before crop shape: (4, 512, 512)\n",
      "After crop shape: (4, 512, 512)\n"
     ]
    },
    {
     "name": "stderr",
     "output_type": "stream",
     "text": [
      "389it [00:51,  7.57it/s]"
     ]
    },
    {
     "name": "stdout",
     "output_type": "stream",
     "text": [
      "Before mask shape: (512, 512)\n",
      "After mask shape: (512, 512)\n",
      "Before crop shape: (4, 512, 512)\n",
      "After crop shape: (4, 512, 512)\n"
     ]
    },
    {
     "name": "stderr",
     "output_type": "stream",
     "text": [
      "390it [00:51,  7.58it/s]"
     ]
    },
    {
     "name": "stdout",
     "output_type": "stream",
     "text": [
      "Before mask shape: (512, 512)\n",
      "After mask shape: (512, 512)\n",
      "Before crop shape: (4, 512, 512)\n",
      "After crop shape: (4, 512, 512)\n"
     ]
    },
    {
     "name": "stderr",
     "output_type": "stream",
     "text": [
      "391it [00:51,  7.59it/s]"
     ]
    },
    {
     "name": "stdout",
     "output_type": "stream",
     "text": [
      "Before mask shape: (512, 512)\n",
      "After mask shape: (512, 512)\n",
      "Before crop shape: (4, 512, 512)\n",
      "After crop shape: (4, 512, 512)\n"
     ]
    },
    {
     "name": "stderr",
     "output_type": "stream",
     "text": [
      "392it [00:51,  7.57it/s]"
     ]
    },
    {
     "name": "stdout",
     "output_type": "stream",
     "text": [
      "Before mask shape: (512, 512)\n",
      "After mask shape: (512, 512)\n",
      "Before crop shape: (4, 512, 512)\n",
      "After crop shape: (4, 512, 512)\n"
     ]
    },
    {
     "name": "stderr",
     "output_type": "stream",
     "text": [
      "393it [00:51,  7.59it/s]"
     ]
    },
    {
     "name": "stdout",
     "output_type": "stream",
     "text": [
      "Before mask shape: (512, 512)\n",
      "After mask shape: (512, 512)\n",
      "Before crop shape: (4, 512, 512)\n",
      "After crop shape: (4, 512, 512)\n"
     ]
    },
    {
     "name": "stderr",
     "output_type": "stream",
     "text": [
      "394it [00:51,  7.59it/s]"
     ]
    },
    {
     "name": "stdout",
     "output_type": "stream",
     "text": [
      "Before mask shape: (512, 512)\n",
      "After mask shape: (512, 512)\n",
      "Before crop shape: (4, 512, 512)\n",
      "After crop shape: (4, 512, 512)\n"
     ]
    },
    {
     "name": "stderr",
     "output_type": "stream",
     "text": [
      "395it [00:52,  7.59it/s]"
     ]
    },
    {
     "name": "stdout",
     "output_type": "stream",
     "text": [
      "Before mask shape: (512, 512)\n",
      "After mask shape: (512, 512)\n",
      "Before crop shape: (4, 512, 512)\n",
      "After crop shape: (4, 512, 512)\n"
     ]
    },
    {
     "name": "stderr",
     "output_type": "stream",
     "text": [
      "396it [00:52,  7.61it/s]"
     ]
    },
    {
     "name": "stdout",
     "output_type": "stream",
     "text": [
      "Before mask shape: (512, 512)\n",
      "After mask shape: (512, 512)\n",
      "Before crop shape: (4, 512, 512)\n",
      "After crop shape: (4, 512, 512)\n"
     ]
    },
    {
     "name": "stderr",
     "output_type": "stream",
     "text": [
      "397it [00:52,  7.60it/s]"
     ]
    },
    {
     "name": "stdout",
     "output_type": "stream",
     "text": [
      "Before mask shape: (512, 512)\n",
      "After mask shape: (512, 512)\n",
      "Before crop shape: (4, 512, 512)\n",
      "After crop shape: (4, 512, 512)\n"
     ]
    },
    {
     "name": "stderr",
     "output_type": "stream",
     "text": [
      "398it [00:52,  7.61it/s]"
     ]
    },
    {
     "name": "stdout",
     "output_type": "stream",
     "text": [
      "Before mask shape: (512, 512)\n",
      "After mask shape: (512, 512)\n",
      "Before crop shape: (4, 512, 512)\n",
      "After crop shape: (4, 512, 512)\n"
     ]
    },
    {
     "name": "stderr",
     "output_type": "stream",
     "text": [
      "399it [00:52,  7.61it/s]"
     ]
    },
    {
     "name": "stdout",
     "output_type": "stream",
     "text": [
      "Before mask shape: (512, 512)\n",
      "After mask shape: (512, 512)\n",
      "Before crop shape: (4, 512, 512)\n",
      "After crop shape: (4, 512, 402)\n"
     ]
    },
    {
     "name": "stderr",
     "output_type": "stream",
     "text": [
      "400it [00:52,  7.60it/s]"
     ]
    },
    {
     "name": "stdout",
     "output_type": "stream",
     "text": [
      "Before mask shape: (512, 402)\n",
      "After mask shape: (512, 402)\n",
      "Before crop shape: (4, 512, 512)\n",
      "After crop shape: (4, 512, 512)\n"
     ]
    },
    {
     "name": "stderr",
     "output_type": "stream",
     "text": [
      "401it [00:52,  6.67it/s]"
     ]
    },
    {
     "name": "stdout",
     "output_type": "stream",
     "text": [
      "Before mask shape: (512, 512)\n",
      "After mask shape: (512, 512)\n",
      "Before crop shape: (4, 512, 512)\n",
      "After crop shape: (4, 512, 512)\n"
     ]
    },
    {
     "name": "stderr",
     "output_type": "stream",
     "text": [
      "402it [00:52,  6.91it/s]"
     ]
    },
    {
     "name": "stdout",
     "output_type": "stream",
     "text": [
      "Before mask shape: (512, 512)\n",
      "After mask shape: (512, 512)\n",
      "Before crop shape: (4, 512, 512)\n",
      "After crop shape: (4, 512, 512)\n"
     ]
    },
    {
     "name": "stderr",
     "output_type": "stream",
     "text": [
      "403it [00:53,  7.11it/s]"
     ]
    },
    {
     "name": "stdout",
     "output_type": "stream",
     "text": [
      "Before mask shape: (512, 512)\n",
      "After mask shape: (512, 512)\n",
      "Before crop shape: (4, 512, 512)\n",
      "After crop shape: (4, 512, 512)\n"
     ]
    },
    {
     "name": "stderr",
     "output_type": "stream",
     "text": [
      "404it [00:53,  7.24it/s]"
     ]
    },
    {
     "name": "stdout",
     "output_type": "stream",
     "text": [
      "Before mask shape: (512, 512)\n",
      "After mask shape: (512, 512)\n",
      "Before crop shape: (4, 512, 512)\n",
      "After crop shape: (4, 512, 512)\n"
     ]
    },
    {
     "name": "stderr",
     "output_type": "stream",
     "text": [
      "405it [00:53,  7.32it/s]"
     ]
    },
    {
     "name": "stdout",
     "output_type": "stream",
     "text": [
      "Before mask shape: (512, 512)\n",
      "After mask shape: (512, 512)\n",
      "Before crop shape: (4, 512, 512)\n",
      "After crop shape: (4, 512, 512)\n"
     ]
    },
    {
     "name": "stderr",
     "output_type": "stream",
     "text": [
      "406it [00:53,  7.39it/s]"
     ]
    },
    {
     "name": "stdout",
     "output_type": "stream",
     "text": [
      "Before mask shape: (512, 512)\n",
      "After mask shape: (512, 512)\n",
      "Before crop shape: (4, 512, 512)\n",
      "After crop shape: (4, 512, 512)\n"
     ]
    },
    {
     "name": "stderr",
     "output_type": "stream",
     "text": [
      "407it [00:53,  7.44it/s]"
     ]
    },
    {
     "name": "stdout",
     "output_type": "stream",
     "text": [
      "Before mask shape: (512, 512)\n",
      "After mask shape: (512, 512)\n",
      "Before crop shape: (4, 512, 512)\n",
      "After crop shape: (4, 512, 512)\n"
     ]
    },
    {
     "name": "stderr",
     "output_type": "stream",
     "text": [
      "408it [00:53,  7.49it/s]"
     ]
    },
    {
     "name": "stdout",
     "output_type": "stream",
     "text": [
      "Before mask shape: (512, 512)\n",
      "After mask shape: (512, 512)\n",
      "Before crop shape: (4, 512, 512)\n",
      "After crop shape: (4, 512, 512)\n"
     ]
    },
    {
     "name": "stderr",
     "output_type": "stream",
     "text": [
      "409it [00:53,  7.52it/s]"
     ]
    },
    {
     "name": "stdout",
     "output_type": "stream",
     "text": [
      "Before mask shape: (512, 512)\n",
      "After mask shape: (512, 512)\n",
      "Before crop shape: (4, 512, 512)\n",
      "After crop shape: (4, 512, 512)\n"
     ]
    },
    {
     "name": "stderr",
     "output_type": "stream",
     "text": [
      "410it [00:54,  7.54it/s]"
     ]
    },
    {
     "name": "stdout",
     "output_type": "stream",
     "text": [
      "Before mask shape: (512, 512)\n",
      "After mask shape: (512, 512)\n",
      "Before crop shape: (4, 512, 512)\n",
      "After crop shape: (4, 512, 512)\n"
     ]
    },
    {
     "name": "stderr",
     "output_type": "stream",
     "text": [
      "411it [00:54,  7.54it/s]"
     ]
    },
    {
     "name": "stdout",
     "output_type": "stream",
     "text": [
      "Before mask shape: (512, 512)\n",
      "After mask shape: (512, 512)\n",
      "Before crop shape: (4, 512, 512)\n",
      "After crop shape: (4, 512, 512)\n"
     ]
    },
    {
     "name": "stderr",
     "output_type": "stream",
     "text": [
      "412it [00:54,  7.56it/s]"
     ]
    },
    {
     "name": "stdout",
     "output_type": "stream",
     "text": [
      "Before mask shape: (512, 512)\n",
      "After mask shape: (512, 512)\n",
      "Before crop shape: (4, 512, 512)\n",
      "After crop shape: (4, 512, 512)\n"
     ]
    },
    {
     "name": "stderr",
     "output_type": "stream",
     "text": [
      "413it [00:54,  7.57it/s]"
     ]
    },
    {
     "name": "stdout",
     "output_type": "stream",
     "text": [
      "Before mask shape: (512, 512)\n",
      "After mask shape: (512, 512)\n",
      "Before crop shape: (4, 512, 512)\n",
      "After crop shape: (4, 512, 512)\n"
     ]
    },
    {
     "name": "stderr",
     "output_type": "stream",
     "text": [
      "414it [00:54,  7.58it/s]"
     ]
    },
    {
     "name": "stdout",
     "output_type": "stream",
     "text": [
      "Before mask shape: (512, 512)\n",
      "After mask shape: (512, 512)\n",
      "Before crop shape: (4, 512, 512)\n",
      "After crop shape: (4, 512, 512)\n"
     ]
    },
    {
     "name": "stderr",
     "output_type": "stream",
     "text": [
      "415it [00:54,  7.58it/s]"
     ]
    },
    {
     "name": "stdout",
     "output_type": "stream",
     "text": [
      "Before mask shape: (512, 512)\n",
      "After mask shape: (512, 512)\n",
      "Before crop shape: (4, 512, 512)\n",
      "After crop shape: (4, 512, 512)\n"
     ]
    },
    {
     "name": "stderr",
     "output_type": "stream",
     "text": [
      "416it [00:54,  7.58it/s]"
     ]
    },
    {
     "name": "stdout",
     "output_type": "stream",
     "text": [
      "Before mask shape: (512, 512)\n",
      "After mask shape: (512, 512)\n",
      "Before crop shape: (4, 512, 512)\n",
      "After crop shape: (4, 512, 512)\n"
     ]
    },
    {
     "name": "stderr",
     "output_type": "stream",
     "text": [
      "417it [00:54,  7.58it/s]"
     ]
    },
    {
     "name": "stdout",
     "output_type": "stream",
     "text": [
      "Before mask shape: (512, 512)\n",
      "After mask shape: (512, 512)\n",
      "Before crop shape: (4, 512, 512)\n",
      "After crop shape: (4, 512, 512)\n"
     ]
    },
    {
     "name": "stderr",
     "output_type": "stream",
     "text": [
      "418it [00:55,  7.58it/s]"
     ]
    },
    {
     "name": "stdout",
     "output_type": "stream",
     "text": [
      "Before mask shape: (512, 512)\n",
      "After mask shape: (512, 512)\n",
      "Before crop shape: (4, 512, 512)\n",
      "After crop shape: (4, 512, 512)\n"
     ]
    },
    {
     "name": "stderr",
     "output_type": "stream",
     "text": [
      "419it [00:55,  7.52it/s]"
     ]
    },
    {
     "name": "stdout",
     "output_type": "stream",
     "text": [
      "Before mask shape: (512, 512)\n",
      "After mask shape: (512, 512)\n",
      "Before crop shape: (4, 512, 512)\n",
      "After crop shape: (4, 512, 402)\n"
     ]
    },
    {
     "name": "stderr",
     "output_type": "stream",
     "text": [
      "420it [00:55,  7.55it/s]"
     ]
    },
    {
     "name": "stdout",
     "output_type": "stream",
     "text": [
      "Before mask shape: (512, 402)\n",
      "After mask shape: (512, 402)\n",
      "Before crop shape: (4, 512, 512)\n",
      "After crop shape: (4, 512, 512)\n"
     ]
    },
    {
     "name": "stderr",
     "output_type": "stream",
     "text": [
      "421it [00:55,  6.99it/s]"
     ]
    },
    {
     "name": "stdout",
     "output_type": "stream",
     "text": [
      "Before mask shape: (512, 512)\n",
      "After mask shape: (512, 512)\n",
      "Before crop shape: (4, 512, 512)\n",
      "After crop shape: (4, 512, 512)\n"
     ]
    },
    {
     "name": "stderr",
     "output_type": "stream",
     "text": [
      "422it [00:55,  7.17it/s]"
     ]
    },
    {
     "name": "stdout",
     "output_type": "stream",
     "text": [
      "Before mask shape: (512, 512)\n",
      "After mask shape: (512, 512)\n",
      "Before crop shape: (4, 512, 512)\n",
      "After crop shape: (4, 512, 512)\n"
     ]
    },
    {
     "name": "stderr",
     "output_type": "stream",
     "text": [
      "423it [00:55,  7.29it/s]"
     ]
    },
    {
     "name": "stdout",
     "output_type": "stream",
     "text": [
      "Before mask shape: (512, 512)\n",
      "After mask shape: (512, 512)\n",
      "Before crop shape: (4, 512, 512)\n",
      "After crop shape: (4, 512, 512)\n"
     ]
    },
    {
     "name": "stderr",
     "output_type": "stream",
     "text": [
      "424it [00:55,  7.38it/s]"
     ]
    },
    {
     "name": "stdout",
     "output_type": "stream",
     "text": [
      "Before mask shape: (512, 512)\n",
      "After mask shape: (512, 512)\n",
      "Before crop shape: (4, 512, 512)\n",
      "After crop shape: (4, 512, 512)\n"
     ]
    },
    {
     "name": "stderr",
     "output_type": "stream",
     "text": [
      "425it [00:56,  7.44it/s]"
     ]
    },
    {
     "name": "stdout",
     "output_type": "stream",
     "text": [
      "Before mask shape: (512, 512)\n",
      "After mask shape: (512, 512)\n",
      "Before crop shape: (4, 512, 512)\n",
      "After crop shape: (4, 512, 512)\n"
     ]
    },
    {
     "name": "stderr",
     "output_type": "stream",
     "text": [
      "426it [00:56,  7.47it/s]"
     ]
    },
    {
     "name": "stdout",
     "output_type": "stream",
     "text": [
      "Before mask shape: (512, 512)\n",
      "After mask shape: (512, 512)\n",
      "Before crop shape: (4, 512, 512)\n",
      "After crop shape: (4, 512, 512)\n"
     ]
    },
    {
     "name": "stderr",
     "output_type": "stream",
     "text": [
      "427it [00:56,  7.49it/s]"
     ]
    },
    {
     "name": "stdout",
     "output_type": "stream",
     "text": [
      "Before mask shape: (512, 512)\n",
      "After mask shape: (512, 512)\n",
      "Before crop shape: (4, 512, 512)\n",
      "After crop shape: (4, 512, 512)\n"
     ]
    },
    {
     "name": "stderr",
     "output_type": "stream",
     "text": [
      "428it [00:56,  7.52it/s]"
     ]
    },
    {
     "name": "stdout",
     "output_type": "stream",
     "text": [
      "Before mask shape: (512, 512)\n",
      "After mask shape: (512, 512)\n",
      "Before crop shape: (4, 512, 512)\n",
      "After crop shape: (4, 512, 512)\n"
     ]
    },
    {
     "name": "stderr",
     "output_type": "stream",
     "text": [
      "429it [00:56,  7.52it/s]"
     ]
    },
    {
     "name": "stdout",
     "output_type": "stream",
     "text": [
      "Before mask shape: (512, 512)\n",
      "After mask shape: (512, 512)\n",
      "Before crop shape: (4, 512, 512)\n",
      "After crop shape: (4, 512, 512)\n"
     ]
    },
    {
     "name": "stderr",
     "output_type": "stream",
     "text": [
      "430it [00:56,  7.54it/s]"
     ]
    },
    {
     "name": "stdout",
     "output_type": "stream",
     "text": [
      "Before mask shape: (512, 512)\n",
      "After mask shape: (512, 512)\n",
      "Before crop shape: (4, 512, 512)\n",
      "After crop shape: (4, 512, 512)\n"
     ]
    },
    {
     "name": "stderr",
     "output_type": "stream",
     "text": [
      "431it [00:56,  7.55it/s]"
     ]
    },
    {
     "name": "stdout",
     "output_type": "stream",
     "text": [
      "Before mask shape: (512, 512)\n",
      "After mask shape: (512, 512)\n",
      "Before crop shape: (4, 512, 512)\n",
      "After crop shape: (4, 512, 512)\n"
     ]
    },
    {
     "name": "stderr",
     "output_type": "stream",
     "text": [
      "432it [00:56,  7.56it/s]"
     ]
    },
    {
     "name": "stdout",
     "output_type": "stream",
     "text": [
      "Before mask shape: (512, 512)\n",
      "After mask shape: (512, 512)\n",
      "Before crop shape: (4, 512, 512)\n",
      "After crop shape: (4, 512, 512)\n"
     ]
    },
    {
     "name": "stderr",
     "output_type": "stream",
     "text": [
      "433it [00:57,  7.57it/s]"
     ]
    },
    {
     "name": "stdout",
     "output_type": "stream",
     "text": [
      "Before mask shape: (512, 512)\n",
      "After mask shape: (512, 512)\n",
      "Before crop shape: (4, 512, 512)\n",
      "After crop shape: (4, 512, 512)\n"
     ]
    },
    {
     "name": "stderr",
     "output_type": "stream",
     "text": [
      "434it [00:57,  7.57it/s]"
     ]
    },
    {
     "name": "stdout",
     "output_type": "stream",
     "text": [
      "Before mask shape: (512, 512)\n",
      "After mask shape: (512, 512)\n",
      "Before crop shape: (4, 512, 512)\n",
      "After crop shape: (4, 512, 512)\n"
     ]
    },
    {
     "name": "stderr",
     "output_type": "stream",
     "text": [
      "435it [00:57,  7.58it/s]"
     ]
    },
    {
     "name": "stdout",
     "output_type": "stream",
     "text": [
      "Before mask shape: (512, 512)\n",
      "After mask shape: (512, 512)\n",
      "Before crop shape: (4, 512, 512)\n",
      "After crop shape: (4, 512, 512)\n"
     ]
    },
    {
     "name": "stderr",
     "output_type": "stream",
     "text": [
      "436it [00:57,  7.59it/s]"
     ]
    },
    {
     "name": "stdout",
     "output_type": "stream",
     "text": [
      "Before mask shape: (512, 512)\n",
      "After mask shape: (512, 512)\n",
      "Before crop shape: (4, 512, 512)\n",
      "After crop shape: (4, 512, 512)\n"
     ]
    },
    {
     "name": "stderr",
     "output_type": "stream",
     "text": [
      "437it [00:57,  7.58it/s]"
     ]
    },
    {
     "name": "stdout",
     "output_type": "stream",
     "text": [
      "Before mask shape: (512, 512)\n",
      "After mask shape: (512, 512)\n",
      "Before crop shape: (4, 512, 512)\n",
      "After crop shape: (4, 512, 512)\n"
     ]
    },
    {
     "name": "stderr",
     "output_type": "stream",
     "text": [
      "438it [00:57,  7.59it/s]"
     ]
    },
    {
     "name": "stdout",
     "output_type": "stream",
     "text": [
      "Before mask shape: (512, 512)\n",
      "After mask shape: (512, 512)\n",
      "Before crop shape: (4, 512, 512)\n",
      "After crop shape: (4, 512, 512)\n"
     ]
    },
    {
     "name": "stderr",
     "output_type": "stream",
     "text": [
      "439it [00:57,  7.59it/s]"
     ]
    },
    {
     "name": "stdout",
     "output_type": "stream",
     "text": [
      "Before mask shape: (512, 512)\n",
      "After mask shape: (512, 512)\n",
      "Before crop shape: (4, 512, 512)\n",
      "After crop shape: (4, 512, 402)\n"
     ]
    },
    {
     "name": "stderr",
     "output_type": "stream",
     "text": [
      "440it [00:58,  7.58it/s]"
     ]
    },
    {
     "name": "stdout",
     "output_type": "stream",
     "text": [
      "Before mask shape: (512, 402)\n",
      "After mask shape: (512, 402)\n",
      "Before crop shape: (4, 512, 512)\n",
      "After crop shape: (4, 512, 512)\n"
     ]
    },
    {
     "name": "stderr",
     "output_type": "stream",
     "text": [
      "441it [00:58,  7.04it/s]"
     ]
    },
    {
     "name": "stdout",
     "output_type": "stream",
     "text": [
      "Before mask shape: (512, 512)\n",
      "After mask shape: (512, 512)\n",
      "Before crop shape: (4, 512, 512)\n",
      "After crop shape: (4, 512, 512)\n"
     ]
    },
    {
     "name": "stderr",
     "output_type": "stream",
     "text": [
      "442it [00:58,  7.20it/s]"
     ]
    },
    {
     "name": "stdout",
     "output_type": "stream",
     "text": [
      "Before mask shape: (512, 512)\n",
      "After mask shape: (512, 512)\n",
      "Before crop shape: (4, 512, 512)\n",
      "After crop shape: (4, 512, 512)\n"
     ]
    },
    {
     "name": "stderr",
     "output_type": "stream",
     "text": [
      "443it [00:58,  7.31it/s]"
     ]
    },
    {
     "name": "stdout",
     "output_type": "stream",
     "text": [
      "Before mask shape: (512, 512)\n",
      "After mask shape: (512, 512)\n",
      "Before crop shape: (4, 512, 512)\n",
      "After crop shape: (4, 512, 512)\n"
     ]
    },
    {
     "name": "stderr",
     "output_type": "stream",
     "text": [
      "444it [00:58,  7.39it/s]"
     ]
    },
    {
     "name": "stdout",
     "output_type": "stream",
     "text": [
      "Before mask shape: (512, 512)\n",
      "After mask shape: (512, 512)\n",
      "Before crop shape: (4, 512, 512)\n",
      "After crop shape: (4, 512, 512)\n"
     ]
    },
    {
     "name": "stderr",
     "output_type": "stream",
     "text": [
      "445it [00:58,  7.45it/s]"
     ]
    },
    {
     "name": "stdout",
     "output_type": "stream",
     "text": [
      "Before mask shape: (512, 512)\n",
      "After mask shape: (512, 512)\n",
      "Before crop shape: (4, 512, 512)\n",
      "After crop shape: (4, 512, 512)\n"
     ]
    },
    {
     "name": "stderr",
     "output_type": "stream",
     "text": [
      "446it [00:58,  7.50it/s]"
     ]
    },
    {
     "name": "stdout",
     "output_type": "stream",
     "text": [
      "Before mask shape: (512, 512)\n",
      "After mask shape: (512, 512)\n",
      "Before crop shape: (4, 512, 512)\n",
      "After crop shape: (4, 512, 512)\n"
     ]
    },
    {
     "name": "stderr",
     "output_type": "stream",
     "text": [
      "447it [00:59,  7.53it/s]"
     ]
    },
    {
     "name": "stdout",
     "output_type": "stream",
     "text": [
      "Before mask shape: (512, 512)\n",
      "After mask shape: (512, 512)\n",
      "Before crop shape: (4, 512, 512)\n",
      "After crop shape: (4, 512, 512)\n"
     ]
    },
    {
     "name": "stderr",
     "output_type": "stream",
     "text": [
      "448it [00:59,  7.52it/s]"
     ]
    },
    {
     "name": "stdout",
     "output_type": "stream",
     "text": [
      "Before mask shape: (512, 512)\n",
      "After mask shape: (512, 512)\n",
      "Before crop shape: (4, 512, 512)\n",
      "After crop shape: (4, 512, 512)\n"
     ]
    },
    {
     "name": "stderr",
     "output_type": "stream",
     "text": [
      "449it [00:59,  7.54it/s]"
     ]
    },
    {
     "name": "stdout",
     "output_type": "stream",
     "text": [
      "Before mask shape: (512, 512)\n",
      "After mask shape: (512, 512)\n",
      "Before crop shape: (4, 512, 512)\n",
      "After crop shape: (4, 512, 512)\n"
     ]
    },
    {
     "name": "stderr",
     "output_type": "stream",
     "text": [
      "450it [00:59,  7.57it/s]"
     ]
    },
    {
     "name": "stdout",
     "output_type": "stream",
     "text": [
      "Before mask shape: (512, 512)\n",
      "After mask shape: (512, 512)\n",
      "Before crop shape: (4, 512, 512)\n",
      "After crop shape: (4, 512, 512)\n"
     ]
    },
    {
     "name": "stderr",
     "output_type": "stream",
     "text": [
      "451it [00:59,  7.57it/s]"
     ]
    },
    {
     "name": "stdout",
     "output_type": "stream",
     "text": [
      "Before mask shape: (512, 512)\n",
      "After mask shape: (512, 512)\n",
      "Before crop shape: (4, 512, 512)\n",
      "After crop shape: (4, 512, 512)\n"
     ]
    },
    {
     "name": "stderr",
     "output_type": "stream",
     "text": [
      "452it [00:59,  7.56it/s]"
     ]
    },
    {
     "name": "stdout",
     "output_type": "stream",
     "text": [
      "Before mask shape: (512, 512)\n",
      "After mask shape: (512, 512)\n",
      "Before crop shape: (4, 512, 512)\n",
      "After crop shape: (4, 512, 512)\n"
     ]
    },
    {
     "name": "stderr",
     "output_type": "stream",
     "text": [
      "453it [00:59,  7.56it/s]"
     ]
    },
    {
     "name": "stdout",
     "output_type": "stream",
     "text": [
      "Before mask shape: (512, 512)\n",
      "After mask shape: (512, 512)\n",
      "Before crop shape: (4, 512, 512)\n",
      "After crop shape: (4, 512, 512)\n"
     ]
    },
    {
     "name": "stderr",
     "output_type": "stream",
     "text": [
      "454it [00:59,  7.56it/s]"
     ]
    },
    {
     "name": "stdout",
     "output_type": "stream",
     "text": [
      "Before mask shape: (512, 512)\n",
      "After mask shape: (512, 512)\n",
      "Before crop shape: (4, 512, 512)\n",
      "After crop shape: (4, 512, 512)\n"
     ]
    },
    {
     "name": "stderr",
     "output_type": "stream",
     "text": [
      "455it [01:00,  7.57it/s]"
     ]
    },
    {
     "name": "stdout",
     "output_type": "stream",
     "text": [
      "Before mask shape: (512, 512)\n",
      "After mask shape: (512, 512)\n",
      "Before crop shape: (4, 512, 512)\n",
      "After crop shape: (4, 512, 512)\n"
     ]
    },
    {
     "name": "stderr",
     "output_type": "stream",
     "text": [
      "456it [01:00,  7.57it/s]"
     ]
    },
    {
     "name": "stdout",
     "output_type": "stream",
     "text": [
      "Before mask shape: (512, 512)\n",
      "After mask shape: (512, 512)\n",
      "Before crop shape: (4, 512, 512)\n",
      "After crop shape: (4, 512, 512)\n"
     ]
    },
    {
     "name": "stderr",
     "output_type": "stream",
     "text": [
      "457it [01:00,  7.57it/s]"
     ]
    },
    {
     "name": "stdout",
     "output_type": "stream",
     "text": [
      "Before mask shape: (512, 512)\n",
      "After mask shape: (512, 512)\n",
      "Before crop shape: (4, 512, 512)\n",
      "After crop shape: (4, 512, 512)\n"
     ]
    },
    {
     "name": "stderr",
     "output_type": "stream",
     "text": [
      "458it [01:00,  7.57it/s]"
     ]
    },
    {
     "name": "stdout",
     "output_type": "stream",
     "text": [
      "Before mask shape: (512, 512)\n",
      "After mask shape: (512, 512)\n",
      "Before crop shape: (4, 512, 512)\n",
      "After crop shape: (4, 512, 512)\n"
     ]
    },
    {
     "name": "stderr",
     "output_type": "stream",
     "text": [
      "459it [01:00,  7.57it/s]"
     ]
    },
    {
     "name": "stdout",
     "output_type": "stream",
     "text": [
      "Before mask shape: (512, 512)\n",
      "After mask shape: (512, 512)\n",
      "Before crop shape: (4, 512, 512)\n",
      "After crop shape: (4, 512, 402)\n"
     ]
    },
    {
     "name": "stderr",
     "output_type": "stream",
     "text": [
      "460it [01:00,  7.57it/s]"
     ]
    },
    {
     "name": "stdout",
     "output_type": "stream",
     "text": [
      "Before mask shape: (512, 402)\n",
      "After mask shape: (512, 402)\n",
      "Before crop shape: (4, 512, 512)\n",
      "After crop shape: (4, 512, 512)\n"
     ]
    },
    {
     "name": "stderr",
     "output_type": "stream",
     "text": [
      "461it [01:00,  6.96it/s]"
     ]
    },
    {
     "name": "stdout",
     "output_type": "stream",
     "text": [
      "Before mask shape: (512, 512)\n",
      "After mask shape: (512, 512)\n",
      "Before crop shape: (4, 512, 512)\n",
      "After crop shape: (4, 512, 512)\n"
     ]
    },
    {
     "name": "stderr",
     "output_type": "stream",
     "text": [
      "462it [01:01,  7.14it/s]"
     ]
    },
    {
     "name": "stdout",
     "output_type": "stream",
     "text": [
      "Before mask shape: (512, 512)\n",
      "After mask shape: (512, 512)\n",
      "Before crop shape: (4, 512, 512)\n",
      "After crop shape: (4, 512, 512)\n"
     ]
    },
    {
     "name": "stderr",
     "output_type": "stream",
     "text": [
      "463it [01:01,  7.25it/s]"
     ]
    },
    {
     "name": "stdout",
     "output_type": "stream",
     "text": [
      "Before mask shape: (512, 512)\n",
      "After mask shape: (512, 512)\n",
      "Before crop shape: (4, 512, 512)\n",
      "After crop shape: (4, 512, 512)\n"
     ]
    },
    {
     "name": "stderr",
     "output_type": "stream",
     "text": [
      "464it [01:01,  7.35it/s]"
     ]
    },
    {
     "name": "stdout",
     "output_type": "stream",
     "text": [
      "Before mask shape: (512, 512)\n",
      "After mask shape: (512, 512)\n",
      "Before crop shape: (4, 512, 512)\n",
      "After crop shape: (4, 512, 512)\n"
     ]
    },
    {
     "name": "stderr",
     "output_type": "stream",
     "text": [
      "465it [01:01,  7.42it/s]"
     ]
    },
    {
     "name": "stdout",
     "output_type": "stream",
     "text": [
      "Before mask shape: (512, 512)\n",
      "After mask shape: (512, 512)\n",
      "Before crop shape: (4, 512, 512)\n",
      "After crop shape: (4, 512, 512)\n"
     ]
    },
    {
     "name": "stderr",
     "output_type": "stream",
     "text": [
      "466it [01:01,  7.47it/s]"
     ]
    },
    {
     "name": "stdout",
     "output_type": "stream",
     "text": [
      "Before mask shape: (512, 512)\n",
      "After mask shape: (512, 512)\n",
      "Before crop shape: (4, 512, 512)\n",
      "After crop shape: (4, 512, 512)\n"
     ]
    },
    {
     "name": "stderr",
     "output_type": "stream",
     "text": [
      "467it [01:01,  7.51it/s]"
     ]
    },
    {
     "name": "stdout",
     "output_type": "stream",
     "text": [
      "Before mask shape: (512, 512)\n",
      "After mask shape: (512, 512)\n",
      "Before crop shape: (4, 512, 512)\n",
      "After crop shape: (4, 512, 512)\n"
     ]
    },
    {
     "name": "stderr",
     "output_type": "stream",
     "text": [
      "468it [01:01,  7.49it/s]"
     ]
    },
    {
     "name": "stdout",
     "output_type": "stream",
     "text": [
      "Before mask shape: (512, 512)\n",
      "After mask shape: (512, 512)\n",
      "Before crop shape: (4, 512, 512)\n",
      "After crop shape: (4, 512, 512)\n"
     ]
    },
    {
     "name": "stderr",
     "output_type": "stream",
     "text": [
      "469it [01:01,  7.52it/s]"
     ]
    },
    {
     "name": "stdout",
     "output_type": "stream",
     "text": [
      "Before mask shape: (512, 512)\n",
      "After mask shape: (512, 512)\n",
      "Before crop shape: (4, 512, 512)\n",
      "After crop shape: (4, 512, 512)\n"
     ]
    },
    {
     "name": "stderr",
     "output_type": "stream",
     "text": [
      "470it [01:02,  7.53it/s]"
     ]
    },
    {
     "name": "stdout",
     "output_type": "stream",
     "text": [
      "Before mask shape: (512, 512)\n",
      "After mask shape: (512, 512)\n",
      "Before crop shape: (4, 512, 512)\n",
      "After crop shape: (4, 512, 512)\n"
     ]
    },
    {
     "name": "stderr",
     "output_type": "stream",
     "text": [
      "471it [01:02,  7.54it/s]"
     ]
    },
    {
     "name": "stdout",
     "output_type": "stream",
     "text": [
      "Before mask shape: (512, 512)\n",
      "After mask shape: (512, 512)\n",
      "Before crop shape: (4, 512, 512)\n",
      "After crop shape: (4, 512, 512)\n"
     ]
    },
    {
     "name": "stderr",
     "output_type": "stream",
     "text": [
      "472it [01:02,  7.56it/s]"
     ]
    },
    {
     "name": "stdout",
     "output_type": "stream",
     "text": [
      "Before mask shape: (512, 512)\n",
      "After mask shape: (512, 512)\n",
      "Before crop shape: (4, 512, 512)\n",
      "After crop shape: (4, 512, 512)\n"
     ]
    },
    {
     "name": "stderr",
     "output_type": "stream",
     "text": [
      "473it [01:02,  7.56it/s]"
     ]
    },
    {
     "name": "stdout",
     "output_type": "stream",
     "text": [
      "Before mask shape: (512, 512)\n",
      "After mask shape: (512, 512)\n",
      "Before crop shape: (4, 512, 512)\n",
      "After crop shape: (4, 512, 512)\n"
     ]
    },
    {
     "name": "stderr",
     "output_type": "stream",
     "text": [
      "474it [01:02,  7.57it/s]"
     ]
    },
    {
     "name": "stdout",
     "output_type": "stream",
     "text": [
      "Before mask shape: (512, 512)\n",
      "After mask shape: (512, 512)\n",
      "Before crop shape: (4, 512, 512)\n",
      "After crop shape: (4, 512, 512)\n"
     ]
    },
    {
     "name": "stderr",
     "output_type": "stream",
     "text": [
      "475it [01:02,  7.57it/s]"
     ]
    },
    {
     "name": "stdout",
     "output_type": "stream",
     "text": [
      "Before mask shape: (512, 512)\n",
      "After mask shape: (512, 512)\n",
      "Before crop shape: (4, 512, 512)\n",
      "After crop shape: (4, 512, 512)\n"
     ]
    },
    {
     "name": "stderr",
     "output_type": "stream",
     "text": [
      "476it [01:02,  7.57it/s]"
     ]
    },
    {
     "name": "stdout",
     "output_type": "stream",
     "text": [
      "Before mask shape: (512, 512)\n",
      "After mask shape: (512, 512)\n",
      "Before crop shape: (4, 512, 512)\n",
      "After crop shape: (4, 512, 512)\n"
     ]
    },
    {
     "name": "stderr",
     "output_type": "stream",
     "text": [
      "477it [01:03,  7.57it/s]"
     ]
    },
    {
     "name": "stdout",
     "output_type": "stream",
     "text": [
      "Before mask shape: (512, 512)\n",
      "After mask shape: (512, 512)\n",
      "Before crop shape: (4, 512, 512)\n",
      "After crop shape: (4, 512, 512)\n"
     ]
    },
    {
     "name": "stderr",
     "output_type": "stream",
     "text": [
      "478it [01:03,  7.57it/s]"
     ]
    },
    {
     "name": "stdout",
     "output_type": "stream",
     "text": [
      "Before mask shape: (512, 512)\n",
      "After mask shape: (512, 512)\n",
      "Before crop shape: (4, 512, 512)\n",
      "After crop shape: (4, 512, 512)\n"
     ]
    },
    {
     "name": "stderr",
     "output_type": "stream",
     "text": [
      "479it [01:03,  7.58it/s]"
     ]
    },
    {
     "name": "stdout",
     "output_type": "stream",
     "text": [
      "Before mask shape: (512, 512)\n",
      "After mask shape: (512, 512)\n",
      "Before crop shape: (4, 512, 512)\n",
      "After crop shape: (4, 512, 402)\n"
     ]
    },
    {
     "name": "stderr",
     "output_type": "stream",
     "text": [
      "480it [01:03,  7.57it/s]"
     ]
    },
    {
     "name": "stdout",
     "output_type": "stream",
     "text": [
      "Before mask shape: (512, 402)\n",
      "After mask shape: (512, 402)\n"
     ]
    },
    {
     "name": "stderr",
     "output_type": "stream",
     "text": [
      "\n"
     ]
    }
   ],
   "source": [
    "from tqdm import tqdm\n",
    "import numpy as np\n",
    "\n",
    "loss_map = []\n",
    "coords_map = []\n",
    "\n",
    "with rasterio.open(\"../data/naip_before.tif\") as src_before, \\\n",
    "     rasterio.open(\"../data/naip_after.tif\") as src_after:\n",
    "\n",
    "    width, height = src_before.width, src_before.height\n",
    "\n",
    "    for window, (x, y) in tqdm(get_tiles(width, height)):\n",
    "        before_crop = src_before.read(window=window)\n",
    "        after_crop  = src_after.read(window=window)\n",
    "        \n",
    "        # Debug: Check if crops have the same shape\n",
    "        print(f\"Before crop shape: {before_crop.shape}\")\n",
    "        print(f\"After crop shape: {after_crop.shape}\")\n",
    "\n",
    "        mask_before = segment_forest(model, before_crop)\n",
    "        mask_after  = segment_forest(model, after_crop)\n",
    "\n",
    "        # Get the minimum dimensions\n",
    "        min_h = min(mask_before.shape[0], mask_after.shape[0])\n",
    "        min_w = min(mask_before.shape[1], mask_after.shape[1])\n",
    "\n",
    "        # Crop both masks to the same size\n",
    "        mask_before = mask_before[:min_h, :min_w]\n",
    "        mask_after = mask_after[:min_h, :min_w]\n",
    "        \n",
    "        # Debug: Check if masks have the same shape\n",
    "        print(f\"Before mask shape: {mask_before.shape}\")\n",
    "        print(f\"After mask shape: {mask_after.shape}\")\n",
    "\n",
    "        loss = ((mask_before == 1) & (mask_after == 0)).sum()\n",
    "        total = (mask_before == 1).sum()\n",
    "        loss_percent = 100 * loss / total if total else 0\n",
    "\n",
    "        loss_map.append(loss_percent)\n",
    "        coords_map.append((x, y))"
   ]
  },
  {
   "cell_type": "code",
   "execution_count": 37,
   "id": "a6c229dc",
   "metadata": {},
   "outputs": [
    {
     "data": {
      "image/png": "[encoded data removed]",
      "text/plain": [
       "<Figure size 1000x800 with 2 Axes>"
      ]
     },
     "metadata": {},
     "output_type": "display_data"
    }
   ],
   "source": [
    "import seaborn as sns\n",
    "import matplotlib.pyplot as plt\n",
    "\n",
    "# Convert to 2D grid\n",
    "grid_w = width // 512\n",
    "grid_h = height // 512\n",
    "heatmap = np.zeros((grid_h, grid_w))\n",
    "\n",
    "for (x, y), loss in zip(coords_map, loss_map):\n",
    "    col = x // 512\n",
    "    row = y // 512\n",
    "    heatmap[row, col] = loss\n",
    "\n",
    "plt.figure(figsize=(10, 8))\n",
    "sns.heatmap(heatmap, cmap=\"Reds\", vmin=0, vmax=100)\n",
    "plt.title(\"Forest Loss Heatmap (%)\")\n",
    "plt.show()\n"
   ]
  },
  {
   "cell_type": "code",
   "execution_count": 38,
   "id": "67cf95df",
   "metadata": {},
   "outputs": [],
   "source": [
    "import pandas as pd\n",
    "df = pd.DataFrame({\n",
    "    'x': [c[0] for c in coords_map],\n",
    "    'y': [c[1] for c in coords_map],\n",
    "    'loss_percent': loss_map\n",
    "})\n",
    "df.to_csv(\"forest_loss_grid.csv\", index=False)\n"
   ]
  },
  {
   "cell_type": "code",
   "execution_count": null,
   "id": "87054cc2",
   "metadata": {},
   "outputs": [],
   "source": []
  }
 ],
 "metadata": {
  "kernelspec": {
   "display_name": "greenvision",
   "language": "python",
   "name": "python3"
  },
  "language_info": {
   "codemirror_mode": {
    "name": "ipython",
    "version": 3
   },
   "file_extension": ".py",
   "mimetype": "text/x-python",
   "name": "python",
   "nbconvert_exporter": "python",
   "pygments_lexer": "ipython3",
   "version": "3.13.5"
  }
 },
 "nbformat": 4,
 "nbformat_minor": 5
}
